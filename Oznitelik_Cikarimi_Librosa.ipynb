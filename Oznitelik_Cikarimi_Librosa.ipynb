{
  "nbformat": 4,
  "nbformat_minor": 0,
  "metadata": {
    "colab": {
      "name": "Oznitelik Cikarimi Librosa",
      "provenance": [],
      "collapsed_sections": [],
      "mount_file_id": "1vcacTPH9hYvO6GGY99qgxI9lYyyLzlIH",
      "authorship_tag": "ABX9TyPDfu7676waXUCy1ifki593",
      "include_colab_link": true
    },
    "kernelspec": {
      "name": "python3",
      "display_name": "Python 3"
    },
    "language_info": {
      "name": "python"
    }
  },
  "cells": [
    {
      "cell_type": "markdown",
      "metadata": {
        "id": "view-in-github",
        "colab_type": "text"
      },
      "source": [
        "<a href=\"https://colab.research.google.com/github/ahmetnihat/ses_analizi/blob/main/Oznitelik_Cikarimi_Librosa.ipynb\" target=\"_parent\"><img src=\"https://colab.research.google.com/assets/colab-badge.svg\" alt=\"Open In Colab\"/></a>"
      ]
    },
    {
      "cell_type": "code",
      "metadata": {
        "id": "0fgBNr4HHl-T",
        "colab": {
          "base_uri": "https://localhost:8080/"
        },
        "outputId": "95ea6bba-8175-41f7-9ac1-5753c7b48de0"
      },
      "source": [
        "!pip install librosa\n"
      ],
      "execution_count": null,
      "outputs": [
        {
          "output_type": "stream",
          "name": "stdout",
          "text": [
            "Requirement already satisfied: librosa in /usr/local/lib/python3.7/dist-packages (0.8.1)\n",
            "Requirement already satisfied: packaging>=20.0 in /usr/local/lib/python3.7/dist-packages (from librosa) (21.0)\n",
            "Requirement already satisfied: scikit-learn!=0.19.0,>=0.14.0 in /usr/local/lib/python3.7/dist-packages (from librosa) (0.22.2.post1)\n",
            "Requirement already satisfied: pooch>=1.0 in /usr/local/lib/python3.7/dist-packages (from librosa) (1.5.1)\n",
            "Requirement already satisfied: joblib>=0.14 in /usr/local/lib/python3.7/dist-packages (from librosa) (1.0.1)\n",
            "Requirement already satisfied: scipy>=1.0.0 in /usr/local/lib/python3.7/dist-packages (from librosa) (1.4.1)\n",
            "Requirement already satisfied: decorator>=3.0.0 in /usr/local/lib/python3.7/dist-packages (from librosa) (4.4.2)\n",
            "Requirement already satisfied: soundfile>=0.10.2 in /usr/local/lib/python3.7/dist-packages (from librosa) (0.10.3.post1)\n",
            "Requirement already satisfied: numpy>=1.15.0 in /usr/local/lib/python3.7/dist-packages (from librosa) (1.19.5)\n",
            "Requirement already satisfied: resampy>=0.2.2 in /usr/local/lib/python3.7/dist-packages (from librosa) (0.2.2)\n",
            "Requirement already satisfied: audioread>=2.0.0 in /usr/local/lib/python3.7/dist-packages (from librosa) (2.1.9)\n",
            "Requirement already satisfied: numba>=0.43.0 in /usr/local/lib/python3.7/dist-packages (from librosa) (0.51.2)\n",
            "Requirement already satisfied: llvmlite<0.35,>=0.34.0.dev0 in /usr/local/lib/python3.7/dist-packages (from numba>=0.43.0->librosa) (0.34.0)\n",
            "Requirement already satisfied: setuptools in /usr/local/lib/python3.7/dist-packages (from numba>=0.43.0->librosa) (57.4.0)\n",
            "Requirement already satisfied: pyparsing>=2.0.2 in /usr/local/lib/python3.7/dist-packages (from packaging>=20.0->librosa) (2.4.7)\n",
            "Requirement already satisfied: requests in /usr/local/lib/python3.7/dist-packages (from pooch>=1.0->librosa) (2.23.0)\n",
            "Requirement already satisfied: appdirs in /usr/local/lib/python3.7/dist-packages (from pooch>=1.0->librosa) (1.4.4)\n",
            "Requirement already satisfied: six>=1.3 in /usr/local/lib/python3.7/dist-packages (from resampy>=0.2.2->librosa) (1.15.0)\n",
            "Requirement already satisfied: cffi>=1.0 in /usr/local/lib/python3.7/dist-packages (from soundfile>=0.10.2->librosa) (1.14.6)\n",
            "Requirement already satisfied: pycparser in /usr/local/lib/python3.7/dist-packages (from cffi>=1.0->soundfile>=0.10.2->librosa) (2.20)\n",
            "Requirement already satisfied: chardet<4,>=3.0.2 in /usr/local/lib/python3.7/dist-packages (from requests->pooch>=1.0->librosa) (3.0.4)\n",
            "Requirement already satisfied: certifi>=2017.4.17 in /usr/local/lib/python3.7/dist-packages (from requests->pooch>=1.0->librosa) (2021.5.30)\n",
            "Requirement already satisfied: urllib3!=1.25.0,!=1.25.1,<1.26,>=1.21.1 in /usr/local/lib/python3.7/dist-packages (from requests->pooch>=1.0->librosa) (1.24.3)\n",
            "Requirement already satisfied: idna<3,>=2.5 in /usr/local/lib/python3.7/dist-packages (from requests->pooch>=1.0->librosa) (2.10)\n"
          ]
        }
      ]
    },
    {
      "cell_type": "code",
      "metadata": {
        "id": "OK2_fJaje7_I"
      },
      "source": [
        "import os\n",
        "\n",
        "import numpy as np\n",
        "import pandas as pd\n",
        "import matplotlib.pyplot as plt\n",
        "import seaborn as sns\n",
        "\n",
        "# librosa is a Python library for analyzing audio and music.\n",
        "# It can be used to extract the data from the audio files we will see it later\n",
        "import librosa \n",
        "import librosa.display\n",
        "\n",
        "# to play the audio files\n",
        "from IPython.display import Audio"
      ],
      "execution_count": null,
      "outputs": []
    },
    {
      "cell_type": "code",
      "metadata": {
        "id": "aur4wtRsfAiX"
      },
      "source": [
        "import os\n",
        "import pandas as pd\n",
        "import numpy\n",
        "a=[]\n",
        "eklenecekveri = pd.DataFrame(a)\n",
        "s=[]\n",
        "sonn = pd.DataFrame(s)\n",
        "\n",
        "dizi= []\n",
        "dosya = os.scandir('/content/drive/MyDrive/Dataguncel/karisik200/')\n",
        "features = [\"fourier_tempo_frequencies\",\"tempo_frequencies\",\"mel_frequencies\",\"cqt_frequencies\",\"fft_frequencies\",\"chroma_stft\",\"chroma_cqt\",\"chroma_cens\",\"melspectrogram\",\"mfcc\",\"rms\",\"spectral_centroid\",\"spectral_bandwidth\",\"spectral_contrast\",\"spectral_flatness\",\"spectral_rolloff\",\"poly_features\",\"tonnetz\",\"zero_crossing_rate\"]\n",
        "\n",
        "for i in dosya:\n",
        "  dosya_isim = i.name\n",
        "  b = []\n",
        "  datas = pd.DataFrame(b)\n",
        "  ses = '/content/drive/MyDrive/Dataguncel/karisik200/' + dosya_isim\n",
        "  x,sr = librosa.load(ses)\n",
        "  print(\"x type:\",type(x),\"sr type\",type(sr))\n",
        "  print(x.shape,sr)\n",
        "  mfccs=librosa.feature.melspectrogram(y=x, sr=sr)\n",
        "  mfccs_processed = np.mean(mfccs.T,axis=0)\n",
        "  result = np.array(mfccs_processed)\n",
        "  mfkkk = pd.DataFrame(result)\n",
        "  mfkkk = mfkkk.transpose()\n",
        "  # dizi = y.to_numpy()\n",
        "  # dt = pd.DataFrame(dizi)\n",
        "  # print(dt)\n",
        "  for a in dosya_isim:\n",
        "  \n",
        "    datas = mfkkk.assign(Duygu = [\"human2\"])\n",
        "  dosya_isim = eklenecekveri.append(datas)\n",
        "  dizi.append(dosya_isim)\n",
        "\n",
        "\n",
        "  sonhal = pd.concat(dizi)\n",
        "  sonhal.to_csv(\"/content/drive/MyDrive/csvler/melspectr/slibrosaspeech2.csv\")\n",
        "    "
      ],
      "execution_count": null,
      "outputs": []
    },
    {
      "cell_type": "code",
      "metadata": {
        "id": "EnELvSSdZjeh"
      },
      "source": [
        "import os\n",
        "import pandas as pd\n",
        "import numpy\n",
        "a=[]\n",
        "eklenecekveri = pd.DataFrame(a)\n",
        "s=[]\n",
        "sonn = pd.DataFrame(s)\n",
        "\n",
        "dizi= []\n",
        "dosya = os.scandir('/content/drive/MyDrive/Dataguncel/cats/')\n",
        "features = [\"fourier_tempo_frequencies\",\"tempo_frequencies\",\"mel_frequencies\",\"cqt_frequencies\",\"fft_frequencies\",\"chroma_stft\",\"chroma_cqt\",\"chroma_cens\",\"melspectrogram\",\"mfcc\",\"rms\",\"spectral_centroid\",\"spectral_bandwidth\",\"spectral_contrast\",\"spectral_flatness\",\"spectral_rolloff\",\"poly_features\",\"tonnetz\",\"zero_crossing_rate\"]\n",
        "\n",
        "for i in dosya:\n",
        "  dosya_isim = i.name\n",
        "  b = []\n",
        "  datas = pd.DataFrame(b)\n",
        "  ses = '/content/drive/MyDrive/Dataguncel/cats/' + dosya_isim\n",
        "  x,sr = librosa.load(ses)\n",
        "  print(\"x type:\",type(x),\"sr type\",type(sr))\n",
        "  print(x.shape,sr)\n",
        "  mfccs=librosa.feature.melspectrogram(y=x, sr=sr)\n",
        "  mfccs_processed = np.mean(mfccs.T,axis=0)\n",
        "  result = np.array(mfccs_processed)\n",
        "  mfkkk = pd.DataFrame(result)\n",
        "  mfkkk = mfkkk.transpose()\n",
        "  # dizi = y.to_numpy()\n",
        "  # dt = pd.DataFrame(dizi)\n",
        "  # print(dt)\n",
        "  for a in dosya_isim:\n",
        "  \n",
        "    datas = mfkkk.assign(Duygu = [\"cats\"])\n",
        "  dosya_isim = eklenecekveri.append(datas)\n",
        "  dizi.append(dosya_isim)\n",
        "\n",
        "\n",
        "  sonhal = pd.concat(dizi)\n",
        "  sonhal.to_csv(\"/content/drive/MyDrive/csvler/melspectr/cats.csv\")\n",
        "    "
      ],
      "execution_count": null,
      "outputs": []
    },
    {
      "cell_type": "code",
      "metadata": {
        "id": "2QvZZ-cvZj6A"
      },
      "source": [
        "import os\n",
        "import pandas as pd\n",
        "import numpy\n",
        "a=[]\n",
        "eklenecekveri = pd.DataFrame(a)\n",
        "s=[]\n",
        "sonn = pd.DataFrame(s)\n",
        "\n",
        "dizi= []\n",
        "dosya = os.scandir('/content/drive/MyDrive/Dataguncel/dogs/')\n",
        "features = [\"fourier_tempo_frequencies\",\"tempo_frequencies\",\"mel_frequencies\",\"cqt_frequencies\",\"fft_frequencies\",\"chroma_stft\",\"chroma_cqt\",\"chroma_cens\",\"melspectrogram\",\"mfcc\",\"rms\",\"spectral_centroid\",\"spectral_bandwidth\",\"spectral_contrast\",\"spectral_flatness\",\"spectral_rolloff\",\"poly_features\",\"tonnetz\",\"zero_crossing_rate\"]\n",
        "\n",
        "for i in dosya:\n",
        "  dosya_isim = i.name\n",
        "  b = []\n",
        "  datas = pd.DataFrame(b)\n",
        "  ses = '/content/drive/MyDrive/Dataguncel/dogs/' + dosya_isim\n",
        "  x,sr = librosa.load(ses)\n",
        "  print(\"x type:\",type(x),\"sr type\",type(sr))\n",
        "  print(x.shape,sr)\n",
        "  mfccs=librosa.feature.melspectrogram(y=x, sr=sr)\n",
        "  mfccs_processed = np.mean(mfccs.T,axis=0)\n",
        "  result = np.array(mfccs_processed)\n",
        "  mfkkk = pd.DataFrame(result)\n",
        "  mfkkk = mfkkk.transpose()\n",
        "  # dizi = y.to_numpy()\n",
        "  # dt = pd.DataFrame(dizi)\n",
        "  # print(dt)\n",
        "  for a in dosya_isim:\n",
        "  \n",
        "    datas = mfkkk.assign(Duygu = [\"dogs\"])\n",
        "  dosya_isim = eklenecekveri.append(datas)\n",
        "  dizi.append(dosya_isim)\n",
        "\n",
        "\n",
        "  sonhal = pd.concat(dizi)\n",
        "  sonhal.to_csv(\"/content/drive/MyDrive/csvler/melspectr/dogs.csv\")\n",
        "    "
      ],
      "execution_count": null,
      "outputs": []
    },
    {
      "cell_type": "code",
      "metadata": {
        "id": "149xGviNZkYC"
      },
      "source": [
        "import os\n",
        "import pandas as pd\n",
        "import numpy\n",
        "a=[]\n",
        "eklenecekveri = pd.DataFrame(a)\n",
        "s=[]\n",
        "sonn = pd.DataFrame(s)\n",
        "\n",
        "dizi= []\n",
        "dosya = os.scandir('/content/drive/MyDrive/Dataguncel/ciglik/')\n",
        "features = [\"fourier_tempo_frequencies\",\"tempo_frequencies\",\"mel_frequencies\",\"cqt_frequencies\",\"fft_frequencies\",\"chroma_stft\",\"chroma_cqt\",\"chroma_cens\",\"melspectrogram\",\"mfcc\",\"rms\",\"spectral_centroid\",\"spectral_bandwidth\",\"spectral_contrast\",\"spectral_flatness\",\"spectral_rolloff\",\"poly_features\",\"tonnetz\",\"zero_crossing_rate\"]\n",
        "\n",
        "for i in dosya:\n",
        "  dosya_isim = i.name\n",
        "  b = []\n",
        "  datas = pd.DataFrame(b)\n",
        "  ses = '/content/drive/MyDrive/Dataguncel/ciglik/' + dosya_isim\n",
        "  x,sr = librosa.load(ses)\n",
        "  print(\"x type:\",type(x),\"sr type\",type(sr))\n",
        "  print(x.shape,sr)\n",
        "  mfccs=librosa.feature.melspectrogram(y=x, sr=sr)\n",
        "  mfccs_processed = np.mean(mfccs.T,axis=0)\n",
        "  result = np.array(mfccs_processed)\n",
        "  mfkkk = pd.DataFrame(result)\n",
        "  mfkkk = mfkkk.transpose()\n",
        "  # dizi = y.to_numpy()\n",
        "  # dt = pd.DataFrame(dizi)\n",
        "  # print(dt)\n",
        "  for a in dosya_isim:\n",
        "  \n",
        "    datas = mfkkk.assign(Duygu = [\"ciglik\"])\n",
        "  dosya_isim = eklenecekveri.append(datas)\n",
        "  dizi.append(dosya_isim)\n",
        "\n",
        "\n",
        "  sonhal = pd.concat(dizi)\n",
        "  sonhal.to_csv(\"/content/drive/MyDrive/csvler/melspectr/ciglik.csv\")\n",
        "    "
      ],
      "execution_count": null,
      "outputs": []
    },
    {
      "cell_type": "code",
      "metadata": {
        "id": "dwEyVwpQZ9BX"
      },
      "source": [
        "import os\n",
        "import pandas as pd\n",
        "import numpy\n",
        "a=[]\n",
        "eklenecekveri = pd.DataFrame(a)\n",
        "s=[]\n",
        "sonn = pd.DataFrame(s)\n",
        "\n",
        "dizi= []\n",
        "dosya = os.scandir('/content/drive/MyDrive/Dataguncel/nefes/')\n",
        "features = [\"fourier_tempo_frequencies\",\"tempo_frequencies\",\"mel_frequencies\",\"cqt_frequencies\",\"fft_frequencies\",\"chroma_stft\",\"chroma_cqt\",\"chroma_cens\",\"melspectrogram\",\"mfcc\",\"rms\",\"spectral_centroid\",\"spectral_bandwidth\",\"spectral_contrast\",\"spectral_flatness\",\"spectral_rolloff\",\"poly_features\",\"tonnetz\",\"zero_crossing_rate\"]\n",
        "\n",
        "for i in dosya:\n",
        "  dosya_isim = i.name\n",
        "  b = []\n",
        "  datas = pd.DataFrame(b)\n",
        "  ses = '/content/drive/MyDrive/Dataguncel/nefes/' + dosya_isim\n",
        "  x,sr = librosa.load(ses)\n",
        "  print(\"x type:\",type(x),\"sr type\",type(sr))\n",
        "  print(x.shape,sr)\n",
        "  mfccs=librosa.feature.melspectrogram(y=x, sr=sr)\n",
        "  mfccs_processed = np.mean(mfccs.T,axis=0)\n",
        "  result = np.array(mfccs_processed)\n",
        "  mfkkk = pd.DataFrame(result)\n",
        "  mfkkk = mfkkk.transpose()\n",
        "  # dizi = y.to_numpy()\n",
        "  # dt = pd.DataFrame(dizi)\n",
        "  # print(dt)\n",
        "  for a in dosya_isim:\n",
        "  \n",
        "    datas = mfkkk.assign(Duygu = [\"nefes\"])\n",
        "  dosya_isim = eklenecekveri.append(datas)\n",
        "  dizi.append(dosya_isim)\n",
        "\n",
        "\n",
        "  sonhal = pd.concat(dizi)\n",
        "  sonhal.to_csv(\"/content/drive/MyDrive/csvler/melspectr/nefes.csv\")\n",
        "    "
      ],
      "execution_count": null,
      "outputs": []
    },
    {
      "cell_type": "code",
      "metadata": {
        "id": "7v1MrNLNaARn"
      },
      "source": [
        "import os\n",
        "import pandas as pd\n",
        "import numpy\n",
        "a=[]\n",
        "eklenecekveri = pd.DataFrame(a)\n",
        "s=[]\n",
        "sonn = pd.DataFrame(s)\n",
        "\n",
        "dizi= []\n",
        "dosya = os.scandir('/content/drive/MyDrive/Dataguncel/oksurme/')\n",
        "features = [\"fourier_tempo_frequencies\",\"tempo_frequencies\",\"mel_frequencies\",\"cqt_frequencies\",\"fft_frequencies\",\"chroma_stft\",\"chroma_cqt\",\"chroma_cens\",\"melspectrogram\",\"mfcc\",\"rms\",\"spectral_centroid\",\"spectral_bandwidth\",\"spectral_contrast\",\"spectral_flatness\",\"spectral_rolloff\",\"poly_features\",\"tonnetz\",\"zero_crossing_rate\"]\n",
        "\n",
        "for i in dosya:\n",
        "  dosya_isim = i.name\n",
        "  b = []\n",
        "  datas = pd.DataFrame(b)\n",
        "  ses = '/content/drive/MyDrive/Dataguncel/oksurme/' + dosya_isim\n",
        "  x,sr = librosa.load(ses)\n",
        "  print(\"x type:\",type(x),\"sr type\",type(sr))\n",
        "  print(x.shape,sr)\n",
        "  mfccs=librosa.feature.melspectrogram(y=x, sr=sr)\n",
        "  mfccs_processed = np.mean(mfccs.T,axis=0)\n",
        "  result = np.array(mfccs_processed)\n",
        "  mfkkk = pd.DataFrame(result)\n",
        "  mfkkk = mfkkk.transpose()\n",
        "  # dizi = y.to_numpy()\n",
        "  # dt = pd.DataFrame(dizi)\n",
        "  # print(dt)\n",
        "  for a in dosya_isim:\n",
        "  \n",
        "    datas = mfkkk.assign(Duygu = [\"oksurme\"])\n",
        "  dosya_isim = eklenecekveri.append(datas)\n",
        "  dizi.append(dosya_isim)\n",
        "\n",
        "\n",
        "  sonhal = pd.concat(dizi)\n",
        "  sonhal.to_csv(\"/content/drive/MyDrive/csvler/melspectr/oksurme.csv\")\n",
        "    "
      ],
      "execution_count": null,
      "outputs": []
    },
    {
      "cell_type": "code",
      "metadata": {
        "colab": {
          "base_uri": "https://localhost:8080/"
        },
        "id": "hONGTymttYp5",
        "outputId": "169b749a-fa1b-444e-c4d4-e4d65ebac1a9"
      },
      "source": [
        "result"
      ],
      "execution_count": null,
      "outputs": [
        {
          "output_type": "execute_result",
          "data": {
            "text/plain": [
              "array([-933.8685   ,  718.75366  , -266.7475   , -108.93108  ,\n",
              "        -32.536594 ,  -55.800507 , -110.126015 ,    4.056626 ,\n",
              "       -141.11777  ,   35.31058  ,   27.806612 ,  -36.539146 ,\n",
              "         24.12087  ,    3.6763742,  -48.042248 ,  -86.42778  ,\n",
              "         26.728153 ,  -66.814476 ,  -26.339296 ,   -4.017762 ],\n",
              "      dtype=float32)"
            ]
          },
          "metadata": {},
          "execution_count": 29
        }
      ]
    },
    {
      "cell_type": "code",
      "metadata": {
        "id": "E-BQ7HbQ08IG"
      },
      "source": [
        "import pandas as pd\n",
        "\n",
        "veris = pd.read_csv(\"/content/drive/MyDrive/csvler/melspectr/oksurme.csv\")\n",
        "veris1 = pd.read_csv(\"/content/drive/MyDrive/csvler/melspectr/cats.csv\")\n",
        "veris2 = pd.read_csv(\"/content/drive/MyDrive/csvler/melspectr/dogs.csv\")\n",
        "veris3 = pd.read_csv(\"/content/drive/MyDrive/csvler/melspectr/nefes.csv\")\n",
        "veris4 = pd.read_csv(\"/content/drive/MyDrive/csvler/melspectr/slibrosaspeech.csv\")\n",
        "veris5 = pd.read_csv(\"/content/drive/MyDrive/csvler/melspectr/slibrosaspeech2.csv\")\n",
        "veris6 = pd.read_csv(\"/content/drive/MyDrive/csvler/melspectr/ciglik.csv\")\n",
        "\n",
        "\n",
        "verr = pd.concat([veris, veris1 , veris2, veris3, veris4, veris5, veris6])\n",
        "\n"
      ],
      "execution_count": null,
      "outputs": []
    },
    {
      "cell_type": "code",
      "metadata": {
        "id": "UivPAPz31QC7"
      },
      "source": [
        "verr.to_csv(\"/content/drive/MyDrive/csvler/melspectr/7li.csv\")\n"
      ],
      "execution_count": null,
      "outputs": []
    },
    {
      "cell_type": "markdown",
      "metadata": {
        "id": "Aju-q38ty8bG"
      },
      "source": [
        "#yedek"
      ]
    },
    {
      "cell_type": "code",
      "metadata": {
        "id": "SLfddo2Ny-NM"
      },
      "source": [
        "import os\n",
        "import pandas as pd\n",
        "import numpy\n",
        "a=[]\n",
        "eklenecekveri = pd.DataFrame(a)\n",
        "s=[]\n",
        "sonn = pd.DataFrame(s)\n",
        "\n",
        "dizi= []\n",
        "dosya = os.scandir('/content/drive/MyDrive/Data/speech/tr/200adetwav/')\n",
        "features = [\"fourier_tempo_frequencies\",\"tempo_frequencies\",\"mel_frequencies\",\"cqt_frequencies\",\"fft_frequencies\",\"chroma_stft\",\"chroma_cqt\",\"chroma_cens\",\"melspectrogram\",\"mfcc\",\"rms\",\"spectral_centroid\",\"spectral_bandwidth\",\"spectral_contrast\",\"spectral_flatness\",\"spectral_rolloff\",\"poly_features\",\"tonnetz\",\"zero_crossing_rate\"]\n",
        "\n",
        "for i in dosya:\n",
        "  dosya_isim = i.name\n",
        "  b = []\n",
        "  datas = pd.DataFrame(b)\n",
        "  ses = '/content/drive/MyDrive/Data/speech/tr/200adetwav/' + dosya_isim\n",
        "  x,sr = librosa.load(ses)\n",
        "  print(\"x type:\",type(x),\"sr type\",type(sr))\n",
        "  print(x.shape,sr)\n",
        "  mfccs=librosa.feature.melspectrogram(y=x, sr=sr)\n",
        "  mfccs_processed = np.mean(mfccs.T,axis=0)\n",
        "  result = np.array(mfccs_processed)\n",
        "  mfkkk = pd.DataFrame(result)\n",
        "  mfkkk = mfkkk.transpose()\n",
        "  # dizi = y.to_numpy()\n",
        "  # dt = pd.DataFrame(dizi)\n",
        "  # print(dt)\n",
        "  for a in dosya_isim:\n",
        "  \n",
        "    datas = mfkkk.assign(Duygu = [\"human\"])\n",
        "  dosya_isim = eklenecekveri.append(datas)\n",
        "  dizi.append(dosya_isim)\n",
        "\n",
        "\n",
        "  sonhal = pd.concat(dizi)\n",
        "  sonhal.to_csv(\"/content/drive/MyDrive/csvler/librosa/slibrosaspeech.csv\")\n",
        "    "
      ],
      "execution_count": null,
      "outputs": []
    }
  ]
}