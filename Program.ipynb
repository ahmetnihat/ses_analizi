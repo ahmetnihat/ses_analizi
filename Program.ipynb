{
  "nbformat": 4,
  "nbformat_minor": 0,
  "metadata": {
    "colab": {
      "name": "Program",
      "provenance": [],
      "toc_visible": true,
      "mount_file_id": "1JbWEyNpXxjbGHYV8ZwoGXIPedNHxs2xs",
      "authorship_tag": "ABX9TyPCRul6RKbFapQGGd7ZdsSM",
      "include_colab_link": true
    },
    "kernelspec": {
      "name": "python3",
      "display_name": "Python 3"
    },
    "language_info": {
      "name": "python"
    }
  },
  "cells": [
    {
      "cell_type": "markdown",
      "metadata": {
        "id": "view-in-github",
        "colab_type": "text"
      },
      "source": [
        "<a href=\"https://colab.research.google.com/github/ahmetnihat/ses_analizi/blob/main/Program.ipynb\" target=\"_parent\"><img src=\"https://colab.research.google.com/assets/colab-badge.svg\" alt=\"Open In Colab\"/></a>"
      ]
    },
    {
      "cell_type": "markdown",
      "metadata": {
        "id": "aVG0hR3ifbo2"
      },
      "source": [
        "# Program Gereklilikleri\n",
        "Program 3 adımdan oluşmaktadır.\n",
        "1-> insan sesiyle hayvan sesinin sınıflandırılması.\n",
        "2-> Eğer insan sesiyse türünün belirlenmesi(nefes sesi, konuşma sesi, öksürük sesi gibi)\n",
        "3->Eğer hayvan sesiyse hayvan türünün belirlenmesi(kedi, köpek)"
      ]
    },
    {
      "cell_type": "code",
      "metadata": {
        "id": "NXMCOE12f_ht"
      },
      "source": [
        ""
      ],
      "execution_count": null,
      "outputs": []
    },
    {
      "cell_type": "markdown",
      "metadata": {
        "id": "mrFb6ECDgBVW"
      },
      "source": [
        "## Başlarken\n"
      ]
    },
    {
      "cell_type": "markdown",
      "metadata": {
        "id": "9VRfNUEclIzQ"
      },
      "source": [
        "###İMPORTLAR"
      ]
    },
    {
      "cell_type": "code",
      "metadata": {
        "id": "VVrrTlu1lMyy"
      },
      "source": [
        "!pip install joblib\n",
        "\n",
        "import pandas as pd\n",
        "import numpy as np\n",
        "import matplotlib.pyplot as plt\n",
        "from sklearn.model_selection import train_test_split\n",
        "from sklearn.preprocessing import StandardScaler\n",
        "from sklearn.linear_model import LinearRegression\n",
        "import seaborn as sbn\n",
        "import tensorflow as tf\n",
        "from tensorflow.keras.models import Sequential\n",
        "from tensorflow.keras.layers import Dense, Activation, Dropout\n",
        "from tensorflow.keras.callbacks import EarlyStopping\n",
        "from sklearn import datasets, svm, metrics \n",
        "from sklearn.naive_bayes import GaussianNB\n",
        "from sklearn.preprocessing import MinMaxScaler\n",
        "from sklearn.metrics import classification_report, confusion_matrix \n",
        "from sklearn.metrics import accuracy_score\n",
        "from sklearn.tree import DecisionTreeClassifier\n",
        "from sklearn.metrics import f1_score,recall_score\n",
        "from sklearn.model_selection import cross_val_score\n",
        "from mlxtend.feature_selection import SequentialFeatureSelector as SFS\n",
        "import sklearn.feature_selection\n",
        "import numpy as np\n",
        "import matplotlib.pyplot as plt\n",
        "from itertools import cycle\n",
        "from sklearn.neighbors import KNeighborsClassifier\n",
        "from sklearn import svm, datasets\n",
        "from sklearn.metrics import roc_curve, auc\n",
        "from sklearn.model_selection import train_test_split\n",
        "from sklearn.preprocessing import label_binarize\n",
        "from sklearn.multiclass import OneVsRestClassifier\n",
        "from scipy import interp\n",
        "from sklearn.metrics import roc_auc_score\n",
        "from sklearn.linear_model import LogisticRegression\n",
        "from sklearn.tree import DecisionTreeRegressor\n",
        "from sklearn.metrics import ConfusionMatrixDisplay\n",
        "import joblib\n",
        "\n"
      ],
      "execution_count": null,
      "outputs": []
    },
    {
      "cell_type": "markdown",
      "metadata": {
        "id": "hopkTLJkhQOe"
      },
      "source": [
        "### İnsan mı?"
      ]
    },
    {
      "cell_type": "code",
      "metadata": {
        "id": "pLvH8-mBgGzE"
      },
      "source": [
        "dataFrame = pd.read_csv('/content/drive/MyDrive/csvler/librosasonmfcc127/librosa40nitelikhuman200.csv')\n",
        "dataFrame = dataFrame.drop(\"Unnamed: 0\", axis=1)\n",
        "dataFrame = dataFrame.drop(\"Unnamed: 0.1\", axis=1)\n",
        "dataFrame= dataFrame.replace(to_replace =\"human2\",value =1)\n",
        "#dataFrame= dataFrame.replace(to_replace =\"human\",value =1)\n",
        "dataFrame= dataFrame.replace(to_replace =\"oksurme\",value =1)\n",
        "dataFrame= dataFrame.replace(to_replace =\"nefes\",value =1)\n",
        "dataFrame= dataFrame.replace(to_replace =\"ciglik\",value =1)\n",
        "dataFrame= dataFrame.replace(to_replace =\"dogs\",value =5)\n",
        "dataFrame= dataFrame.replace(to_replace =\"cats\",value =5)"
      ],
      "execution_count": null,
      "outputs": []
    },
    {
      "cell_type": "code",
      "metadata": {
        "colab": {
          "base_uri": "https://localhost:8080/",
          "height": 428
        },
        "id": "1CDrZVsEeKVA",
        "outputId": "34d00c6f-0498-4651-edc5-9e3ea592d9fa"
      },
      "source": [
        "dataFrame"
      ],
      "execution_count": null,
      "outputs": [
        {
          "output_type": "execute_result",
          "data": {
            "text/html": [
              "<div>\n",
              "<style scoped>\n",
              "    .dataframe tbody tr th:only-of-type {\n",
              "        vertical-align: middle;\n",
              "    }\n",
              "\n",
              "    .dataframe tbody tr th {\n",
              "        vertical-align: top;\n",
              "    }\n",
              "\n",
              "    .dataframe thead th {\n",
              "        text-align: right;\n",
              "    }\n",
              "</style>\n",
              "<table border=\"1\" class=\"dataframe\">\n",
              "  <thead>\n",
              "    <tr style=\"text-align: right;\">\n",
              "      <th></th>\n",
              "      <th>0</th>\n",
              "      <th>1</th>\n",
              "      <th>2</th>\n",
              "      <th>3</th>\n",
              "      <th>4</th>\n",
              "      <th>5</th>\n",
              "      <th>6</th>\n",
              "      <th>7</th>\n",
              "      <th>8</th>\n",
              "      <th>9</th>\n",
              "      <th>10</th>\n",
              "      <th>11</th>\n",
              "      <th>12</th>\n",
              "      <th>13</th>\n",
              "      <th>14</th>\n",
              "      <th>15</th>\n",
              "      <th>16</th>\n",
              "      <th>17</th>\n",
              "      <th>18</th>\n",
              "      <th>19</th>\n",
              "      <th>20</th>\n",
              "      <th>21</th>\n",
              "      <th>22</th>\n",
              "      <th>23</th>\n",
              "      <th>24</th>\n",
              "      <th>25</th>\n",
              "      <th>26</th>\n",
              "      <th>27</th>\n",
              "      <th>28</th>\n",
              "      <th>29</th>\n",
              "      <th>30</th>\n",
              "      <th>31</th>\n",
              "      <th>32</th>\n",
              "      <th>33</th>\n",
              "      <th>34</th>\n",
              "      <th>35</th>\n",
              "      <th>36</th>\n",
              "      <th>37</th>\n",
              "      <th>38</th>\n",
              "      <th>39</th>\n",
              "      <th>...</th>\n",
              "      <th>89</th>\n",
              "      <th>90</th>\n",
              "      <th>91</th>\n",
              "      <th>92</th>\n",
              "      <th>93</th>\n",
              "      <th>94</th>\n",
              "      <th>95</th>\n",
              "      <th>96</th>\n",
              "      <th>97</th>\n",
              "      <th>98</th>\n",
              "      <th>99</th>\n",
              "      <th>100</th>\n",
              "      <th>101</th>\n",
              "      <th>102</th>\n",
              "      <th>103</th>\n",
              "      <th>104</th>\n",
              "      <th>105</th>\n",
              "      <th>106</th>\n",
              "      <th>107</th>\n",
              "      <th>108</th>\n",
              "      <th>109</th>\n",
              "      <th>110</th>\n",
              "      <th>111</th>\n",
              "      <th>112</th>\n",
              "      <th>113</th>\n",
              "      <th>114</th>\n",
              "      <th>115</th>\n",
              "      <th>116</th>\n",
              "      <th>117</th>\n",
              "      <th>118</th>\n",
              "      <th>119</th>\n",
              "      <th>120</th>\n",
              "      <th>121</th>\n",
              "      <th>122</th>\n",
              "      <th>123</th>\n",
              "      <th>124</th>\n",
              "      <th>125</th>\n",
              "      <th>126</th>\n",
              "      <th>127</th>\n",
              "      <th>Duygu</th>\n",
              "    </tr>\n",
              "  </thead>\n",
              "  <tbody>\n",
              "    <tr>\n",
              "      <th>0</th>\n",
              "      <td>-273.31912</td>\n",
              "      <td>124.515820</td>\n",
              "      <td>-42.301212</td>\n",
              "      <td>61.784035</td>\n",
              "      <td>-16.230396</td>\n",
              "      <td>41.390820</td>\n",
              "      <td>-13.816267</td>\n",
              "      <td>20.597937</td>\n",
              "      <td>-3.271545</td>\n",
              "      <td>11.048037</td>\n",
              "      <td>7.057570</td>\n",
              "      <td>-3.676232</td>\n",
              "      <td>6.633487</td>\n",
              "      <td>-8.980494</td>\n",
              "      <td>12.618555</td>\n",
              "      <td>-5.519738</td>\n",
              "      <td>8.346714</td>\n",
              "      <td>-5.004886</td>\n",
              "      <td>5.081195</td>\n",
              "      <td>-0.371369</td>\n",
              "      <td>0.653386</td>\n",
              "      <td>2.136835</td>\n",
              "      <td>-3.649660</td>\n",
              "      <td>6.193373</td>\n",
              "      <td>-4.211031</td>\n",
              "      <td>6.463951</td>\n",
              "      <td>-3.448202</td>\n",
              "      <td>4.002786</td>\n",
              "      <td>-0.565005</td>\n",
              "      <td>2.703055</td>\n",
              "      <td>1.730249</td>\n",
              "      <td>-1.214390</td>\n",
              "      <td>3.459827</td>\n",
              "      <td>-2.150386</td>\n",
              "      <td>4.143867</td>\n",
              "      <td>-2.217034</td>\n",
              "      <td>2.471958</td>\n",
              "      <td>-2.137485</td>\n",
              "      <td>1.494965</td>\n",
              "      <td>-0.800059</td>\n",
              "      <td>...</td>\n",
              "      <td>0.796429</td>\n",
              "      <td>-0.182416</td>\n",
              "      <td>0.256530</td>\n",
              "      <td>0.136644</td>\n",
              "      <td>-0.003028</td>\n",
              "      <td>0.308301</td>\n",
              "      <td>-0.343237</td>\n",
              "      <td>0.239103</td>\n",
              "      <td>-0.511328</td>\n",
              "      <td>0.191978</td>\n",
              "      <td>-0.436051</td>\n",
              "      <td>-0.159827</td>\n",
              "      <td>-0.252281</td>\n",
              "      <td>0.089238</td>\n",
              "      <td>0.449229</td>\n",
              "      <td>0.372804</td>\n",
              "      <td>0.468110</td>\n",
              "      <td>0.016228</td>\n",
              "      <td>0.197435</td>\n",
              "      <td>-0.395075</td>\n",
              "      <td>0.076685</td>\n",
              "      <td>0.050735</td>\n",
              "      <td>0.038830</td>\n",
              "      <td>-0.155067</td>\n",
              "      <td>-0.166392</td>\n",
              "      <td>-0.375096</td>\n",
              "      <td>-0.206102</td>\n",
              "      <td>0.130592</td>\n",
              "      <td>-0.029781</td>\n",
              "      <td>-0.147969</td>\n",
              "      <td>-0.093749</td>\n",
              "      <td>0.266813</td>\n",
              "      <td>-0.002094</td>\n",
              "      <td>-0.058204</td>\n",
              "      <td>-0.238205</td>\n",
              "      <td>0.153819</td>\n",
              "      <td>-0.152223</td>\n",
              "      <td>-0.124390</td>\n",
              "      <td>-0.033229</td>\n",
              "      <td>5</td>\n",
              "    </tr>\n",
              "    <tr>\n",
              "      <th>1</th>\n",
              "      <td>-370.46650</td>\n",
              "      <td>118.297240</td>\n",
              "      <td>12.055739</td>\n",
              "      <td>15.983206</td>\n",
              "      <td>16.898142</td>\n",
              "      <td>-1.128043</td>\n",
              "      <td>-7.200597</td>\n",
              "      <td>-2.861758</td>\n",
              "      <td>-13.110901</td>\n",
              "      <td>-12.339884</td>\n",
              "      <td>-1.653930</td>\n",
              "      <td>-9.342198</td>\n",
              "      <td>-11.906274</td>\n",
              "      <td>-7.098718</td>\n",
              "      <td>-9.608955</td>\n",
              "      <td>-9.242673</td>\n",
              "      <td>-5.124139</td>\n",
              "      <td>-6.686597</td>\n",
              "      <td>-7.851543</td>\n",
              "      <td>-8.323053</td>\n",
              "      <td>-6.084709</td>\n",
              "      <td>-5.679012</td>\n",
              "      <td>-7.193593</td>\n",
              "      <td>-3.566275</td>\n",
              "      <td>-5.742027</td>\n",
              "      <td>-6.415044</td>\n",
              "      <td>-3.884711</td>\n",
              "      <td>-6.117122</td>\n",
              "      <td>-5.436834</td>\n",
              "      <td>-3.729037</td>\n",
              "      <td>-2.810735</td>\n",
              "      <td>-1.863133</td>\n",
              "      <td>-2.922745</td>\n",
              "      <td>-0.901245</td>\n",
              "      <td>-0.189989</td>\n",
              "      <td>-1.840654</td>\n",
              "      <td>-1.172403</td>\n",
              "      <td>-3.682826</td>\n",
              "      <td>-2.730109</td>\n",
              "      <td>-0.089853</td>\n",
              "      <td>...</td>\n",
              "      <td>-0.087777</td>\n",
              "      <td>0.348274</td>\n",
              "      <td>-0.267027</td>\n",
              "      <td>-0.920184</td>\n",
              "      <td>-0.233017</td>\n",
              "      <td>-1.051931</td>\n",
              "      <td>-0.929779</td>\n",
              "      <td>-0.108409</td>\n",
              "      <td>-0.273637</td>\n",
              "      <td>0.016141</td>\n",
              "      <td>-0.552345</td>\n",
              "      <td>-0.723033</td>\n",
              "      <td>-0.294011</td>\n",
              "      <td>-0.419842</td>\n",
              "      <td>0.307758</td>\n",
              "      <td>0.064983</td>\n",
              "      <td>-0.677757</td>\n",
              "      <td>-0.997929</td>\n",
              "      <td>-1.519820</td>\n",
              "      <td>-0.760580</td>\n",
              "      <td>-0.365429</td>\n",
              "      <td>-0.347812</td>\n",
              "      <td>-0.055872</td>\n",
              "      <td>-0.711359</td>\n",
              "      <td>-0.631008</td>\n",
              "      <td>0.057093</td>\n",
              "      <td>0.311038</td>\n",
              "      <td>0.272184</td>\n",
              "      <td>-0.327448</td>\n",
              "      <td>-0.397818</td>\n",
              "      <td>-0.178957</td>\n",
              "      <td>0.045532</td>\n",
              "      <td>0.507973</td>\n",
              "      <td>0.070648</td>\n",
              "      <td>-0.015582</td>\n",
              "      <td>0.334819</td>\n",
              "      <td>0.277418</td>\n",
              "      <td>0.271589</td>\n",
              "      <td>-0.201193</td>\n",
              "      <td>5</td>\n",
              "    </tr>\n",
              "    <tr>\n",
              "      <th>2</th>\n",
              "      <td>-261.01425</td>\n",
              "      <td>68.592940</td>\n",
              "      <td>-68.434715</td>\n",
              "      <td>57.709450</td>\n",
              "      <td>-30.124811</td>\n",
              "      <td>17.513027</td>\n",
              "      <td>3.363291</td>\n",
              "      <td>11.571770</td>\n",
              "      <td>20.188723</td>\n",
              "      <td>26.534320</td>\n",
              "      <td>28.560873</td>\n",
              "      <td>8.683685</td>\n",
              "      <td>6.403881</td>\n",
              "      <td>-19.294655</td>\n",
              "      <td>-3.021282</td>\n",
              "      <td>7.622445</td>\n",
              "      <td>13.059220</td>\n",
              "      <td>1.393409</td>\n",
              "      <td>3.164120</td>\n",
              "      <td>21.346397</td>\n",
              "      <td>8.620008</td>\n",
              "      <td>-4.470624</td>\n",
              "      <td>-1.361741</td>\n",
              "      <td>5.988468</td>\n",
              "      <td>-2.476723</td>\n",
              "      <td>1.397181</td>\n",
              "      <td>10.426390</td>\n",
              "      <td>8.876681</td>\n",
              "      <td>0.711813</td>\n",
              "      <td>6.053598</td>\n",
              "      <td>5.976269</td>\n",
              "      <td>-4.834197</td>\n",
              "      <td>-0.056922</td>\n",
              "      <td>1.533594</td>\n",
              "      <td>-1.211875</td>\n",
              "      <td>1.858350</td>\n",
              "      <td>4.126156</td>\n",
              "      <td>-0.454451</td>\n",
              "      <td>1.121802</td>\n",
              "      <td>-2.397893</td>\n",
              "      <td>...</td>\n",
              "      <td>-0.256128</td>\n",
              "      <td>-0.183761</td>\n",
              "      <td>0.279925</td>\n",
              "      <td>-0.773994</td>\n",
              "      <td>-0.690241</td>\n",
              "      <td>-0.894491</td>\n",
              "      <td>-1.102064</td>\n",
              "      <td>-1.834586</td>\n",
              "      <td>-2.040775</td>\n",
              "      <td>0.055303</td>\n",
              "      <td>-1.189395</td>\n",
              "      <td>-1.593224</td>\n",
              "      <td>0.066786</td>\n",
              "      <td>-0.943414</td>\n",
              "      <td>-0.298192</td>\n",
              "      <td>-0.433134</td>\n",
              "      <td>-0.721036</td>\n",
              "      <td>-0.000181</td>\n",
              "      <td>-0.492151</td>\n",
              "      <td>-0.436395</td>\n",
              "      <td>0.188406</td>\n",
              "      <td>0.807988</td>\n",
              "      <td>0.440543</td>\n",
              "      <td>0.220551</td>\n",
              "      <td>0.179415</td>\n",
              "      <td>0.689293</td>\n",
              "      <td>0.738329</td>\n",
              "      <td>-0.079440</td>\n",
              "      <td>0.494343</td>\n",
              "      <td>0.554314</td>\n",
              "      <td>0.241723</td>\n",
              "      <td>-0.123639</td>\n",
              "      <td>0.144153</td>\n",
              "      <td>0.395776</td>\n",
              "      <td>0.099491</td>\n",
              "      <td>0.387946</td>\n",
              "      <td>0.152910</td>\n",
              "      <td>0.402486</td>\n",
              "      <td>0.230521</td>\n",
              "      <td>5</td>\n",
              "    </tr>\n",
              "    <tr>\n",
              "      <th>3</th>\n",
              "      <td>-316.01020</td>\n",
              "      <td>130.950800</td>\n",
              "      <td>-19.625652</td>\n",
              "      <td>37.887035</td>\n",
              "      <td>-7.202529</td>\n",
              "      <td>14.094850</td>\n",
              "      <td>-9.078204</td>\n",
              "      <td>3.250739</td>\n",
              "      <td>-1.697231</td>\n",
              "      <td>-0.231109</td>\n",
              "      <td>3.231752</td>\n",
              "      <td>-3.216666</td>\n",
              "      <td>1.589842</td>\n",
              "      <td>-9.186467</td>\n",
              "      <td>-0.086110</td>\n",
              "      <td>-5.722125</td>\n",
              "      <td>-0.044563</td>\n",
              "      <td>-5.097544</td>\n",
              "      <td>-2.049219</td>\n",
              "      <td>-0.262752</td>\n",
              "      <td>-4.298661</td>\n",
              "      <td>-0.903559</td>\n",
              "      <td>-3.107972</td>\n",
              "      <td>2.539897</td>\n",
              "      <td>-3.406620</td>\n",
              "      <td>2.031603</td>\n",
              "      <td>1.777670</td>\n",
              "      <td>0.593024</td>\n",
              "      <td>0.880294</td>\n",
              "      <td>0.854433</td>\n",
              "      <td>-0.232972</td>\n",
              "      <td>-3.476567</td>\n",
              "      <td>1.689636</td>\n",
              "      <td>-2.007812</td>\n",
              "      <td>0.453130</td>\n",
              "      <td>-0.206102</td>\n",
              "      <td>-0.865390</td>\n",
              "      <td>-0.207243</td>\n",
              "      <td>-1.031463</td>\n",
              "      <td>-1.709890</td>\n",
              "      <td>...</td>\n",
              "      <td>0.114200</td>\n",
              "      <td>0.315061</td>\n",
              "      <td>-0.153918</td>\n",
              "      <td>-0.377309</td>\n",
              "      <td>-0.067494</td>\n",
              "      <td>-0.232756</td>\n",
              "      <td>-0.507425</td>\n",
              "      <td>-0.840738</td>\n",
              "      <td>-0.363996</td>\n",
              "      <td>-0.305458</td>\n",
              "      <td>-0.197313</td>\n",
              "      <td>-0.374062</td>\n",
              "      <td>-0.703524</td>\n",
              "      <td>-0.671137</td>\n",
              "      <td>-0.520857</td>\n",
              "      <td>-0.607859</td>\n",
              "      <td>-0.745489</td>\n",
              "      <td>-0.751489</td>\n",
              "      <td>-0.508783</td>\n",
              "      <td>-0.109755</td>\n",
              "      <td>-0.183294</td>\n",
              "      <td>0.265209</td>\n",
              "      <td>0.752855</td>\n",
              "      <td>0.694843</td>\n",
              "      <td>0.154588</td>\n",
              "      <td>0.206342</td>\n",
              "      <td>0.463107</td>\n",
              "      <td>0.152187</td>\n",
              "      <td>0.345198</td>\n",
              "      <td>0.247717</td>\n",
              "      <td>0.017929</td>\n",
              "      <td>-0.251179</td>\n",
              "      <td>-0.390338</td>\n",
              "      <td>-0.187204</td>\n",
              "      <td>-0.150450</td>\n",
              "      <td>-0.100102</td>\n",
              "      <td>-0.136646</td>\n",
              "      <td>-0.060848</td>\n",
              "      <td>-0.034616</td>\n",
              "      <td>5</td>\n",
              "    </tr>\n",
              "    <tr>\n",
              "      <th>4</th>\n",
              "      <td>-217.02348</td>\n",
              "      <td>89.007820</td>\n",
              "      <td>-41.172560</td>\n",
              "      <td>74.662580</td>\n",
              "      <td>-14.939281</td>\n",
              "      <td>32.061150</td>\n",
              "      <td>-14.686216</td>\n",
              "      <td>30.695140</td>\n",
              "      <td>-4.998136</td>\n",
              "      <td>-4.557982</td>\n",
              "      <td>8.213158</td>\n",
              "      <td>3.327260</td>\n",
              "      <td>28.405458</td>\n",
              "      <td>10.376047</td>\n",
              "      <td>27.600664</td>\n",
              "      <td>7.678345</td>\n",
              "      <td>-13.009889</td>\n",
              "      <td>-16.631609</td>\n",
              "      <td>24.283860</td>\n",
              "      <td>2.176965</td>\n",
              "      <td>-15.696815</td>\n",
              "      <td>1.880880</td>\n",
              "      <td>-4.142185</td>\n",
              "      <td>5.460869</td>\n",
              "      <td>6.597651</td>\n",
              "      <td>14.204001</td>\n",
              "      <td>-0.651714</td>\n",
              "      <td>8.580262</td>\n",
              "      <td>1.494783</td>\n",
              "      <td>-9.275571</td>\n",
              "      <td>-1.931665</td>\n",
              "      <td>-0.164059</td>\n",
              "      <td>-2.683624</td>\n",
              "      <td>-4.870162</td>\n",
              "      <td>3.725859</td>\n",
              "      <td>-4.646425</td>\n",
              "      <td>4.938212</td>\n",
              "      <td>5.256506</td>\n",
              "      <td>0.568936</td>\n",
              "      <td>1.025251</td>\n",
              "      <td>...</td>\n",
              "      <td>0.995052</td>\n",
              "      <td>0.656881</td>\n",
              "      <td>0.131439</td>\n",
              "      <td>0.313840</td>\n",
              "      <td>-0.532094</td>\n",
              "      <td>0.902842</td>\n",
              "      <td>-0.927841</td>\n",
              "      <td>0.025129</td>\n",
              "      <td>-1.022899</td>\n",
              "      <td>0.347261</td>\n",
              "      <td>-0.636574</td>\n",
              "      <td>-0.212175</td>\n",
              "      <td>0.687250</td>\n",
              "      <td>-1.548976</td>\n",
              "      <td>0.845093</td>\n",
              "      <td>-0.383817</td>\n",
              "      <td>-0.286973</td>\n",
              "      <td>0.011176</td>\n",
              "      <td>-0.041197</td>\n",
              "      <td>-0.523026</td>\n",
              "      <td>-0.432532</td>\n",
              "      <td>0.183105</td>\n",
              "      <td>0.341826</td>\n",
              "      <td>0.616416</td>\n",
              "      <td>0.162337</td>\n",
              "      <td>0.485111</td>\n",
              "      <td>-0.216481</td>\n",
              "      <td>1.154882</td>\n",
              "      <td>-0.405623</td>\n",
              "      <td>-0.221797</td>\n",
              "      <td>0.513173</td>\n",
              "      <td>-1.139426</td>\n",
              "      <td>-0.586102</td>\n",
              "      <td>-0.099861</td>\n",
              "      <td>0.425230</td>\n",
              "      <td>-0.477040</td>\n",
              "      <td>0.240997</td>\n",
              "      <td>0.178404</td>\n",
              "      <td>0.154335</td>\n",
              "      <td>5</td>\n",
              "    </tr>\n",
              "    <tr>\n",
              "      <th>...</th>\n",
              "      <td>...</td>\n",
              "      <td>...</td>\n",
              "      <td>...</td>\n",
              "      <td>...</td>\n",
              "      <td>...</td>\n",
              "      <td>...</td>\n",
              "      <td>...</td>\n",
              "      <td>...</td>\n",
              "      <td>...</td>\n",
              "      <td>...</td>\n",
              "      <td>...</td>\n",
              "      <td>...</td>\n",
              "      <td>...</td>\n",
              "      <td>...</td>\n",
              "      <td>...</td>\n",
              "      <td>...</td>\n",
              "      <td>...</td>\n",
              "      <td>...</td>\n",
              "      <td>...</td>\n",
              "      <td>...</td>\n",
              "      <td>...</td>\n",
              "      <td>...</td>\n",
              "      <td>...</td>\n",
              "      <td>...</td>\n",
              "      <td>...</td>\n",
              "      <td>...</td>\n",
              "      <td>...</td>\n",
              "      <td>...</td>\n",
              "      <td>...</td>\n",
              "      <td>...</td>\n",
              "      <td>...</td>\n",
              "      <td>...</td>\n",
              "      <td>...</td>\n",
              "      <td>...</td>\n",
              "      <td>...</td>\n",
              "      <td>...</td>\n",
              "      <td>...</td>\n",
              "      <td>...</td>\n",
              "      <td>...</td>\n",
              "      <td>...</td>\n",
              "      <td>...</td>\n",
              "      <td>...</td>\n",
              "      <td>...</td>\n",
              "      <td>...</td>\n",
              "      <td>...</td>\n",
              "      <td>...</td>\n",
              "      <td>...</td>\n",
              "      <td>...</td>\n",
              "      <td>...</td>\n",
              "      <td>...</td>\n",
              "      <td>...</td>\n",
              "      <td>...</td>\n",
              "      <td>...</td>\n",
              "      <td>...</td>\n",
              "      <td>...</td>\n",
              "      <td>...</td>\n",
              "      <td>...</td>\n",
              "      <td>...</td>\n",
              "      <td>...</td>\n",
              "      <td>...</td>\n",
              "      <td>...</td>\n",
              "      <td>...</td>\n",
              "      <td>...</td>\n",
              "      <td>...</td>\n",
              "      <td>...</td>\n",
              "      <td>...</td>\n",
              "      <td>...</td>\n",
              "      <td>...</td>\n",
              "      <td>...</td>\n",
              "      <td>...</td>\n",
              "      <td>...</td>\n",
              "      <td>...</td>\n",
              "      <td>...</td>\n",
              "      <td>...</td>\n",
              "      <td>...</td>\n",
              "      <td>...</td>\n",
              "      <td>...</td>\n",
              "      <td>...</td>\n",
              "      <td>...</td>\n",
              "      <td>...</td>\n",
              "      <td>...</td>\n",
              "    </tr>\n",
              "    <tr>\n",
              "      <th>897</th>\n",
              "      <td>-316.51535</td>\n",
              "      <td>81.090150</td>\n",
              "      <td>-50.832905</td>\n",
              "      <td>15.949720</td>\n",
              "      <td>-20.042194</td>\n",
              "      <td>-4.819985</td>\n",
              "      <td>-12.257769</td>\n",
              "      <td>4.077914</td>\n",
              "      <td>-12.206644</td>\n",
              "      <td>6.626381</td>\n",
              "      <td>-5.178537</td>\n",
              "      <td>-8.052917</td>\n",
              "      <td>0.885598</td>\n",
              "      <td>-7.474462</td>\n",
              "      <td>4.085978</td>\n",
              "      <td>-20.219488</td>\n",
              "      <td>-3.783029</td>\n",
              "      <td>-1.868369</td>\n",
              "      <td>-4.601714</td>\n",
              "      <td>-6.623279</td>\n",
              "      <td>-0.238721</td>\n",
              "      <td>1.969770</td>\n",
              "      <td>-8.033322</td>\n",
              "      <td>1.688832</td>\n",
              "      <td>-2.281435</td>\n",
              "      <td>4.344342</td>\n",
              "      <td>3.468773</td>\n",
              "      <td>4.644086</td>\n",
              "      <td>2.604898</td>\n",
              "      <td>1.031722</td>\n",
              "      <td>-2.592085</td>\n",
              "      <td>0.291901</td>\n",
              "      <td>4.026245</td>\n",
              "      <td>-0.667604</td>\n",
              "      <td>2.820369</td>\n",
              "      <td>-3.890626</td>\n",
              "      <td>1.623996</td>\n",
              "      <td>-1.515606</td>\n",
              "      <td>0.925592</td>\n",
              "      <td>-0.305123</td>\n",
              "      <td>...</td>\n",
              "      <td>-0.141443</td>\n",
              "      <td>0.826995</td>\n",
              "      <td>-0.214360</td>\n",
              "      <td>0.431972</td>\n",
              "      <td>0.156633</td>\n",
              "      <td>0.377708</td>\n",
              "      <td>0.397748</td>\n",
              "      <td>0.022411</td>\n",
              "      <td>-0.013395</td>\n",
              "      <td>0.312885</td>\n",
              "      <td>0.451999</td>\n",
              "      <td>0.224965</td>\n",
              "      <td>0.188209</td>\n",
              "      <td>0.405122</td>\n",
              "      <td>1.101781</td>\n",
              "      <td>0.325095</td>\n",
              "      <td>0.349033</td>\n",
              "      <td>0.202348</td>\n",
              "      <td>0.450783</td>\n",
              "      <td>0.232854</td>\n",
              "      <td>-0.170578</td>\n",
              "      <td>0.119112</td>\n",
              "      <td>0.233889</td>\n",
              "      <td>0.300958</td>\n",
              "      <td>0.257148</td>\n",
              "      <td>0.425039</td>\n",
              "      <td>0.248086</td>\n",
              "      <td>0.947641</td>\n",
              "      <td>0.299818</td>\n",
              "      <td>0.398926</td>\n",
              "      <td>0.145344</td>\n",
              "      <td>0.342821</td>\n",
              "      <td>0.543084</td>\n",
              "      <td>-0.106781</td>\n",
              "      <td>0.296154</td>\n",
              "      <td>-0.104604</td>\n",
              "      <td>0.798464</td>\n",
              "      <td>-0.061197</td>\n",
              "      <td>0.014620</td>\n",
              "      <td>1</td>\n",
              "    </tr>\n",
              "    <tr>\n",
              "      <th>898</th>\n",
              "      <td>-313.11432</td>\n",
              "      <td>112.847000</td>\n",
              "      <td>1.487455</td>\n",
              "      <td>23.775736</td>\n",
              "      <td>-23.088543</td>\n",
              "      <td>35.516037</td>\n",
              "      <td>-3.750164</td>\n",
              "      <td>2.489150</td>\n",
              "      <td>-7.475728</td>\n",
              "      <td>5.365281</td>\n",
              "      <td>0.657986</td>\n",
              "      <td>9.071775</td>\n",
              "      <td>6.084483</td>\n",
              "      <td>-11.934325</td>\n",
              "      <td>12.752697</td>\n",
              "      <td>-7.449543</td>\n",
              "      <td>4.261807</td>\n",
              "      <td>0.420868</td>\n",
              "      <td>-1.371814</td>\n",
              "      <td>-4.102633</td>\n",
              "      <td>2.161689</td>\n",
              "      <td>1.192284</td>\n",
              "      <td>-6.198101</td>\n",
              "      <td>0.049435</td>\n",
              "      <td>-7.858731</td>\n",
              "      <td>2.479341</td>\n",
              "      <td>-3.999353</td>\n",
              "      <td>2.845832</td>\n",
              "      <td>-0.422769</td>\n",
              "      <td>-2.449627</td>\n",
              "      <td>1.220913</td>\n",
              "      <td>0.294867</td>\n",
              "      <td>0.896986</td>\n",
              "      <td>-1.236147</td>\n",
              "      <td>3.581092</td>\n",
              "      <td>-4.800753</td>\n",
              "      <td>-0.075545</td>\n",
              "      <td>-3.108270</td>\n",
              "      <td>-0.111114</td>\n",
              "      <td>-1.113338</td>\n",
              "      <td>...</td>\n",
              "      <td>-1.626063</td>\n",
              "      <td>-1.794463</td>\n",
              "      <td>-1.323572</td>\n",
              "      <td>-0.935982</td>\n",
              "      <td>-1.641508</td>\n",
              "      <td>-0.938729</td>\n",
              "      <td>-1.429833</td>\n",
              "      <td>-0.832031</td>\n",
              "      <td>-1.319940</td>\n",
              "      <td>-1.476738</td>\n",
              "      <td>-1.040350</td>\n",
              "      <td>-1.161223</td>\n",
              "      <td>-0.798300</td>\n",
              "      <td>-0.671813</td>\n",
              "      <td>-0.265533</td>\n",
              "      <td>-0.466139</td>\n",
              "      <td>-0.527253</td>\n",
              "      <td>-1.057970</td>\n",
              "      <td>-0.412228</td>\n",
              "      <td>-0.291084</td>\n",
              "      <td>-0.517115</td>\n",
              "      <td>-0.521014</td>\n",
              "      <td>-0.583246</td>\n",
              "      <td>-0.396199</td>\n",
              "      <td>-0.791836</td>\n",
              "      <td>-0.279427</td>\n",
              "      <td>-0.253578</td>\n",
              "      <td>0.066565</td>\n",
              "      <td>0.165818</td>\n",
              "      <td>0.075654</td>\n",
              "      <td>0.201232</td>\n",
              "      <td>-0.171861</td>\n",
              "      <td>0.063156</td>\n",
              "      <td>0.420903</td>\n",
              "      <td>-0.091829</td>\n",
              "      <td>0.053335</td>\n",
              "      <td>0.386020</td>\n",
              "      <td>-0.306104</td>\n",
              "      <td>0.704615</td>\n",
              "      <td>1</td>\n",
              "    </tr>\n",
              "    <tr>\n",
              "      <th>899</th>\n",
              "      <td>-322.78440</td>\n",
              "      <td>88.355865</td>\n",
              "      <td>-12.589766</td>\n",
              "      <td>21.917624</td>\n",
              "      <td>-21.215755</td>\n",
              "      <td>14.503696</td>\n",
              "      <td>-11.398950</td>\n",
              "      <td>-6.326220</td>\n",
              "      <td>-7.624679</td>\n",
              "      <td>-3.211858</td>\n",
              "      <td>1.946043</td>\n",
              "      <td>-2.413824</td>\n",
              "      <td>-0.432468</td>\n",
              "      <td>-2.474955</td>\n",
              "      <td>2.084990</td>\n",
              "      <td>-10.919561</td>\n",
              "      <td>1.729195</td>\n",
              "      <td>-4.492210</td>\n",
              "      <td>-4.776945</td>\n",
              "      <td>-2.245214</td>\n",
              "      <td>-4.319459</td>\n",
              "      <td>-0.863556</td>\n",
              "      <td>-3.930247</td>\n",
              "      <td>0.793703</td>\n",
              "      <td>-2.648311</td>\n",
              "      <td>0.094397</td>\n",
              "      <td>-1.932740</td>\n",
              "      <td>0.951140</td>\n",
              "      <td>-1.831221</td>\n",
              "      <td>-2.200341</td>\n",
              "      <td>-0.630600</td>\n",
              "      <td>-3.248753</td>\n",
              "      <td>0.095040</td>\n",
              "      <td>-2.801510</td>\n",
              "      <td>-0.128729</td>\n",
              "      <td>-2.846528</td>\n",
              "      <td>-1.062268</td>\n",
              "      <td>-1.000558</td>\n",
              "      <td>-1.847847</td>\n",
              "      <td>-0.690347</td>\n",
              "      <td>...</td>\n",
              "      <td>-0.018315</td>\n",
              "      <td>-0.286439</td>\n",
              "      <td>-0.222743</td>\n",
              "      <td>-0.172348</td>\n",
              "      <td>-0.071855</td>\n",
              "      <td>-0.354977</td>\n",
              "      <td>-0.629731</td>\n",
              "      <td>-0.651357</td>\n",
              "      <td>-0.475292</td>\n",
              "      <td>-0.579066</td>\n",
              "      <td>-0.794991</td>\n",
              "      <td>-0.845347</td>\n",
              "      <td>-0.287131</td>\n",
              "      <td>-0.019146</td>\n",
              "      <td>-0.197531</td>\n",
              "      <td>-0.068643</td>\n",
              "      <td>0.014715</td>\n",
              "      <td>-0.038354</td>\n",
              "      <td>-0.239326</td>\n",
              "      <td>0.068682</td>\n",
              "      <td>0.149974</td>\n",
              "      <td>-0.005034</td>\n",
              "      <td>-0.334981</td>\n",
              "      <td>-0.266037</td>\n",
              "      <td>-0.017709</td>\n",
              "      <td>-0.195516</td>\n",
              "      <td>0.157919</td>\n",
              "      <td>-0.051472</td>\n",
              "      <td>0.047651</td>\n",
              "      <td>0.107384</td>\n",
              "      <td>0.120188</td>\n",
              "      <td>-0.071194</td>\n",
              "      <td>-0.453971</td>\n",
              "      <td>0.065579</td>\n",
              "      <td>-0.390301</td>\n",
              "      <td>-0.343063</td>\n",
              "      <td>0.184539</td>\n",
              "      <td>-0.072839</td>\n",
              "      <td>-0.086015</td>\n",
              "      <td>1</td>\n",
              "    </tr>\n",
              "    <tr>\n",
              "      <th>900</th>\n",
              "      <td>-322.45645</td>\n",
              "      <td>83.477580</td>\n",
              "      <td>-33.897552</td>\n",
              "      <td>34.639656</td>\n",
              "      <td>-14.930669</td>\n",
              "      <td>23.956366</td>\n",
              "      <td>-25.079294</td>\n",
              "      <td>6.229056</td>\n",
              "      <td>-12.627854</td>\n",
              "      <td>-5.050483</td>\n",
              "      <td>-1.092461</td>\n",
              "      <td>-6.647933</td>\n",
              "      <td>6.261610</td>\n",
              "      <td>-4.280230</td>\n",
              "      <td>7.678797</td>\n",
              "      <td>-10.521630</td>\n",
              "      <td>-1.200328</td>\n",
              "      <td>-10.455572</td>\n",
              "      <td>-0.365732</td>\n",
              "      <td>-0.061157</td>\n",
              "      <td>-0.709208</td>\n",
              "      <td>3.002201</td>\n",
              "      <td>-1.967835</td>\n",
              "      <td>5.284791</td>\n",
              "      <td>-6.181165</td>\n",
              "      <td>0.864820</td>\n",
              "      <td>-4.401695</td>\n",
              "      <td>0.564094</td>\n",
              "      <td>-0.134805</td>\n",
              "      <td>0.000115</td>\n",
              "      <td>1.579568</td>\n",
              "      <td>-1.090823</td>\n",
              "      <td>-0.176146</td>\n",
              "      <td>-3.491776</td>\n",
              "      <td>2.449761</td>\n",
              "      <td>-2.543260</td>\n",
              "      <td>2.313674</td>\n",
              "      <td>0.135239</td>\n",
              "      <td>0.904545</td>\n",
              "      <td>0.039576</td>\n",
              "      <td>...</td>\n",
              "      <td>0.027424</td>\n",
              "      <td>-0.071449</td>\n",
              "      <td>-0.555600</td>\n",
              "      <td>-0.690982</td>\n",
              "      <td>-1.159867</td>\n",
              "      <td>-0.060981</td>\n",
              "      <td>0.020524</td>\n",
              "      <td>-0.248667</td>\n",
              "      <td>-0.805451</td>\n",
              "      <td>-0.410363</td>\n",
              "      <td>-0.199576</td>\n",
              "      <td>0.032283</td>\n",
              "      <td>0.066763</td>\n",
              "      <td>0.012605</td>\n",
              "      <td>0.508821</td>\n",
              "      <td>0.071952</td>\n",
              "      <td>0.163450</td>\n",
              "      <td>-0.106106</td>\n",
              "      <td>-0.023087</td>\n",
              "      <td>-0.586787</td>\n",
              "      <td>-0.280209</td>\n",
              "      <td>-0.061379</td>\n",
              "      <td>-0.625055</td>\n",
              "      <td>-0.205532</td>\n",
              "      <td>-0.309113</td>\n",
              "      <td>-0.004417</td>\n",
              "      <td>-0.117779</td>\n",
              "      <td>-0.044300</td>\n",
              "      <td>0.115577</td>\n",
              "      <td>0.065947</td>\n",
              "      <td>0.103831</td>\n",
              "      <td>-0.069027</td>\n",
              "      <td>-0.152682</td>\n",
              "      <td>-0.103943</td>\n",
              "      <td>0.206144</td>\n",
              "      <td>0.046847</td>\n",
              "      <td>-0.245794</td>\n",
              "      <td>-0.545872</td>\n",
              "      <td>-0.436274</td>\n",
              "      <td>1</td>\n",
              "    </tr>\n",
              "    <tr>\n",
              "      <th>901</th>\n",
              "      <td>-518.68994</td>\n",
              "      <td>28.303179</td>\n",
              "      <td>-1.637774</td>\n",
              "      <td>19.491669</td>\n",
              "      <td>-1.987211</td>\n",
              "      <td>17.404797</td>\n",
              "      <td>-2.947572</td>\n",
              "      <td>6.487607</td>\n",
              "      <td>3.427720</td>\n",
              "      <td>5.072853</td>\n",
              "      <td>4.688768</td>\n",
              "      <td>-2.594455</td>\n",
              "      <td>0.611015</td>\n",
              "      <td>0.287928</td>\n",
              "      <td>0.331232</td>\n",
              "      <td>-4.711646</td>\n",
              "      <td>2.738987</td>\n",
              "      <td>-1.829990</td>\n",
              "      <td>0.713688</td>\n",
              "      <td>-2.419972</td>\n",
              "      <td>-2.568212</td>\n",
              "      <td>-0.573324</td>\n",
              "      <td>-2.439375</td>\n",
              "      <td>-0.504582</td>\n",
              "      <td>-3.866508</td>\n",
              "      <td>0.667946</td>\n",
              "      <td>-2.905173</td>\n",
              "      <td>-0.824426</td>\n",
              "      <td>-2.124133</td>\n",
              "      <td>-2.775692</td>\n",
              "      <td>-2.880414</td>\n",
              "      <td>-2.954870</td>\n",
              "      <td>0.025112</td>\n",
              "      <td>-2.175778</td>\n",
              "      <td>0.458144</td>\n",
              "      <td>-2.158633</td>\n",
              "      <td>0.113824</td>\n",
              "      <td>-1.015176</td>\n",
              "      <td>-2.195382</td>\n",
              "      <td>-0.757337</td>\n",
              "      <td>...</td>\n",
              "      <td>-0.764233</td>\n",
              "      <td>-0.765501</td>\n",
              "      <td>-0.509735</td>\n",
              "      <td>-0.774678</td>\n",
              "      <td>-0.560636</td>\n",
              "      <td>-0.228107</td>\n",
              "      <td>-0.560603</td>\n",
              "      <td>-0.468242</td>\n",
              "      <td>-0.667246</td>\n",
              "      <td>-0.686465</td>\n",
              "      <td>-0.758524</td>\n",
              "      <td>-0.637481</td>\n",
              "      <td>-0.383816</td>\n",
              "      <td>-0.415940</td>\n",
              "      <td>-0.203367</td>\n",
              "      <td>-0.352056</td>\n",
              "      <td>-0.363512</td>\n",
              "      <td>-0.404349</td>\n",
              "      <td>-0.338352</td>\n",
              "      <td>-0.240584</td>\n",
              "      <td>-0.076693</td>\n",
              "      <td>-0.100775</td>\n",
              "      <td>0.074663</td>\n",
              "      <td>-0.028717</td>\n",
              "      <td>-0.253229</td>\n",
              "      <td>0.082551</td>\n",
              "      <td>-0.114452</td>\n",
              "      <td>0.014844</td>\n",
              "      <td>0.038655</td>\n",
              "      <td>0.062653</td>\n",
              "      <td>-0.082278</td>\n",
              "      <td>-0.076139</td>\n",
              "      <td>0.049565</td>\n",
              "      <td>-0.146090</td>\n",
              "      <td>0.232851</td>\n",
              "      <td>0.164069</td>\n",
              "      <td>-0.024957</td>\n",
              "      <td>-0.141658</td>\n",
              "      <td>-0.061494</td>\n",
              "      <td>1</td>\n",
              "    </tr>\n",
              "  </tbody>\n",
              "</table>\n",
              "<p>902 rows × 129 columns</p>\n",
              "</div>"
            ],
            "text/plain": [
              "             0           1          2  ...       126       127  Duygu\n",
              "0   -273.31912  124.515820 -42.301212  ... -0.124390 -0.033229      5\n",
              "1   -370.46650  118.297240  12.055739  ...  0.271589 -0.201193      5\n",
              "2   -261.01425   68.592940 -68.434715  ...  0.402486  0.230521      5\n",
              "3   -316.01020  130.950800 -19.625652  ... -0.060848 -0.034616      5\n",
              "4   -217.02348   89.007820 -41.172560  ...  0.178404  0.154335      5\n",
              "..         ...         ...        ...  ...       ...       ...    ...\n",
              "897 -316.51535   81.090150 -50.832905  ... -0.061197  0.014620      1\n",
              "898 -313.11432  112.847000   1.487455  ... -0.306104  0.704615      1\n",
              "899 -322.78440   88.355865 -12.589766  ... -0.072839 -0.086015      1\n",
              "900 -322.45645   83.477580 -33.897552  ... -0.545872 -0.436274      1\n",
              "901 -518.68994   28.303179  -1.637774  ... -0.141658 -0.061494      1\n",
              "\n",
              "[902 rows x 129 columns]"
            ]
          },
          "metadata": {},
          "execution_count": 10
        }
      ]
    },
    {
      "cell_type": "markdown",
      "metadata": {
        "id": "NxE_E8NkFXf2"
      },
      "source": [
        "##### KNN"
      ]
    },
    {
      "cell_type": "code",
      "metadata": {
        "id": "aELVooGVFXf2"
      },
      "source": [
        "knn = [\"Duygu\",\"0\",\"1\",\"2\",\"3\",\"4\",\"6\",\"7\",\"8\",\"9\",\"15\",\"16\",\"17\",\"18\",\"21\",\"23\",\"24\",\"34\",\"40\",\"47\",\"53\",\"57\",\"62\",\"65\",\"66\",\"72\",\"73\",\"80\",\"83\",\"84\",\"90\",\"94\",\"96\",\"99\",\"101\",\"104\",\"105\",\"112\",\"115\",\"121\",\"123\"]"
      ],
      "execution_count": null,
      "outputs": []
    },
    {
      "cell_type": "code",
      "metadata": {
        "id": "CuBeuXwAFXf2"
      },
      "source": [
        "dataFrame = dataFrame.loc[:,knn]"
      ],
      "execution_count": null,
      "outputs": []
    },
    {
      "cell_type": "code",
      "metadata": {
        "id": "WukyVFadLCKj"
      },
      "source": [
        "y = dataFrame[\"Duygu\"].values\n",
        "X = dataFrame.drop(\"Duygu\",axis = 1).values\n",
        "x_train, x_test, y_train, y_test = train_test_split(X,y,test_size=0.3, random_state=15)\n",
        "scaler = MinMaxScaler()\n",
        "scaler.fit(x_train)\n",
        "x_train = scaler.transform(x_train)\n",
        "x_test = scaler.transform(x_test)"
      ],
      "execution_count": null,
      "outputs": []
    },
    {
      "cell_type": "code",
      "metadata": {
        "colab": {
          "base_uri": "https://localhost:8080/"
        },
        "id": "Px4g-FdzeO_i",
        "outputId": "49fdbec2-4429-4618-dd9c-b1f838f3e654"
      },
      "source": [
        "x_train"
      ],
      "execution_count": null,
      "outputs": [
        {
          "output_type": "execute_result",
          "data": {
            "text/plain": [
              "array([[0.53514541, 0.59024579, 0.48104941, ..., 0.56176773, 0.44174787,\n",
              "        0.4974199 ],\n",
              "       [0.42989188, 0.40069507, 0.63284849, ..., 0.64379971, 0.53123865,\n",
              "        0.52652569],\n",
              "       [0.74248781, 0.63640766, 0.66672188, ..., 0.83258536, 0.82391792,\n",
              "        0.6624535 ],\n",
              "       ...,\n",
              "       [0.6253987 , 0.        , 0.02590612, ..., 0.6537326 , 0.54733994,\n",
              "        0.61058761],\n",
              "       [0.28321634, 0.58449475, 0.81814381, ..., 0.7735383 , 0.85993309,\n",
              "        0.74077661],\n",
              "       [0.44660058, 0.45970873, 0.52802457, ..., 0.49615709, 0.38380871,\n",
              "        0.68197826]])"
            ]
          },
          "metadata": {},
          "execution_count": 8
        }
      ]
    },
    {
      "cell_type": "code",
      "metadata": {
        "colab": {
          "base_uri": "https://localhost:8080/",
          "height": 587
        },
        "id": "4eDiRFahLJ6o",
        "outputId": "9ca0fbb7-c63c-4fdb-eecf-9d9310e1343d"
      },
      "source": [
        "print(\"--------------------------- KNN n=3 ------------------------------------\")\n",
        "\n",
        "model = KNeighborsClassifier(n_neighbors=3, algorithm='ball_tree').fit(x_train,y_train)\n",
        "\n",
        "tahminlerimiz2 = model.predict(x_test)\n",
        "print(classification_report(y_test,tahminlerimiz2))\n",
        "print(\"Confusion Matrix\")\n",
        "print(confusion_matrix(y_test,tahminlerimiz2))\n",
        "print(\"Accuracy Score\")\n",
        "print(accuracy_score(y_test,tahminlerimiz2))\n",
        "#joblib.dump(model, f'/content/drive/MyDrive/pkl/insanmi/knn.pkl')\n",
        "scores = cross_val_score(model, x_test, y_test)\n",
        "print(\"Validation Score Mean\")\n",
        "print(scores.mean())\n",
        "print(\"Validation Sonuçları\")\n",
        "print(scores)\n",
        "cm = confusion_matrix(y_test, tahminlerimiz2,  normalize = 'true')\n",
        "disp = ConfusionMatrixDisplay(confusion_matrix=cm, display_labels=[0,1,2]).plot(cmap='gray')\n"
      ],
      "execution_count": null,
      "outputs": [
        {
          "output_type": "stream",
          "name": "stdout",
          "text": [
            "--------------------------- KNN n=3 ------------------------------------\n",
            "              precision    recall  f1-score   support\n",
            "\n",
            "           1       0.90      0.94      0.92       193\n",
            "           5       0.83      0.74      0.78        78\n",
            "\n",
            "    accuracy                           0.88       271\n",
            "   macro avg       0.86      0.84      0.85       271\n",
            "weighted avg       0.88      0.88      0.88       271\n",
            "\n",
            "Confusion Matrix\n",
            "[[181  12]\n",
            " [ 20  58]]\n",
            "Accuracy Score\n",
            "0.8819188191881919\n",
            "Validation Score Mean\n",
            "0.8560269360269361\n",
            "Validation Sonuçları\n",
            "[0.87272727 0.85185185 0.83333333 0.85185185 0.87037037]\n"
          ]
        },
        {
          "output_type": "display_data",
          "data": {
            "image/png": "[encoded data removed]",
            "text/plain": [
              "<Figure size 432x288 with 2 Axes>"
            ]
          },
          "metadata": {
            "needs_background": "light"
          }
        }
      ]
    },
    {
      "cell_type": "markdown",
      "metadata": {
        "id": "hyyOsxQuFXf3"
      },
      "source": [
        "##### Gauss Bayes"
      ]
    },
    {
      "cell_type": "code",
      "metadata": {
        "id": "LoaZOLvJFXf3"
      },
      "source": [
        "gauss = [\"Duygu\",\"0\", \"1\",\"3\", \"4\", \"10\", \"91\"]"
      ],
      "execution_count": null,
      "outputs": []
    },
    {
      "cell_type": "code",
      "metadata": {
        "id": "pXgUB2h_FXf3"
      },
      "source": [
        "dataFrame = dataFrame.loc[:,gauss]"
      ],
      "execution_count": null,
      "outputs": []
    },
    {
      "cell_type": "code",
      "metadata": {
        "id": "634YvlvCLBuV"
      },
      "source": [
        "y = dataFrame[\"Duygu\"].values\n",
        "X = dataFrame.drop(\"Duygu\",axis = 1).values\n",
        "x_train, x_test, y_train, y_test = train_test_split(X,y,test_size=0.3, random_state=15)\n",
        "scaler = MinMaxScaler()\n",
        "scaler.fit(x_train)\n",
        "x_train = scaler.transform(x_train)\n",
        "x_test = scaler.transform(x_test)"
      ],
      "execution_count": null,
      "outputs": []
    },
    {
      "cell_type": "code",
      "metadata": {
        "colab": {
          "base_uri": "https://localhost:8080/",
          "height": 587
        },
        "id": "z4dlKpLFLM9U",
        "outputId": "868ab719-6b9d-4b08-87a5-3436dbde850e"
      },
      "source": [
        "print(\"---------------------------GaussianNB ------------------------------------\")\n",
        "\n",
        "model = GaussianNB().fit(x_train, y_train)\n",
        "\n",
        "tahminlerimiz2 = model.predict(x_test)\n",
        "print(classification_report(y_test,tahminlerimiz2))\n",
        "print(\"Confusion Matrix\")\n",
        "print(confusion_matrix(y_test,tahminlerimiz2))\n",
        "print(\"Accuracy Score\")\n",
        "print(accuracy_score(y_test,tahminlerimiz2))\n",
        "#joblib.dump(model, f'/content/drive/MyDrive/pkl/insanmi/gauss.pkl')\n",
        "scores = cross_val_score(model, x_test, y_test)\n",
        "print(\"Validation Score Mean\")\n",
        "print(scores.mean())\n",
        "print(\"Validation Sonuçları\")\n",
        "print(scores)\n",
        "cm = confusion_matrix(y_test, tahminlerimiz2,  normalize = 'true')\n",
        "disp = ConfusionMatrixDisplay(confusion_matrix=cm, display_labels=[0,1,2]).plot(cmap='gray')"
      ],
      "execution_count": null,
      "outputs": [
        {
          "output_type": "stream",
          "name": "stdout",
          "text": [
            "---------------------------GaussianNB ------------------------------------\n",
            "              precision    recall  f1-score   support\n",
            "\n",
            "           1       0.87      0.93      0.90       193\n",
            "           5       0.79      0.64      0.71        78\n",
            "\n",
            "    accuracy                           0.85       271\n",
            "   macro avg       0.83      0.79      0.80       271\n",
            "weighted avg       0.84      0.85      0.84       271\n",
            "\n",
            "Confusion Matrix\n",
            "[[180  13]\n",
            " [ 28  50]]\n",
            "Accuracy Score\n",
            "0.8487084870848709\n",
            "Validation Score Mean\n",
            "0.8377104377104377\n",
            "Validation Sonuçları\n",
            "[0.81818182 0.88888889 0.7962963  0.83333333 0.85185185]\n"
          ]
        },
        {
          "output_type": "display_data",
          "data": {
            "image/png": "[encoded data removed]",
            "text/plain": [
              "<Figure size 432x288 with 2 Axes>"
            ]
          },
          "metadata": {
            "needs_background": "light"
          }
        }
      ]
    },
    {
      "cell_type": "markdown",
      "metadata": {
        "id": "UDtIeo8cFXf3"
      },
      "source": [
        "##### log reg"
      ]
    },
    {
      "cell_type": "code",
      "metadata": {
        "id": "vllAOAizFXf3"
      },
      "source": [
        "lgreg = [\"Duygu\",\"0\",\"1\",\"2\",\"3\",\"4\",\"5\",\"6\",\"7\",\"8\",\"9\",\"10\",\"11\",\"12\",\"13\",\"14\",\"16\",\"17\",\"19\",\"20\",\"21\",\"22\",\"23\",\"24\",\"29\",\"31\",\"32\",\"34\",\"37\",\"39\",\"42\",\"44\",\"45\",\"51\",\"57\",\"58\",\"59\",\"61\",\"62\",\"64\",\"66\",\"72\",\"74\",\"75\",\"76\",\"78\",\"79\",\"80\",\"82\",\"84\",\"85\",\"86\",\"88\",\"91\",\"102\",\"106\",\"108\",\"112\",\"115\",\"116\",\"123\",\"124\",\"125\",\"126\",\"127\"]"
      ],
      "execution_count": null,
      "outputs": []
    },
    {
      "cell_type": "code",
      "metadata": {
        "id": "9ILJDJI7FXf3"
      },
      "source": [
        "dataFrame = dataFrame.loc[:,lgreg]"
      ],
      "execution_count": null,
      "outputs": []
    },
    {
      "cell_type": "code",
      "metadata": {
        "id": "qGxwcjJWLBVl"
      },
      "source": [
        "y = dataFrame[\"Duygu\"].values\n",
        "X = dataFrame.drop(\"Duygu\",axis = 1).values\n",
        "x_train, x_test, y_train, y_test = train_test_split(X,y,test_size=0.3, random_state=15)\n",
        "scaler = MinMaxScaler()\n",
        "scaler.fit(x_train)\n",
        "x_train = scaler.transform(x_train)\n",
        "x_test = scaler.transform(x_test)"
      ],
      "execution_count": null,
      "outputs": []
    },
    {
      "cell_type": "code",
      "metadata": {
        "colab": {
          "base_uri": "https://localhost:8080/",
          "height": 1000
        },
        "id": "AyfpX4aZLf1P",
        "outputId": "078a76b1-8f0b-4e33-aacd-9a3f2eb58359"
      },
      "source": [
        "print(\"---------------------------Logistic Regression ------------------------------------\")\n",
        "model = LogisticRegression(solver='liblinear', random_state=15).fit(x_train, y_train)\n",
        "import joblib\n",
        "tahminlerimiz2 = model.predict(x_test)\n",
        "guven = model.predict_proba(x_test)\n",
        "print(guven)\n",
        "print(classification_report(y_test,tahminlerimiz2))\n",
        "print(\"Confusion Matrix\")\n",
        "print(confusion_matrix(y_test,tahminlerimiz2))\n",
        "print(\"Accuracy Score\")\n",
        "print(accuracy_score(y_test,tahminlerimiz2))\n",
        "#joblib.dump(model, f'/content/drive/MyDrive/pkl/insanmi/lgreg.pkl')\n",
        "scores = cross_val_score(model, x_test, y_test)\n",
        "print(\"Validation Score Mean\")\n",
        "print(scores.mean())\n",
        "print(\"Validation Sonuçları\")\n",
        "print(scores)\n",
        "cm = confusion_matrix(y_test, tahminlerimiz2,  normalize = 'true')\n",
        "disp = ConfusionMatrixDisplay(confusion_matrix=cm, display_labels=[0,1,2]).plot(cmap='gray')"
      ],
      "execution_count": null,
      "outputs": [
        {
          "output_type": "stream",
          "name": "stdout",
          "text": [
            "---------------------------Logistic Regression ------------------------------------\n",
            "[[0.66137845 0.33862155]\n",
            " [0.69443372 0.30556628]\n",
            " [0.95203321 0.04796679]\n",
            " [0.92914092 0.07085908]\n",
            " [0.65034897 0.34965103]\n",
            " [0.49953715 0.50046285]\n",
            " [0.92979291 0.07020709]\n",
            " [0.73122701 0.26877299]\n",
            " [0.65645518 0.34354482]\n",
            " [0.69742009 0.30257991]\n",
            " [0.81559822 0.18440178]\n",
            " [0.8478756  0.1521244 ]\n",
            " [0.96154068 0.03845932]\n",
            " [0.89504569 0.10495431]\n",
            " [0.59897367 0.40102633]\n",
            " [0.80213861 0.19786139]\n",
            " [0.83891429 0.16108571]\n",
            " [0.57910107 0.42089893]\n",
            " [0.90482989 0.09517011]\n",
            " [0.93334331 0.06665669]\n",
            " [0.60230693 0.39769307]\n",
            " [0.09655051 0.90344949]\n",
            " [0.89024102 0.10975898]\n",
            " [0.30662195 0.69337805]\n",
            " [0.17849194 0.82150806]\n",
            " [0.18484354 0.81515646]\n",
            " [0.63714325 0.36285675]\n",
            " [0.82179113 0.17820887]\n",
            " [0.52208217 0.47791783]\n",
            " [0.95733081 0.04266919]\n",
            " [0.04745805 0.95254195]\n",
            " [0.76311163 0.23688837]\n",
            " [0.05803039 0.94196961]\n",
            " [0.83013065 0.16986935]\n",
            " [0.40787552 0.59212448]\n",
            " [0.09287643 0.90712357]\n",
            " [0.93628996 0.06371004]\n",
            " [0.03423977 0.96576023]\n",
            " [0.91453425 0.08546575]\n",
            " [0.9574672  0.0425328 ]\n",
            " [0.93184195 0.06815805]\n",
            " [0.3892918  0.6107082 ]\n",
            " [0.86367296 0.13632704]\n",
            " [0.75340712 0.24659288]\n",
            " [0.89932281 0.10067719]\n",
            " [0.6356039  0.3643961 ]\n",
            " [0.89320263 0.10679737]\n",
            " [0.55794479 0.44205521]\n",
            " [0.47044471 0.52955529]\n",
            " [0.89824383 0.10175617]\n",
            " [0.95720863 0.04279137]\n",
            " [0.88475756 0.11524244]\n",
            " [0.91669677 0.08330323]\n",
            " [0.05618237 0.94381763]\n",
            " [0.41849862 0.58150138]\n",
            " [0.71633883 0.28366117]\n",
            " [0.89650192 0.10349808]\n",
            " [0.69453173 0.30546827]\n",
            " [0.79106055 0.20893945]\n",
            " [0.92391446 0.07608554]\n",
            " [0.08734695 0.91265305]\n",
            " [0.86178157 0.13821843]\n",
            " [0.13088174 0.86911826]\n",
            " [0.3160757  0.6839243 ]\n",
            " [0.46866702 0.53133298]\n",
            " [0.940476   0.059524  ]\n",
            " [0.98461011 0.01538989]\n",
            " [0.93542762 0.06457238]\n",
            " [0.5310433  0.4689567 ]\n",
            " [0.89541541 0.10458459]\n",
            " [0.27690464 0.72309536]\n",
            " [0.45254757 0.54745243]\n",
            " [0.92877889 0.07122111]\n",
            " [0.85077852 0.14922148]\n",
            " [0.27286038 0.72713962]\n",
            " [0.89802638 0.10197362]\n",
            " [0.33221177 0.66778823]\n",
            " [0.79094479 0.20905521]\n",
            " [0.3118932  0.6881068 ]\n",
            " [0.90791334 0.09208666]\n",
            " [0.94503556 0.05496444]\n",
            " [0.43327947 0.56672053]\n",
            " [0.94017642 0.05982358]\n",
            " [0.21546817 0.78453183]\n",
            " [0.96828328 0.03171672]\n",
            " [0.57141748 0.42858252]\n",
            " [0.98352435 0.01647565]\n",
            " [0.93569391 0.06430609]\n",
            " [0.77966633 0.22033367]\n",
            " [0.97517365 0.02482635]\n",
            " [0.84409489 0.15590511]\n",
            " [0.79689785 0.20310215]\n",
            " [0.50737108 0.49262892]\n",
            " [0.18567933 0.81432067]\n",
            " [0.97930386 0.02069614]\n",
            " [0.96154846 0.03845154]\n",
            " [0.76956241 0.23043759]\n",
            " [0.75150445 0.24849555]\n",
            " [0.64338649 0.35661351]\n",
            " [0.79844866 0.20155134]\n",
            " [0.88919121 0.11080879]\n",
            " [0.62450335 0.37549665]\n",
            " [0.72803319 0.27196681]\n",
            " [0.9109351  0.0890649 ]\n",
            " [0.89790496 0.10209504]\n",
            " [0.23299089 0.76700911]\n",
            " [0.9270508  0.0729492 ]\n",
            " [0.94430908 0.05569092]\n",
            " [0.73331566 0.26668434]\n",
            " [0.44728014 0.55271986]\n",
            " [0.96401675 0.03598325]\n",
            " [0.92218496 0.07781504]\n",
            " [0.94115961 0.05884039]\n",
            " [0.81665015 0.18334985]\n",
            " [0.89549176 0.10450824]\n",
            " [0.93218988 0.06781012]\n",
            " [0.57175956 0.42824044]\n",
            " [0.89390321 0.10609679]\n",
            " [0.79913613 0.20086387]\n",
            " [0.47130011 0.52869989]\n",
            " [0.0122857  0.9877143 ]\n",
            " [0.81667572 0.18332428]\n",
            " [0.92736737 0.07263263]\n",
            " [0.92621919 0.07378081]\n",
            " [0.54809795 0.45190205]\n",
            " [0.63358106 0.36641894]\n",
            " [0.22998584 0.77001416]\n",
            " [0.62935704 0.37064296]\n",
            " [0.40432893 0.59567107]\n",
            " [0.91023541 0.08976459]\n",
            " [0.84632107 0.15367893]\n",
            " [0.50194976 0.49805024]\n",
            " [0.94459897 0.05540103]\n",
            " [0.96754047 0.03245953]\n",
            " [0.96586834 0.03413166]\n",
            " [0.1902211  0.8097789 ]\n",
            " [0.86535369 0.13464631]\n",
            " [0.94295742 0.05704258]\n",
            " [0.46553611 0.53446389]\n",
            " [0.87878171 0.12121829]\n",
            " [0.93146819 0.06853181]\n",
            " [0.96546484 0.03453516]\n",
            " [0.55513781 0.44486219]\n",
            " [0.13099645 0.86900355]\n",
            " [0.60987249 0.39012751]\n",
            " [0.87937042 0.12062958]\n",
            " [0.6371657  0.3628343 ]\n",
            " [0.93662624 0.06337376]\n",
            " [0.44660984 0.55339016]\n",
            " [0.93014038 0.06985962]\n",
            " [0.93458545 0.06541455]\n",
            " [0.98805756 0.01194244]\n",
            " [0.94723788 0.05276212]\n",
            " [0.90863337 0.09136663]\n",
            " [0.09501651 0.90498349]\n",
            " [0.62496644 0.37503356]\n",
            " [0.81196343 0.18803657]\n",
            " [0.6931906  0.3068094 ]\n",
            " [0.82016039 0.17983961]\n",
            " [0.72487412 0.27512588]\n",
            " [0.89044925 0.10955075]\n",
            " [0.89549696 0.10450304]\n",
            " [0.8369734  0.1630266 ]\n",
            " [0.8704292  0.1295708 ]\n",
            " [0.80355042 0.19644958]\n",
            " [0.97321489 0.02678511]\n",
            " [0.87192672 0.12807328]\n",
            " [0.93426644 0.06573356]\n",
            " [0.51724275 0.48275725]\n",
            " [0.51171505 0.48828495]\n",
            " [0.88220799 0.11779201]\n",
            " [0.56874569 0.43125431]\n",
            " [0.9678603  0.0321397 ]\n",
            " [0.84854458 0.15145542]\n",
            " [0.93696656 0.06303344]\n",
            " [0.871371   0.128629  ]\n",
            " [0.48049141 0.51950859]\n",
            " [0.92037391 0.07962609]\n",
            " [0.55810975 0.44189025]\n",
            " [0.01616489 0.98383511]\n",
            " [0.65380675 0.34619325]\n",
            " [0.66673826 0.33326174]\n",
            " [0.96875811 0.03124189]\n",
            " [0.74769965 0.25230035]\n",
            " [0.94384273 0.05615727]\n",
            " [0.67360535 0.32639465]\n",
            " [0.92379459 0.07620541]\n",
            " [0.90454963 0.09545037]\n",
            " [0.83153168 0.16846832]\n",
            " [0.40515955 0.59484045]\n",
            " [0.4897842  0.5102158 ]\n",
            " [0.94242804 0.05757196]\n",
            " [0.8189941  0.1810059 ]\n",
            " [0.89482138 0.10517862]\n",
            " [0.9717649  0.0282351 ]\n",
            " [0.34568643 0.65431357]\n",
            " [0.93658579 0.06341421]\n",
            " [0.45783969 0.54216031]\n",
            " [0.69377468 0.30622532]\n",
            " [0.10853481 0.89146519]\n",
            " [0.64183202 0.35816798]\n",
            " [0.79856354 0.20143646]\n",
            " [0.90434847 0.09565153]\n",
            " [0.93958942 0.06041058]\n",
            " [0.92952926 0.07047074]\n",
            " [0.91883755 0.08116245]\n",
            " [0.46749521 0.53250479]\n",
            " [0.55188717 0.44811283]\n",
            " [0.8238893  0.1761107 ]\n",
            " [0.69368303 0.30631697]\n",
            " [0.47442051 0.52557949]\n",
            " [0.94518503 0.05481497]\n",
            " [0.95886894 0.04113106]\n",
            " [0.86472403 0.13527597]\n",
            " [0.04387496 0.95612504]\n",
            " [0.68399213 0.31600787]\n",
            " [0.93661252 0.06338748]\n",
            " [0.89726572 0.10273428]\n",
            " [0.94837095 0.05162905]\n",
            " [0.80242709 0.19757291]\n",
            " [0.26548913 0.73451087]\n",
            " [0.3735075  0.6264925 ]\n",
            " [0.40830137 0.59169863]\n",
            " [0.83324657 0.16675343]\n",
            " [0.81386345 0.18613655]\n",
            " [0.65091548 0.34908452]\n",
            " [0.75851291 0.24148709]\n",
            " [0.48700562 0.51299438]\n",
            " [0.68698119 0.31301881]\n",
            " [0.82303508 0.17696492]\n",
            " [0.90394901 0.09605099]\n",
            " [0.00482966 0.99517034]\n",
            " [0.86129879 0.13870121]\n",
            " [0.96436847 0.03563153]\n",
            " [0.915259   0.084741  ]\n",
            " [0.43438575 0.56561425]\n",
            " [0.8793683  0.1206317 ]\n",
            " [0.95031167 0.04968833]\n",
            " [0.91510336 0.08489664]\n",
            " [0.97533932 0.02466068]\n",
            " [0.74856788 0.25143212]\n",
            " [0.64420449 0.35579551]\n",
            " [0.94151202 0.05848798]\n",
            " [0.07087281 0.92912719]\n",
            " [0.9257541  0.0742459 ]\n",
            " [0.12756286 0.87243714]\n",
            " [0.74369629 0.25630371]\n",
            " [0.15746148 0.84253852]\n",
            " [0.88601401 0.11398599]\n",
            " [0.88631592 0.11368408]\n",
            " [0.82622551 0.17377449]\n",
            " [0.97632872 0.02367128]\n",
            " [0.98029862 0.01970138]\n",
            " [0.88008444 0.11991556]\n",
            " [0.91288585 0.08711415]\n",
            " [0.85400904 0.14599096]\n",
            " [0.90315593 0.09684407]\n",
            " [0.97463117 0.02536883]\n",
            " [0.65535303 0.34464697]\n",
            " [0.94185928 0.05814072]\n",
            " [0.83195711 0.16804289]\n",
            " [0.9299387  0.0700613 ]\n",
            " [0.79328049 0.20671951]\n",
            " [0.77503932 0.22496068]\n",
            " [0.96612738 0.03387262]\n",
            " [0.88668818 0.11331182]\n",
            " [0.83777932 0.16222068]\n",
            " [0.95336892 0.04663108]\n",
            " [0.49916961 0.50083039]\n",
            " [0.49564992 0.50435008]\n",
            " [0.8238893  0.1761107 ]]\n",
            "              precision    recall  f1-score   support\n",
            "\n",
            "           1       0.87      0.96      0.92       193\n",
            "           5       0.88      0.65      0.75        78\n",
            "\n",
            "    accuracy                           0.87       271\n",
            "   macro avg       0.88      0.81      0.83       271\n",
            "weighted avg       0.87      0.87      0.87       271\n",
            "\n",
            "Confusion Matrix\n",
            "[[186   7]\n",
            " [ 27  51]]\n",
            "Accuracy Score\n",
            "0.8745387453874539\n",
            "Validation Score Mean\n",
            "0.8228282828282827\n",
            "Validation Sonuçları\n",
            "[0.83636364 0.83333333 0.81481481 0.81481481 0.81481481]\n"
          ]
        },
        {
          "output_type": "display_data",
          "data": {
            "image/png": "[encoded data removed]",
            "text/plain": [
              "<Figure size 432x288 with 2 Axes>"
            ]
          },
          "metadata": {
            "needs_background": "light"
          }
        }
      ]
    },
    {
      "cell_type": "markdown",
      "metadata": {
        "id": "V4C13dXgFXf3"
      },
      "source": [
        "##### svm"
      ]
    },
    {
      "cell_type": "code",
      "metadata": {
        "id": "m2zMLYCbFXf3"
      },
      "source": [
        "svms = [\"Duygu\",\"0\",\"1\",\"2\",\"3\",\"4\",\"5\",\"6\",\"7\",\"8\",\"9\",\"10\",\"11\",\"12\",\"13\",\"14\",\"15\",\"16\",\"17\",\"18\",\"19\",\"20\",\"21\",\"22\",\"24\",\"25\",\"26\",\"28\",\"29\",\"30\",\"31\",\"32\",\"34\",\"36\",\"37\",\"38\",\"39\",\"40\",\"41\",\"42\",\"43\",\"44\",\"45\",\"46\",\"47\",\"50\",\"51\",\"52\",\"53\",\"54\",\"56\",\"57\",\"58\",\"60\",\"61\",\"62\",\"63\",\"64\",\"66\",\"69\",\"70\",\"71\",\"72\",\"73\",\"74\",\"75\",\"78\",\"79\",\"80\",\"82\",\"83\",\"84\",\"85\",\"86\",\"88\",\"89\",\"90\",\"91\",\"94\",\"95\",\"96\",\"100\",\"102\",\"103\",\"104\",\"105\",\"106\",\"107\",\"108\",\"111\",\"112\",\"113\",\"114\",\"115\",\"116\",\"118\",\"119\",\"120\",\"121\",\"124\",\"125\",\"126\"]"
      ],
      "execution_count": null,
      "outputs": []
    },
    {
      "cell_type": "code",
      "metadata": {
        "id": "M7Pw2T1BFXf3"
      },
      "source": [
        "dataFrame = dataFrame.loc[:,svms]"
      ],
      "execution_count": null,
      "outputs": []
    },
    {
      "cell_type": "code",
      "metadata": {
        "id": "nA1OgV7CLDAd"
      },
      "source": [
        "y = dataFrame[\"Duygu\"].values\n",
        "X = dataFrame.drop(\"Duygu\",axis = 1).values\n",
        "x_train, x_test, y_train, y_test = train_test_split(X,y,test_size=0.3, random_state=15)\n",
        "scaler = MinMaxScaler()\n",
        "scaler.fit(x_train)\n",
        "x_train = scaler.transform(x_train)\n",
        "x_test = scaler.transform(x_test)"
      ],
      "execution_count": null,
      "outputs": []
    },
    {
      "cell_type": "code",
      "metadata": {
        "colab": {
          "base_uri": "https://localhost:8080/",
          "height": 587
        },
        "id": "Sr7G_h_4LkH-",
        "outputId": "31ae3d20-20f8-4b39-c44c-e7305169ca13"
      },
      "source": [
        "print(\"--------------------------- Linear SVC ------------------------------------\")\n",
        "\n",
        "model= svm.SVC(kernel='linear',probability=True,gamma='auto').fit(x_train,y_train)\n",
        "\n",
        "tahminlerimiz2 = model.predict(x_test)\n",
        "\n",
        "print(classification_report(y_test,tahminlerimiz2))\n",
        "print(\"Confusion Matrix\")\n",
        "print(confusion_matrix(y_test,tahminlerimiz2))\n",
        "print(\"Accuracy Score\")\n",
        "print(accuracy_score(y_test,tahminlerimiz2))\n",
        "#joblib.dump(model, f'/content/drive/MyDrive/pkl/insanmi/svmlineer.pkl')\n",
        "\n",
        "\n",
        "scores = cross_val_score(model, x_test, y_test)\n",
        "print(\"Validation Score Mean\")\n",
        "print(scores.mean())\n",
        "print(\"Validation Sonuçları\")\n",
        "print(scores)\n",
        "cm = confusion_matrix(y_test, tahminlerimiz2,  normalize = 'true')\n",
        "disp = ConfusionMatrixDisplay(confusion_matrix=cm, display_labels=[0,1,2]).plot(cmap='gray')"
      ],
      "execution_count": null,
      "outputs": [
        {
          "output_type": "stream",
          "name": "stdout",
          "text": [
            "--------------------------- Linear SVC ------------------------------------\n",
            "              precision    recall  f1-score   support\n",
            "\n",
            "           1       0.91      0.95      0.93       193\n",
            "           5       0.87      0.77      0.82        78\n",
            "\n",
            "    accuracy                           0.90       271\n",
            "   macro avg       0.89      0.86      0.87       271\n",
            "weighted avg       0.90      0.90      0.90       271\n",
            "\n",
            "Confusion Matrix\n",
            "[[184   9]\n",
            " [ 18  60]]\n",
            "Accuracy Score\n",
            "0.9003690036900369\n",
            "Validation Score Mean\n",
            "0.8816835016835016\n",
            "Validation Sonuçları\n",
            "[0.94545455 0.87037037 0.87037037 0.85185185 0.87037037]\n"
          ]
        },
        {
          "output_type": "display_data",
          "data": {
            "image/png": "[encoded data removed]",
            "text/plain": [
              "<Figure size 432x288 with 2 Axes>"
            ]
          },
          "metadata": {
            "needs_background": "light"
          }
        }
      ]
    },
    {
      "cell_type": "markdown",
      "metadata": {
        "id": "osl80p1thQOe"
      },
      "source": [
        "### İnsan Sesi Türü ?"
      ]
    },
    {
      "cell_type": "code",
      "metadata": {
        "id": "uVH4lNh-gS5k"
      },
      "source": [
        "dataFrame = pd.read_csv('/content/drive/MyDrive/csvler/librosasonmfcc127/insansinifi.csv')\n",
        "dataFrame = dataFrame.drop(\"Unnamed: 0\", axis=1)\n",
        "dataFrame = dataFrame.drop(\"Unnamed: 0.1\", axis=1)\n",
        "dataFrame= dataFrame.replace(to_replace =\"human2\",value =1)\n",
        "#dataFrame= dataFrame.replace(to_replace =\"human\",value =1)\n",
        "dataFrame= dataFrame.replace(to_replace =\"oksurme\",value =2)\n",
        "dataFrame= dataFrame.replace(to_replace =\"nefes\",value =3)\n",
        "dataFrame= dataFrame.replace(to_replace =\"ciglik\",value =4)\n"
      ],
      "execution_count": null,
      "outputs": []
    },
    {
      "cell_type": "markdown",
      "metadata": {
        "id": "f2dYLhV8Fdr6"
      },
      "source": [
        "##### KNN"
      ]
    },
    {
      "cell_type": "code",
      "metadata": {
        "id": "2AXaHmWFFdr6"
      },
      "source": [
        "knn = [\"Duygu\",\"1\",\"2\",\"3\",\"5\",\"8\",\"9\",\"10\",\"11\",\"13\",\"14\",\"22\",\"31\",\"63\",\"69\",\"72\",\"81\",\"90\",\"91\",\"101\",\"109\",\"112\"]"
      ],
      "execution_count": null,
      "outputs": []
    },
    {
      "cell_type": "code",
      "metadata": {
        "id": "YRCmvThzFdr6"
      },
      "source": [
        "dataFrame = dataFrame.loc[:,knn]"
      ],
      "execution_count": null,
      "outputs": []
    },
    {
      "cell_type": "code",
      "metadata": {
        "id": "dwGPRDEcK_pm"
      },
      "source": [
        "y = dataFrame[\"Duygu\"].values\n",
        "X = dataFrame.drop(\"Duygu\",axis = 1).values\n",
        "x_train, x_test, y_train, y_test = train_test_split(X,y,test_size=0.3, random_state=15)\n",
        "scaler = MinMaxScaler()\n",
        "scaler.fit(x_train)\n",
        "x_train = scaler.transform(x_train)\n",
        "x_test = scaler.transform(x_test)"
      ],
      "execution_count": null,
      "outputs": []
    },
    {
      "cell_type": "code",
      "metadata": {
        "colab": {
          "base_uri": "https://localhost:8080/",
          "height": 1000
        },
        "id": "p_FaSBCQLJc2",
        "outputId": "c7892364-9c4a-4958-b284-f4e61b605806"
      },
      "source": [
        "print(\"--------------------------- KNN n=3 ------------------------------------\")\n",
        "\n",
        "model = KNeighborsClassifier(n_neighbors=3, algorithm='ball_tree').fit(x_train,y_train)\n",
        "\n",
        "tahminlerimiz2 = model.predict(x_test)\n",
        "print(classification_report(y_test,tahminlerimiz2))\n",
        "print(\"Confusion Matrix\")\n",
        "print(confusion_matrix(y_test,tahminlerimiz2))\n",
        "print(\"Accuracy Score\")\n",
        "print(accuracy_score(y_test,tahminlerimiz2))\n",
        "#joblib.dump(model, f'/content/drive/MyDrive/pkl/insan/knn.pkl')\n",
        "scores = cross_val_score(model, x_test, y_test)\n",
        "print(\"Validation Score Mean\")\n",
        "print(scores.mean())\n",
        "print(\"Validation Sonuçları\")\n",
        "print(scores)\n",
        "cm = confusion_matrix(y_test, tahminlerimiz2,  normalize = 'true')\n",
        "disp = ConfusionMatrixDisplay(confusion_matrix=cm, display_labels=[0,1,2]).plot(cmap='gray')\n"
      ],
      "execution_count": null,
      "outputs": [
        {
          "output_type": "stream",
          "name": "stdout",
          "text": [
            "--------------------------- KNN n=3 ------------------------------------\n",
            "              precision    recall  f1-score   support\n",
            "\n",
            "           1       0.92      0.90      0.91        62\n",
            "           2       0.66      0.98      0.79        55\n",
            "           3       0.90      0.53      0.67        36\n",
            "           4       0.92      0.63      0.75        35\n",
            "\n",
            "    accuracy                           0.80       188\n",
            "   macro avg       0.85      0.76      0.78       188\n",
            "weighted avg       0.84      0.80      0.80       188\n",
            "\n",
            "Confusion Matrix\n",
            "[[56  4  0  2]\n",
            " [ 1 54  0  0]\n",
            " [ 2 15 19  0]\n",
            " [ 2  9  2 22]]\n",
            "Accuracy Score\n",
            "0.8031914893617021\n",
            "Validation Score Mean\n",
            "0.7238975817923187\n",
            "Validation Sonuçları\n",
            "[0.68421053 0.71052632 0.68421053 0.81081081 0.72972973]\n"
          ]
        },
        {
          "output_type": "display_data",
          "data": {
            "image/png": "[encoded data removed]",
            "text/plain": [
              "<Figure size 1440x1080 with 2 Axes>"
            ]
          },
          "metadata": {
            "needs_background": "light"
          }
        }
      ]
    },
    {
      "cell_type": "markdown",
      "metadata": {
        "id": "BjbNWm16Fdr6"
      },
      "source": [
        "##### svm"
      ]
    },
    {
      "cell_type": "code",
      "metadata": {
        "id": "sXasMjvAFdr6"
      },
      "source": [
        "svms = ['Duygu','0', '1', '2', '3', '4', '5', '6', '7', '8', '9', '10', '11', '12', '13', '14', '15', '16', '17', '18', '19', '20', '21', '22', '23', '24', '25', '26', '27', '29', '30', '31', '32', '33', '34', '35', '36', '37', '38', '39', '41', '42', '43', '44', '45', '46', '47', '50', '51', '53', '54', '56', '58', '59', '60', '62', '63', '65', '67', '69', '73', '74', '76', '81', '84', '85', '86', '89', '92', '93', '98', '101', '102', '106', '108', '110', '111', '114', '116', '118', '120', '122', '124', '127']"
      ],
      "execution_count": null,
      "outputs": []
    },
    {
      "cell_type": "code",
      "metadata": {
        "id": "EPbGLGFtFdr6"
      },
      "source": [
        "dataFrame = dataFrame.loc[:,svms]"
      ],
      "execution_count": null,
      "outputs": []
    },
    {
      "cell_type": "code",
      "metadata": {
        "id": "j6WfabxRK_HJ"
      },
      "source": [
        "y = dataFrame[\"Duygu\"].values\n",
        "X = dataFrame.drop(\"Duygu\",axis = 1).values\n",
        "x_train, x_test, y_train, y_test = train_test_split(X,y,test_size=0.3, random_state=15)\n",
        "scaler = MinMaxScaler()\n",
        "scaler.fit(x_train)\n",
        "x_train = scaler.transform(x_train)\n",
        "x_test = scaler.transform(x_test)"
      ],
      "execution_count": null,
      "outputs": []
    },
    {
      "cell_type": "code",
      "metadata": {
        "colab": {
          "base_uri": "https://localhost:8080/",
          "height": 1000
        },
        "id": "RA7njU1PLjgQ",
        "outputId": "0a3062f9-9f2a-41bd-d253-de45a6321850"
      },
      "source": [
        "print(\"--------------------------- Linear SVC ------------------------------------\")\n",
        "\n",
        "model= svm.SVC(kernel='linear',probability=True,gamma='auto').fit(x_train,y_train)\n",
        "\n",
        "tahminlerimiz2 = model.predict(x_test)\n",
        "\n",
        "print(classification_report(y_test,tahminlerimiz2))\n",
        "print(\"Confusion Matrix\")\n",
        "print(confusion_matrix(y_test,tahminlerimiz2))\n",
        "print(\"Accuracy Score\")\n",
        "print(accuracy_score(y_test,tahminlerimiz2))\n",
        "#joblib.dump(model, f'/content/drive/MyDrive/pkl/insan/svmlineer.pkl')\n",
        "\n",
        "\n",
        "scores = cross_val_score(model, x_test, y_test)\n",
        "print(\"Validation Score Mean\")\n",
        "print(scores.mean())\n",
        "print(\"Validation Sonuçları\")\n",
        "print(scores)\n",
        "cm = confusion_matrix(y_test, tahminlerimiz2,  normalize = 'true')\n",
        "disp = ConfusionMatrixDisplay(confusion_matrix=cm, display_labels=[0,1,2]).plot(cmap='gray')"
      ],
      "execution_count": null,
      "outputs": [
        {
          "output_type": "stream",
          "name": "stdout",
          "text": [
            "--------------------------- Linear SVC ------------------------------------\n",
            "              precision    recall  f1-score   support\n",
            "\n",
            "           1       0.96      0.89      0.92        62\n",
            "           2       0.84      0.89      0.87        55\n",
            "           3       0.86      0.86      0.86        36\n",
            "           4       0.92      0.97      0.94        35\n",
            "\n",
            "    accuracy                           0.90       188\n",
            "   macro avg       0.90      0.90      0.90       188\n",
            "weighted avg       0.90      0.90      0.90       188\n",
            "\n",
            "Confusion Matrix\n",
            "[[55  3  1  3]\n",
            " [ 2 49  4  0]\n",
            " [ 0  5 31  0]\n",
            " [ 0  1  0 34]]\n",
            "Accuracy Score\n",
            "0.898936170212766\n",
            "Validation Score Mean\n",
            "0.835135135135135\n",
            "Validation Sonuçları\n",
            "[0.78947368 0.86842105 0.84210526 0.91891892 0.75675676]\n"
          ]
        },
        {
          "output_type": "display_data",
          "data": {
            "image/png": "[encoded data removed]",
            "text/plain": [
              "<Figure size 1440x1080 with 2 Axes>"
            ]
          },
          "metadata": {
            "needs_background": "light"
          }
        }
      ]
    },
    {
      "cell_type": "markdown",
      "metadata": {
        "id": "PxBLHvJ_Fdr6"
      },
      "source": [
        "##### Gauss Bayes"
      ]
    },
    {
      "cell_type": "code",
      "metadata": {
        "id": "Zq86d1AdFdr7"
      },
      "source": [
        "gauss = ['Duygu','0', '1', '2', '3', '4', '5', '6', '7', '8', '9', '11', '12', '13', '14', '18', '19', '20', '23', '25', '26', '27', '28', '31', '36', '37', '38', '39', '41', '43', '44', '45', '46', '48', '55', '56', '59', '61', '64', '66', '67', '75', '84', '109', '118', '120']"
      ],
      "execution_count": null,
      "outputs": []
    },
    {
      "cell_type": "code",
      "metadata": {
        "id": "pPyFp1wfFdr7"
      },
      "source": [
        "dataFrame = dataFrame.loc[:,gauss]"
      ],
      "execution_count": null,
      "outputs": []
    },
    {
      "cell_type": "code",
      "metadata": {
        "id": "ne_TRha4K-oE"
      },
      "source": [
        "y = dataFrame[\"Duygu\"].values\n",
        "X = dataFrame.drop(\"Duygu\",axis = 1).values\n",
        "x_train, x_test, y_train, y_test = train_test_split(X,y,test_size=0.3, random_state=15)\n",
        "scaler = MinMaxScaler()\n",
        "scaler.fit(x_train)\n",
        "x_train = scaler.transform(x_train)\n",
        "x_test = scaler.transform(x_test)"
      ],
      "execution_count": null,
      "outputs": []
    },
    {
      "cell_type": "code",
      "metadata": {
        "colab": {
          "base_uri": "https://localhost:8080/",
          "height": 1000
        },
        "id": "FExBi4XNLQLU",
        "outputId": "d0976ec9-6c98-4eda-ba94-c847cc7b97a6"
      },
      "source": [
        "print(\"---------------------------GaussianNB ------------------------------------\")\n",
        "\n",
        "model = GaussianNB().fit(x_train, y_train)\n",
        "\n",
        "tahminlerimiz2 = model.predict(x_test)\n",
        "print(classification_report(y_test,tahminlerimiz2))\n",
        "print(\"Confusion Matrix\")\n",
        "print(confusion_matrix(y_test,tahminlerimiz2))\n",
        "print(\"Accuracy Score\")\n",
        "print(accuracy_score(y_test,tahminlerimiz2))\n",
        "#joblib.dump(model, f'/content/drive/MyDrive/pkl/insan/gauss.pkl')\n",
        "scores = cross_val_score(model, x_test, y_test)\n",
        "print(\"Validation Score Mean\")\n",
        "print(scores.mean())\n",
        "print(\"Validation Sonuçları\")\n",
        "print(scores)\n",
        "cm = confusion_matrix(y_test, tahminlerimiz2,  normalize = 'true')\n",
        "disp = ConfusionMatrixDisplay(confusion_matrix=cm, display_labels=[0,1,2]).plot(cmap='gray')"
      ],
      "execution_count": null,
      "outputs": [
        {
          "output_type": "stream",
          "name": "stdout",
          "text": [
            "---------------------------GaussianNB ------------------------------------\n",
            "              precision    recall  f1-score   support\n",
            "\n",
            "           1       0.93      0.82      0.87        62\n",
            "           2       0.72      0.76      0.74        55\n",
            "           3       0.60      0.67      0.63        36\n",
            "           4       0.86      0.86      0.86        35\n",
            "\n",
            "    accuracy                           0.78       188\n",
            "   macro avg       0.78      0.78      0.78       188\n",
            "weighted avg       0.79      0.78      0.79       188\n",
            "\n",
            "Confusion Matrix\n",
            "[[51  5  1  5]\n",
            " [ 1 42 12  0]\n",
            " [ 2 10 24  0]\n",
            " [ 1  1  3 30]]\n",
            "Accuracy Score\n",
            "0.7819148936170213\n",
            "Validation Score Mean\n",
            "0.7923186344238975\n",
            "Validation Sonuçları\n",
            "[0.78947368 0.89473684 0.73684211 0.89189189 0.64864865]\n"
          ]
        },
        {
          "output_type": "display_data",
          "data": {
            "image/png": "[encoded data removed]",
            "text/plain": [
              "<Figure size 1440x1080 with 2 Axes>"
            ]
          },
          "metadata": {
            "needs_background": "light"
          }
        }
      ]
    },
    {
      "cell_type": "markdown",
      "metadata": {
        "id": "HwD1k0hOFdr7"
      },
      "source": [
        "##### Log Reg"
      ]
    },
    {
      "cell_type": "code",
      "metadata": {
        "id": "S37m0qC5Fdr7"
      },
      "source": [
        "lgreg = ['Duygu','0', '1', '2', '3', '4', '5', '6', '7', '8', '9', '10', '11', '15', '16', '17', '19', '21', '22', '23', '25', '27', '28', '29', '32', '33', '35', '41', '44', '46', '51', '53', '55', '56', '57', '61', '62', '63', '65', '69', '76', '81', '84', '85', '86', '93', '107', '108', '109', '111', '116', '118', '122']"
      ],
      "execution_count": null,
      "outputs": []
    },
    {
      "cell_type": "code",
      "metadata": {
        "id": "TsweWRdXFdr7"
      },
      "source": [
        "dataFrame = dataFrame.loc[:,lgreg]"
      ],
      "execution_count": null,
      "outputs": []
    },
    {
      "cell_type": "code",
      "metadata": {
        "id": "fgC8pCFkK9VU"
      },
      "source": [
        "y = dataFrame[\"Duygu\"].values\n",
        "X = dataFrame.drop(\"Duygu\",axis = 1).values\n",
        "x_train, x_test, y_train, y_test = train_test_split(X,y,test_size=0.3, random_state=15)\n",
        "scaler = MinMaxScaler()\n",
        "scaler.fit(x_train)\n",
        "x_train = scaler.transform(x_train)\n",
        "x_test = scaler.transform(x_test)"
      ],
      "execution_count": null,
      "outputs": []
    },
    {
      "cell_type": "code",
      "metadata": {
        "colab": {
          "base_uri": "https://localhost:8080/",
          "height": 1000
        },
        "id": "Ub_w1KnmLdWe",
        "outputId": "b384a9f7-bb6e-4b67-d9e2-53349077c3e9"
      },
      "source": [
        "print(\"---------------------------Logistic Regression ------------------------------------\")\n",
        "model = LogisticRegression(solver='liblinear', random_state=15).fit(x_train, y_train)\n",
        "import joblib\n",
        "tahminlerimiz2 = model.predict(x_test)\n",
        "guven = model.predict_proba(x_test)\n",
        "print(guven)\n",
        "print(classification_report(y_test,tahminlerimiz2))\n",
        "print(\"Confusion Matrix\")\n",
        "print(confusion_matrix(y_test,tahminlerimiz2))\n",
        "print(\"Accuracy Score\")\n",
        "print(accuracy_score(y_test,tahminlerimiz2))\n",
        "#joblib.dump(model, f'/content/drive/MyDrive/pkl/insan/lgreg.pkl')\n",
        "scores = cross_val_score(model, x_test, y_test)\n",
        "print(\"Validation Score Mean\")\n",
        "print(scores.mean())\n",
        "print(\"Validation Sonuçları\")\n",
        "print(scores)\n",
        "cm = confusion_matrix(y_test, tahminlerimiz2,  normalize = 'true')\n",
        "disp = ConfusionMatrixDisplay(confusion_matrix=cm, display_labels=[0,1,2]).plot(cmap='gray')"
      ],
      "execution_count": null,
      "outputs": [
        {
          "output_type": "stream",
          "name": "stdout",
          "text": [
            "---------------------------Logistic Regression ------------------------------------\n",
            "[[2.67611823e-02 5.32095713e-01 3.27726333e-01 1.13416771e-01]\n",
            " [6.31341980e-01 2.54285810e-01 8.15225826e-02 3.28496274e-02]\n",
            " [1.22619946e-01 1.21914113e-02 1.94198653e-02 8.45768777e-01]\n",
            " [6.48618527e-02 1.58968703e-02 9.41165782e-03 9.09829619e-01]\n",
            " [1.10463457e-02 8.41539589e-02 8.88540294e-01 1.62594018e-02]\n",
            " [7.09750344e-01 2.70609983e-01 7.11522314e-03 1.25244493e-02]\n",
            " [1.54517213e-01 3.41532675e-01 4.28865653e-01 7.50844593e-02]\n",
            " [4.28016375e-02 4.58362602e-01 4.31153266e-01 6.76824951e-02]\n",
            " [2.40982707e-01 2.39641551e-01 4.73984146e-01 4.53915964e-02]\n",
            " [5.23270125e-02 1.30564260e-01 7.37500483e-01 7.96082444e-02]\n",
            " [4.23182483e-02 1.80802670e-01 7.47451979e-01 2.94271032e-02]\n",
            " [4.55896992e-03 9.21706168e-03 9.07752433e-01 7.84715355e-02]\n",
            " [1.23764114e-02 1.50707857e-01 6.77461775e-02 7.69169554e-01]\n",
            " [8.32618868e-01 1.25129349e-01 1.47413573e-02 2.75104255e-02]\n",
            " [4.21942469e-01 3.22799620e-01 2.53915402e-01 1.34250927e-03]\n",
            " [3.55870639e-02 3.98525390e-02 2.52668563e-01 6.71891834e-01]\n",
            " [6.45952472e-01 2.64665111e-01 6.04799923e-02 2.89024254e-02]\n",
            " [6.17886724e-01 2.91195374e-01 6.31930633e-02 2.77248380e-02]\n",
            " [9.31215052e-03 4.72972897e-01 4.65536387e-01 5.21785661e-02]\n",
            " [2.82904398e-01 5.68386354e-01 1.13256319e-01 3.54529292e-02]\n",
            " [6.45996086e-01 5.77571708e-03 9.72099164e-03 3.38507205e-01]\n",
            " [8.30112871e-01 8.19526920e-02 6.44238469e-03 8.14920527e-02]\n",
            " [2.93366296e-02 4.20301606e-01 4.68188398e-01 8.21733672e-02]\n",
            " [3.15282580e-01 2.54333230e-02 9.44785704e-03 6.49836240e-01]\n",
            " [7.19977454e-01 7.81596996e-02 4.97323730e-02 1.52130473e-01]\n",
            " [6.15995310e-02 3.19105355e-01 5.36025332e-01 8.32697822e-02]\n",
            " [2.23365140e-03 2.10133781e-01 7.71751000e-01 1.58815675e-02]\n",
            " [2.66523874e-02 1.82004650e-02 4.42850443e-02 9.10862103e-01]\n",
            " [1.38731950e-01 2.63460780e-02 1.54919163e-02 8.19430055e-01]\n",
            " [8.47287728e-03 1.84173055e-01 7.12039767e-01 9.53143010e-02]\n",
            " [9.56435218e-02 5.02159763e-01 3.60444913e-01 4.17518022e-02]\n",
            " [7.83003472e-01 1.13787434e-01 1.87704445e-02 8.44386494e-02]\n",
            " [3.51832976e-02 6.97966974e-01 2.10446488e-01 5.64032408e-02]\n",
            " [5.57223161e-02 5.50427857e-01 2.47308962e-01 1.46540865e-01]\n",
            " [1.13252711e-01 4.74410950e-01 2.07223312e-01 2.05113027e-01]\n",
            " [7.72600220e-02 4.22189597e-01 3.18039556e-01 1.82510825e-01]\n",
            " [3.48801937e-01 1.03859662e-01 5.20497582e-01 2.68408186e-02]\n",
            " [1.89255123e-01 5.67179717e-02 2.73788355e-02 7.26648070e-01]\n",
            " [6.38263903e-01 1.56930572e-01 3.64286311e-02 1.68376894e-01]\n",
            " [8.47676877e-01 9.61055170e-02 1.21804203e-02 4.40371853e-02]\n",
            " [8.08653809e-01 1.29158932e-01 1.01500948e-02 5.20371642e-02]\n",
            " [5.52850029e-01 3.45897836e-01 5.93710044e-02 4.18811314e-02]\n",
            " [4.46549337e-03 1.86840432e-01 4.58785614e-01 3.49908461e-01]\n",
            " [2.60942828e-02 6.06365378e-02 3.76235182e-03 9.09506828e-01]\n",
            " [4.83715132e-01 3.16501011e-01 6.61131299e-02 1.33670726e-01]\n",
            " [8.67338867e-01 7.96979996e-02 3.86808887e-02 1.42822445e-02]\n",
            " [1.02691313e-02 2.83492176e-01 6.92211602e-01 1.40270911e-02]\n",
            " [2.41241107e-02 6.40415786e-01 2.76322227e-01 5.91378760e-02]\n",
            " [1.00291002e-01 3.14855763e-01 5.49780577e-01 3.50726584e-02]\n",
            " [1.76080042e-02 4.98511570e-01 4.11001707e-01 7.28787190e-02]\n",
            " [5.28400681e-02 2.30750513e-02 4.05559856e-02 8.83528895e-01]\n",
            " [3.40210576e-01 3.53096484e-01 5.66299429e-02 2.50062996e-01]\n",
            " [6.05353159e-02 2.80166215e-01 3.84747157e-01 2.74551312e-01]\n",
            " [8.91902951e-02 5.52864838e-01 2.94533061e-01 6.34118056e-02]\n",
            " [1.50223377e-01 5.83079877e-01 2.26665368e-01 4.00313780e-02]\n",
            " [4.94187113e-03 3.86035382e-01 1.05262813e-01 5.03759934e-01]\n",
            " [2.73117346e-01 3.77311631e-03 4.60708716e-03 7.18502450e-01]\n",
            " [6.85521334e-02 5.93140922e-01 2.51862754e-01 8.64441904e-02]\n",
            " [8.76089756e-02 4.92721001e-01 3.86965007e-01 3.27050158e-02]\n",
            " [5.32020576e-03 1.65978917e-01 7.79175933e-01 4.95249445e-02]\n",
            " [2.67779182e-01 5.24915984e-01 5.92419082e-02 1.48062925e-01]\n",
            " [4.97303404e-01 4.18724495e-01 3.97814329e-02 4.41906681e-02]\n",
            " [3.17321543e-03 3.08706438e-01 6.79700368e-01 8.41997873e-03]\n",
            " [1.27976030e-01 5.60639057e-01 2.91808991e-01 1.95759215e-02]\n",
            " [7.93630451e-01 6.26760529e-02 1.18745039e-02 1.31818992e-01]\n",
            " [1.49338655e-03 2.38489773e-01 4.05876062e-01 3.54140779e-01]\n",
            " [1.07168893e-03 2.55129346e-01 7.22478505e-01 2.13204604e-02]\n",
            " [4.86237385e-02 5.25968616e-01 3.88384417e-01 3.70232289e-02]\n",
            " [8.91549525e-02 5.22386332e-01 3.67339675e-01 2.11190403e-02]\n",
            " [4.91269245e-01 3.65195628e-01 9.56946329e-02 4.78404941e-02]\n",
            " [1.46203154e-01 3.65181288e-01 4.77927052e-01 1.06885066e-02]\n",
            " [7.28811637e-01 2.40229238e-01 1.25118113e-02 1.84473142e-02]\n",
            " [8.93035932e-02 5.83420231e-02 2.42811785e-02 8.28073205e-01]\n",
            " [3.75436109e-02 5.85956839e-01 3.03403899e-01 7.30956511e-02]\n",
            " [5.43822482e-01 2.51250092e-01 1.12760546e-01 9.21668790e-02]\n",
            " [7.35655742e-02 6.26256888e-01 2.55873547e-01 4.43039909e-02]\n",
            " [4.03403645e-02 6.60271557e-01 2.85662415e-01 1.37256642e-02]\n",
            " [1.18955296e-01 4.61267785e-01 4.07595488e-01 1.21814305e-02]\n",
            " [1.15924260e-01 6.15879417e-01 1.89586203e-01 7.86101196e-02]\n",
            " [2.81441643e-03 3.75293399e-02 8.84175507e-01 7.54807363e-02]\n",
            " [2.03301371e-01 5.67157431e-01 1.78204529e-01 5.13366689e-02]\n",
            " [3.40564745e-01 6.28807192e-02 4.21547739e-01 1.75006796e-01]\n",
            " [2.15658719e-02 3.36999171e-01 8.57566093e-02 5.55678348e-01]\n",
            " [8.91709871e-02 5.34179042e-01 3.54558690e-01 2.20912808e-02]\n",
            " [4.02596786e-01 9.15173993e-02 3.68252247e-02 4.69060590e-01]\n",
            " [1.16953585e-02 5.68671611e-01 3.82925247e-01 3.67077831e-02]\n",
            " [3.81006283e-02 2.31456900e-01 7.16036549e-01 1.44059226e-02]\n",
            " [2.96789459e-01 3.54474502e-01 3.44458665e-01 4.27737367e-03]\n",
            " [2.29914004e-01 1.41210135e-02 1.10816936e-02 7.44883289e-01]\n",
            " [7.79074688e-01 1.37669596e-01 2.47121033e-02 5.85436127e-02]\n",
            " [8.13886576e-04 4.90191679e-02 2.52074663e-01 6.98092283e-01]\n",
            " [8.86544419e-01 8.57524046e-02 1.36368922e-02 1.40662842e-02]\n",
            " [8.36448378e-03 2.24277695e-01 1.66856092e-01 6.00501729e-01]\n",
            " [8.21980248e-01 1.20574306e-01 1.90552916e-02 3.83901545e-02]\n",
            " [3.34478375e-01 4.32156703e-01 1.19758099e-01 1.13606823e-01]\n",
            " [1.78417255e-02 5.37692164e-01 4.13909259e-01 3.05568518e-02]\n",
            " [9.30259071e-02 1.40594751e-01 3.81923547e-02 7.28186987e-01]\n",
            " [1.81900805e-01 7.57604735e-02 2.30715032e-02 7.19267218e-01]\n",
            " [1.40851224e-01 6.80874691e-02 7.37808119e-02 7.17280495e-01]\n",
            " [4.80233425e-03 4.94750332e-02 8.18489260e-01 1.27233372e-01]\n",
            " [6.17262192e-03 4.18536382e-02 9.44956617e-01 7.01712294e-03]\n",
            " [2.83612310e-01 3.33802283e-01 3.15371168e-01 6.72142386e-02]\n",
            " [2.27630961e-02 3.06226212e-01 6.93864930e-02 6.01624199e-01]\n",
            " [3.21319790e-02 4.92026124e-01 4.31091752e-01 4.47501450e-02]\n",
            " [9.40360816e-02 6.77286998e-01 2.21058931e-01 7.61798942e-03]\n",
            " [2.75312929e-02 2.50870357e-01 6.58192861e-01 6.34054888e-02]\n",
            " [7.80787860e-01 9.91638998e-02 8.61049555e-02 3.39432849e-02]\n",
            " [1.75035875e-01 4.69430951e-01 3.22818276e-01 3.27148980e-02]\n",
            " [8.51634286e-02 2.08450223e-02 2.12530506e-02 8.72738499e-01]\n",
            " [5.59536280e-01 2.96218101e-01 4.25019234e-02 1.01743696e-01]\n",
            " [5.52850029e-01 3.45897836e-01 5.93710044e-02 4.18811314e-02]\n",
            " [2.71111087e-03 5.23721823e-03 9.38733003e-02 8.98178371e-01]\n",
            " [8.34551137e-01 1.36605037e-01 2.06310911e-02 8.21273494e-03]\n",
            " [8.56651940e-01 8.90210519e-02 4.23755531e-03 5.00894532e-02]\n",
            " [7.60097426e-01 1.55191364e-01 2.01805973e-02 6.45306127e-02]\n",
            " [5.52299592e-02 6.58093343e-01 2.60420142e-01 2.62565562e-02]\n",
            " [5.69809939e-01 1.66180961e-01 2.44713913e-01 1.92951866e-02]\n",
            " [6.39829796e-02 3.91986090e-01 3.76854966e-01 1.67175964e-01]\n",
            " [5.02201518e-02 4.30111328e-01 4.87927125e-01 3.17413961e-02]\n",
            " [2.87671404e-03 3.25149382e-01 6.67659935e-01 4.31396847e-03]\n",
            " [3.64383660e-02 4.99674025e-01 4.13376268e-01 5.05113409e-02]\n",
            " [3.94871165e-02 5.15785673e-01 4.11504811e-01 3.32223994e-02]\n",
            " [7.94644624e-01 7.75909805e-02 3.85977676e-02 8.91666283e-02]\n",
            " [9.31322529e-01 1.15766732e-02 2.70763032e-02 3.00244949e-02]\n",
            " [9.46646217e-02 3.42898159e-03 1.26004462e-02 8.89305950e-01]\n",
            " [9.44670591e-01 3.65297191e-02 1.06638387e-02 8.13585119e-03]\n",
            " [8.06912057e-01 1.53424258e-01 8.71192370e-03 3.09517618e-02]\n",
            " [1.39925955e-01 7.53245171e-01 7.26366167e-02 3.41922569e-02]\n",
            " [6.61897124e-03 2.05712101e-01 6.88203431e-01 9.94654964e-02]\n",
            " [3.42506435e-01 9.36488453e-03 6.42325944e-03 6.41705421e-01]\n",
            " [9.41426037e-02 2.33379522e-01 5.51783727e-01 1.20694148e-01]\n",
            " [2.70612260e-02 7.40933094e-02 8.06003019e-01 9.28424453e-02]\n",
            " [5.31949613e-01 2.00402737e-01 8.00048690e-02 1.87642781e-01]\n",
            " [1.98574716e-01 4.97821054e-01 2.00270244e-01 1.03333987e-01]\n",
            " [4.11965767e-01 3.75045667e-03 8.06216684e-02 5.03662108e-01]\n",
            " [7.62186042e-01 7.61328265e-02 2.10894388e-02 1.40591693e-01]\n",
            " [3.58867359e-02 4.97283766e-01 4.52164059e-01 1.46654390e-02]\n",
            " [5.58938759e-01 2.64907756e-01 4.86805518e-02 1.27472933e-01]\n",
            " [3.20330487e-02 4.97038729e-01 4.55527180e-01 1.54010422e-02]\n",
            " [1.80044722e-02 4.48736274e-02 8.81184960e-01 5.59369406e-02]\n",
            " [1.55785414e-01 6.34591002e-01 1.85561677e-01 2.40619072e-02]\n",
            " [9.07991551e-01 3.27779440e-02 2.29363454e-02 3.62941599e-02]\n",
            " [4.68639843e-03 5.06847568e-01 4.74274603e-01 1.41914306e-02]\n",
            " [7.79286539e-01 1.51773924e-01 5.31098087e-02 1.58297281e-02]\n",
            " [2.83930144e-01 4.31984425e-01 2.44742620e-01 3.93428112e-02]\n",
            " [1.71029061e-02 3.19751556e-01 6.72548574e-02 5.95890681e-01]\n",
            " [3.35644099e-01 5.87482258e-03 4.87104883e-03 6.53610030e-01]\n",
            " [7.51199937e-02 6.45560172e-02 1.92746817e-02 8.41049307e-01]\n",
            " [2.52148722e-02 1.81899907e-01 5.35663793e-01 2.57221429e-01]\n",
            " [7.22150485e-01 1.51194316e-01 4.40934491e-02 8.25617497e-02]\n",
            " [7.55230437e-03 1.78184321e-01 7.91340932e-01 2.29224430e-02]\n",
            " [9.64065678e-04 3.61417607e-01 6.26431187e-01 1.11871396e-02]\n",
            " [8.36127476e-01 7.43262436e-02 3.78103031e-02 5.17359773e-02]\n",
            " [9.27707006e-01 3.27993300e-02 2.36109872e-02 1.58826765e-02]\n",
            " [8.39982512e-01 1.03415650e-01 8.12688362e-03 4.84749547e-02]\n",
            " [5.22350649e-01 1.97450686e-01 6.27194484e-02 2.17479216e-01]\n",
            " [1.98729079e-03 3.15367096e-01 6.78274676e-01 4.37093763e-03]\n",
            " [6.81827494e-02 2.99233849e-01 6.05288677e-01 2.72947247e-02]\n",
            " [5.52228758e-01 2.64411837e-01 1.23361088e-01 5.99983178e-02]\n",
            " [7.52665021e-01 2.12047993e-01 1.56556198e-02 1.96313660e-02]\n",
            " [3.83013847e-02 3.38154506e-01 6.00479867e-01 2.30642423e-02]\n",
            " [9.16244748e-01 3.32055076e-02 1.18346695e-02 3.87150745e-02]\n",
            " [1.54307629e-03 1.51945120e-01 8.03457022e-01 4.30547826e-02]\n",
            " [6.94164129e-01 2.70451129e-01 1.02269233e-02 2.51578184e-02]\n",
            " [3.78477463e-01 3.49378119e-01 2.71584239e-01 5.60178129e-04]\n",
            " [1.22054685e-01 2.80211293e-01 1.60681594e-01 4.37052428e-01]\n",
            " [7.05665049e-01 2.40549261e-02 2.16033537e-02 2.48676672e-01]\n",
            " [6.72966528e-01 2.24440969e-01 1.83493287e-02 8.42431736e-02]\n",
            " [6.70719213e-01 6.05170715e-02 2.31126965e-02 2.45651019e-01]\n",
            " [1.29269271e-02 3.20250963e-01 7.43291950e-02 5.92492915e-01]\n",
            " [8.55050601e-01 5.09749031e-02 4.26428946e-02 5.13316018e-02]\n",
            " [9.40794528e-02 6.16114779e-01 1.06841864e-01 1.82963904e-01]\n",
            " [3.22234566e-01 1.63043543e-01 3.33797424e-01 1.80924467e-01]\n",
            " [2.60278676e-02 4.55857730e-01 5.03606531e-01 1.45078717e-02]\n",
            " [5.74299924e-01 1.92114782e-01 1.66057219e-01 6.75280743e-02]\n",
            " [9.61427088e-02 5.50892163e-01 3.23147344e-01 2.98177844e-02]\n",
            " [1.06718076e-01 1.94407891e-01 5.96736835e-01 1.02137199e-01]\n",
            " [1.36407092e-03 1.99757510e-01 7.52066735e-01 4.68116840e-02]\n",
            " [6.75217729e-02 3.04597908e-01 3.58178862e-02 5.92062433e-01]\n",
            " [8.49660125e-01 7.79140580e-02 4.99267971e-02 2.24990201e-02]\n",
            " [5.10404603e-01 2.20566449e-02 1.62590445e-02 4.51279708e-01]\n",
            " [6.62535133e-01 1.32374463e-01 1.82696942e-02 1.86820710e-01]\n",
            " [3.96043460e-02 1.46881863e-02 6.37299539e-03 9.39334472e-01]\n",
            " [1.16556105e-01 4.21196727e-01 3.85351216e-01 7.68959529e-02]\n",
            " [9.10743159e-02 1.99740623e-02 2.37900098e-01 6.51051524e-01]\n",
            " [7.82195831e-01 1.36989413e-01 2.37400428e-02 5.70747129e-02]\n",
            " [8.71874186e-01 5.45545126e-02 3.00343669e-02 4.35369346e-02]\n",
            " [1.31965224e-02 4.05032858e-01 5.24257207e-01 5.75134125e-02]]\n",
            "              precision    recall  f1-score   support\n",
            "\n",
            "           1       0.95      0.92      0.93        62\n",
            "           2       0.90      0.80      0.85        55\n",
            "           3       0.73      0.89      0.80        36\n",
            "           4       0.91      0.91      0.91        35\n",
            "\n",
            "    accuracy                           0.88       188\n",
            "   macro avg       0.87      0.88      0.87       188\n",
            "weighted avg       0.89      0.88      0.88       188\n",
            "\n",
            "Confusion Matrix\n",
            "[[57  1  1  3]\n",
            " [ 3 44  8  0]\n",
            " [ 0  4 32  0]\n",
            " [ 0  0  3 32]]\n",
            "Accuracy Score\n",
            "0.8776595744680851\n",
            "Validation Score Mean\n",
            "0.8564722617354198\n",
            "Validation Sonuçları\n",
            "[0.84210526 0.81578947 0.89473684 0.97297297 0.75675676]\n"
          ]
        },
        {
          "output_type": "display_data",
          "data": {
            "image/png": "[encoded data removed]",
            "text/plain": [
              "<Figure size 432x288 with 2 Axes>"
            ]
          },
          "metadata": {
            "needs_background": "light"
          }
        }
      ]
    },
    {
      "cell_type": "markdown",
      "metadata": {
        "id": "lDylQQt2hQOf"
      },
      "source": [
        "### Hayvan Sesi Türü?"
      ]
    },
    {
      "cell_type": "code",
      "metadata": {
        "id": "6O5RkKnMgNV8"
      },
      "source": [
        "dataFrame = pd.read_csv('/content/drive/MyDrive/csvler/librosasonmfcc127/hayvansinifi.csv')\n",
        "dataFrame = dataFrame.drop(\"Unnamed: 0\", axis=1)\n",
        "dataFrame = dataFrame.drop(\"Unnamed: 0.1\", axis=1)\n",
        "dataFrame= dataFrame.replace(to_replace =\"dogs\",value =1)\n",
        "dataFrame= dataFrame.replace(to_replace =\"cats\",value =2)"
      ],
      "execution_count": null,
      "outputs": []
    },
    {
      "cell_type": "markdown",
      "metadata": {
        "id": "gTpzC1FUDa24"
      },
      "source": [
        "##### Log Reg"
      ]
    },
    {
      "cell_type": "code",
      "metadata": {
        "id": "-YeuiXTQl_dn"
      },
      "source": [
        "lgreg = ['Duygu','0', '1', '2', '3', '4', '6', '8', '9', '10', '11', '13', '14', '15', '16', '17', '18', '19', '20', '21', '22', '23', '24', '25', '26', '27', '28', '29', '30', '31', '32', '33', '34', '35', '36', '37', '38', '39', '40', '41', '42', '43', '44', '45', '46', '47', '48', '49', '50', '51', '52', '54', '55', '57', '58', '63', '70', '79', '86', '89', '93', '105', '110', '114', '115']"
      ],
      "execution_count": null,
      "outputs": []
    },
    {
      "cell_type": "code",
      "metadata": {
        "id": "RoRw5zjDl_dn"
      },
      "source": [
        "dataFrame = dataFrame.loc[:,lgreg]"
      ],
      "execution_count": null,
      "outputs": []
    },
    {
      "cell_type": "code",
      "metadata": {
        "id": "I5qtwqirK01-"
      },
      "source": [
        "y = dataFrame[\"Duygu\"].values\n",
        "X = dataFrame.drop(\"Duygu\",axis = 1).values\n",
        "x_train, x_test, y_train, y_test = train_test_split(X,y,test_size=0.3, random_state=15)\n",
        "scaler = MinMaxScaler()\n",
        "scaler.fit(x_train)\n",
        "x_train = scaler.transform(x_train)\n",
        "x_test = scaler.transform(x_test)"
      ],
      "execution_count": null,
      "outputs": []
    },
    {
      "cell_type": "code",
      "metadata": {
        "colab": {
          "base_uri": "https://localhost:8080/",
          "height": 1000
        },
        "id": "823lHSMtLcT5",
        "outputId": "6d8bfd01-7de2-4c47-e7f9-a0e49a44095c"
      },
      "source": [
        "print(\"---------------------------Logistic Regression ------------------------------------\")\n",
        "model = LogisticRegression(solver='liblinear', random_state=15).fit(x_train, y_train)\n",
        "import joblib\n",
        "tahminlerimiz2 = model.predict(x_test)\n",
        "guven = model.predict_proba(x_test)\n",
        "print(guven)\n",
        "print(classification_report(y_test,tahminlerimiz2))\n",
        "print(\"Confusion Matrix\")\n",
        "print(confusion_matrix(y_test,tahminlerimiz2))\n",
        "print(\"Accuracy Score\")\n",
        "print(accuracy_score(y_test,tahminlerimiz2))\n",
        "#joblib.dump(model, f'/content/drive/MyDrive/pkl/hayvan/lgreg.pkl')\n",
        "scores = cross_val_score(model, x_test, y_test)\n",
        "print(\"Validation Score Mean\")\n",
        "print(scores.mean())\n",
        "print(\"Validation Sonuçları\")\n",
        "print(scores)\n",
        "cm = confusion_matrix(y_test, tahminlerimiz2,  normalize = 'true')\n",
        "disp = ConfusionMatrixDisplay(confusion_matrix=cm, display_labels=[0,1,2]).plot(cmap='gray')"
      ],
      "execution_count": null,
      "outputs": [
        {
          "output_type": "stream",
          "name": "stdout",
          "text": [
            "---------------------------Logistic Regression ------------------------------------\n",
            "[[0.9798438  0.0201562 ]\n",
            " [0.30608788 0.69391212]\n",
            " [0.18755166 0.81244834]\n",
            " [0.81431629 0.18568371]\n",
            " [0.16908104 0.83091896]\n",
            " [0.02303069 0.97696931]\n",
            " [0.18028719 0.81971281]\n",
            " [0.11727226 0.88272774]\n",
            " [0.66153929 0.33846071]\n",
            " [0.23550849 0.76449151]\n",
            " [0.13659838 0.86340162]\n",
            " [0.93158614 0.06841386]\n",
            " [0.32024205 0.67975795]\n",
            " [0.42111405 0.57888595]\n",
            " [0.42859879 0.57140121]\n",
            " [0.38991386 0.61008614]\n",
            " [0.1010284  0.8989716 ]\n",
            " [0.12337668 0.87662332]\n",
            " [0.11116112 0.88883888]\n",
            " [0.27580528 0.72419472]\n",
            " [0.24471028 0.75528972]\n",
            " [0.03715183 0.96284817]\n",
            " [0.57358937 0.42641063]\n",
            " [0.18166654 0.81833346]\n",
            " [0.18638124 0.81361876]\n",
            " [0.31501115 0.68498885]\n",
            " [0.13821504 0.86178496]\n",
            " [0.61762684 0.38237316]\n",
            " [0.15080042 0.84919958]\n",
            " [0.97678245 0.02321755]\n",
            " [0.97530374 0.02469626]\n",
            " [0.0456514  0.9543486 ]\n",
            " [0.21276798 0.78723202]\n",
            " [0.21040826 0.78959174]\n",
            " [0.97449725 0.02550275]\n",
            " [0.61987726 0.38012274]\n",
            " [0.10640676 0.89359324]\n",
            " [0.38226105 0.61773895]\n",
            " [0.03620655 0.96379345]\n",
            " [0.56163651 0.43836349]\n",
            " [0.07266762 0.92733238]\n",
            " [0.75380807 0.24619193]\n",
            " [0.11854849 0.88145151]\n",
            " [0.90657149 0.09342851]\n",
            " [0.19883463 0.80116537]\n",
            " [0.06099229 0.93900771]\n",
            " [0.63148004 0.36851996]\n",
            " [0.55277464 0.44722536]\n",
            " [0.34787881 0.65212119]\n",
            " [0.44129428 0.55870572]\n",
            " [0.75300791 0.24699209]\n",
            " [0.98389718 0.01610282]\n",
            " [0.14629024 0.85370976]\n",
            " [0.23973794 0.76026206]\n",
            " [0.2585575  0.7414425 ]\n",
            " [0.08122843 0.91877157]\n",
            " [0.41818331 0.58181669]\n",
            " [0.10038174 0.89961826]\n",
            " [0.76385194 0.23614806]\n",
            " [0.08266117 0.91733883]\n",
            " [0.03982864 0.96017136]\n",
            " [0.18585667 0.81414333]\n",
            " [0.26901053 0.73098947]\n",
            " [0.28978828 0.71021172]\n",
            " [0.92699077 0.07300923]\n",
            " [0.33998434 0.66001566]\n",
            " [0.09607904 0.90392096]\n",
            " [0.23097791 0.76902209]\n",
            " [0.87128505 0.12871495]\n",
            " [0.23181424 0.76818576]\n",
            " [0.19239842 0.80760158]\n",
            " [0.18211324 0.81788676]\n",
            " [0.03655386 0.96344614]\n",
            " [0.18252183 0.81747817]\n",
            " [0.20196383 0.79803617]\n",
            " [0.29915671 0.70084329]\n",
            " [0.04594265 0.95405735]\n",
            " [0.38634726 0.61365274]\n",
            " [0.21295374 0.78704626]\n",
            " [0.0892635  0.9107365 ]\n",
            " [0.93032433 0.06967567]\n",
            " [0.91479176 0.08520824]\n",
            " [0.12492199 0.87507801]\n",
            " [0.2661695  0.7338305 ]]\n",
            "              precision    recall  f1-score   support\n",
            "\n",
            "           1       0.91      0.62      0.74        32\n",
            "           2       0.81      0.96      0.88        52\n",
            "\n",
            "    accuracy                           0.83        84\n",
            "   macro avg       0.86      0.79      0.81        84\n",
            "weighted avg       0.85      0.83      0.83        84\n",
            "\n",
            "Confusion Matrix\n",
            "[[20 12]\n",
            " [ 2 50]]\n",
            "Accuracy Score\n",
            "0.8333333333333334\n",
            "Validation Score Mean\n",
            "0.8088235294117647\n",
            "Validation Sonuçları\n",
            "[0.82352941 0.88235294 0.82352941 0.76470588 0.75      ]\n"
          ]
        },
        {
          "output_type": "display_data",
          "data": {
            "image/png": "[encoded data removed]",
            "text/plain": [
              "<Figure size 1440x1080 with 2 Axes>"
            ]
          },
          "metadata": {
            "needs_background": "light"
          }
        }
      ]
    },
    {
      "cell_type": "markdown",
      "metadata": {
        "id": "haI5H6srDcab"
      },
      "source": [
        "##### Gauss Bayes"
      ]
    },
    {
      "cell_type": "code",
      "metadata": {
        "id": "4T-9eRe1l_hL"
      },
      "source": [
        "gauss = [\"Duygu\",'2', '3', '4', '6', '7', '10', '13', '30', '45', '56']"
      ],
      "execution_count": null,
      "outputs": []
    },
    {
      "cell_type": "code",
      "metadata": {
        "id": "ZTWMPZxCl_hL"
      },
      "source": [
        "dataFrame = dataFrame.loc[:,gauss]"
      ],
      "execution_count": null,
      "outputs": []
    },
    {
      "cell_type": "code",
      "metadata": {
        "id": "m53lSekeKzvr"
      },
      "source": [
        "y = dataFrame[\"Duygu\"].values\n",
        "X = dataFrame.drop(\"Duygu\",axis = 1).values\n",
        "x_train, x_test, y_train, y_test = train_test_split(X,y,test_size=0.3, random_state=15)\n",
        "scaler = MinMaxScaler()\n",
        "scaler.fit(x_train)\n",
        "x_train = scaler.transform(x_train)\n",
        "x_test = scaler.transform(x_test)"
      ],
      "execution_count": null,
      "outputs": []
    },
    {
      "cell_type": "code",
      "metadata": {
        "colab": {
          "base_uri": "https://localhost:8080/",
          "height": 587
        },
        "id": "02ldQNWMLRCX",
        "outputId": "41d9e9da-8775-48ac-ae57-ea6a98dd88ef"
      },
      "source": [
        "print(\"---------------------------GaussianNB ------------------------------------\")\n",
        "\n",
        "model = GaussianNB().fit(x_train, y_train)\n",
        "\n",
        "tahminlerimiz2 = model.predict(x_test)\n",
        "print(classification_report(y_test,tahminlerimiz2))\n",
        "print(\"Confusion Matrix\")\n",
        "print(confusion_matrix(y_test,tahminlerimiz2))\n",
        "print(\"Accuracy Score\")\n",
        "print(accuracy_score(y_test,tahminlerimiz2))\n",
        "#joblib.dump(model, f'/content/drive/MyDrive/pkl/hayvan/gauss.pkl')\n",
        "scores = cross_val_score(model, x_test, y_test)\n",
        "print(\"Validation Score Mean\")\n",
        "print(scores.mean())\n",
        "print(\"Validation Sonuçları\")\n",
        "print(scores)\n",
        "cm = confusion_matrix(y_test, tahminlerimiz2,  normalize = 'true')\n",
        "disp = ConfusionMatrixDisplay(confusion_matrix=cm, display_labels=[0,1,2]).plot(cmap='gray')"
      ],
      "execution_count": null,
      "outputs": [
        {
          "output_type": "stream",
          "name": "stdout",
          "text": [
            "---------------------------GaussianNB ------------------------------------\n",
            "              precision    recall  f1-score   support\n",
            "\n",
            "           1       0.88      0.66      0.75        32\n",
            "           2       0.82      0.94      0.87        52\n",
            "\n",
            "    accuracy                           0.83        84\n",
            "   macro avg       0.85      0.80      0.81        84\n",
            "weighted avg       0.84      0.83      0.83        84\n",
            "\n",
            "Confusion Matrix\n",
            "[[21 11]\n",
            " [ 3 49]]\n",
            "Accuracy Score\n",
            "0.8333333333333334\n",
            "Validation Score Mean\n",
            "0.8095588235294118\n",
            "Validation Sonuçları\n",
            "[0.82352941 0.88235294 0.82352941 0.70588235 0.8125    ]\n"
          ]
        },
        {
          "output_type": "display_data",
          "data": {
            "image/png": "[encoded data removed]",
            "text/plain": [
              "<Figure size 432x288 with 2 Axes>"
            ]
          },
          "metadata": {
            "needs_background": "light"
          }
        }
      ]
    },
    {
      "cell_type": "markdown",
      "metadata": {
        "id": "hlVQ-K6SDd16"
      },
      "source": [
        "##### KNN"
      ]
    },
    {
      "cell_type": "code",
      "metadata": {
        "id": "qS_VLfX2l_jn"
      },
      "source": [
        "knn = [\"Duygu\",'1', '2', '3', '5', '8', '9', '10', '11', '13', '14', '22', '31', '63', '69', '72', '81', '90', '91', '101', '109', '112']"
      ],
      "execution_count": null,
      "outputs": []
    },
    {
      "cell_type": "code",
      "metadata": {
        "id": "vOxTPpp8l_jn"
      },
      "source": [
        "dataFrame = dataFrame.loc[:,knn]"
      ],
      "execution_count": null,
      "outputs": []
    },
    {
      "cell_type": "code",
      "metadata": {
        "id": "mlEHFS6oK4OI"
      },
      "source": [
        "y = dataFrame[\"Duygu\"].values\n",
        "X = dataFrame.drop(\"Duygu\",axis = 1).values\n",
        "x_train, x_test, y_train, y_test = train_test_split(X,y,test_size=0.3, random_state=15)\n",
        "scaler = MinMaxScaler()\n",
        "scaler.fit(x_train)\n",
        "x_train = scaler.transform(x_train)\n",
        "x_test = scaler.transform(x_test)"
      ],
      "execution_count": null,
      "outputs": []
    },
    {
      "cell_type": "code",
      "metadata": {
        "colab": {
          "base_uri": "https://localhost:8080/",
          "height": 587
        },
        "id": "pEK9iIOoLIFi",
        "outputId": "d3b3bf22-e84f-4568-813a-fe9ba35e6a08"
      },
      "source": [
        "print(\"--------------------------- KNN n=3 ------------------------------------\")\n",
        "\n",
        "model = KNeighborsClassifier(n_neighbors=3, algorithm='ball_tree').fit(x_train,y_train)\n",
        "\n",
        "tahminlerimiz2 = model.predict(x_test)\n",
        "print(classification_report(y_test,tahminlerimiz2))\n",
        "print(\"Confusion Matrix\")\n",
        "print(confusion_matrix(y_test,tahminlerimiz2))\n",
        "print(\"Accuracy Score\")\n",
        "print(accuracy_score(y_test,tahminlerimiz2))\n",
        "#joblib.dump(model, f'/content/drive/MyDrive/pkl/hayvan/knn.pkl')\n",
        "scores = cross_val_score(model, x_test, y_test)\n",
        "print(\"Validation Score Mean\")\n",
        "print(scores.mean())\n",
        "print(\"Validation Sonuçları\")\n",
        "print(scores)\n",
        "cm = confusion_matrix(y_test, tahminlerimiz2,  normalize = 'true')\n",
        "disp = ConfusionMatrixDisplay(confusion_matrix=cm, display_labels=[0,1,2]).plot(cmap='gray')\n"
      ],
      "execution_count": null,
      "outputs": [
        {
          "output_type": "stream",
          "name": "stdout",
          "text": [
            "--------------------------- KNN n=3 ------------------------------------\n",
            "              precision    recall  f1-score   support\n",
            "\n",
            "           1       0.96      0.69      0.80        32\n",
            "           2       0.84      0.98      0.90        52\n",
            "\n",
            "    accuracy                           0.87        84\n",
            "   macro avg       0.90      0.83      0.85        84\n",
            "weighted avg       0.88      0.87      0.86        84\n",
            "\n",
            "Confusion Matrix\n",
            "[[22 10]\n",
            " [ 1 51]]\n",
            "Accuracy Score\n",
            "0.8690476190476191\n",
            "Validation Score Mean\n",
            "0.7977941176470588\n",
            "Validation Sonuçları\n",
            "[0.76470588 0.76470588 0.88235294 0.76470588 0.8125    ]\n"
          ]
        },
        {
          "output_type": "display_data",
          "data": {
            "image/png": "[encoded data removed]",
            "text/plain": [
              "<Figure size 432x288 with 2 Axes>"
            ]
          },
          "metadata": {
            "needs_background": "light"
          }
        }
      ]
    },
    {
      "cell_type": "markdown",
      "metadata": {
        "id": "-UYmAloUDfPU"
      },
      "source": [
        "##### svm"
      ]
    },
    {
      "cell_type": "code",
      "metadata": {
        "id": "-RxMwJ6bl_m5"
      },
      "source": [
        "svms = [\"Duygu\",'2', '3', '4', '6', '7', '10', '13', '30', '45', '56']"
      ],
      "execution_count": null,
      "outputs": []
    },
    {
      "cell_type": "code",
      "metadata": {
        "id": "OzNj4POJl_m5"
      },
      "source": [
        "dataFrame = dataFrame.loc[:,svms]"
      ],
      "execution_count": null,
      "outputs": []
    },
    {
      "cell_type": "code",
      "metadata": {
        "id": "k0mCrZEfKygc"
      },
      "source": [
        "y = dataFrame[\"Duygu\"].values\n",
        "X = dataFrame.drop(\"Duygu\",axis = 1).values\n",
        "x_train, x_test, y_train, y_test = train_test_split(X,y,test_size=0.3, random_state=15)\n",
        "scaler = MinMaxScaler()\n",
        "scaler.fit(x_train)\n",
        "x_train = scaler.transform(x_train)\n",
        "x_test = scaler.transform(x_test)"
      ],
      "execution_count": null,
      "outputs": []
    },
    {
      "cell_type": "code",
      "metadata": {
        "colab": {
          "base_uri": "https://localhost:8080/",
          "height": 587
        },
        "id": "qWBPHjmFLizK",
        "outputId": "a81a6e2d-c06c-4cbc-e48f-6e85304db019"
      },
      "source": [
        "print(\"--------------------------- Linear SVC ------------------------------------\")\n",
        "\n",
        "model= svm.SVC(kernel='linear',probability=True,gamma='auto').fit(x_train,y_train)\n",
        "\n",
        "tahminlerimiz2 = model.predict(x_test)\n",
        "\n",
        "print(classification_report(y_test,tahminlerimiz2))\n",
        "print(\"Confusion Matrix\")\n",
        "print(confusion_matrix(y_test,tahminlerimiz2))\n",
        "print(\"Accuracy Score\")\n",
        "print(accuracy_score(y_test,tahminlerimiz2))\n",
        "#joblib.dump(model, f'/content/drive/MyDrive/pkl/hayvan/svmlineer.pkl')\n",
        "\n",
        "\n",
        "scores = cross_val_score(model, x_test, y_test)\n",
        "print(\"Validation Score Mean\")\n",
        "print(scores.mean())\n",
        "print(\"Validation Sonuçları\")\n",
        "print(scores)\n",
        "cm = confusion_matrix(y_test, tahminlerimiz2,  normalize = 'true')\n",
        "disp = ConfusionMatrixDisplay(confusion_matrix=cm, display_labels=[0,1,2]).plot(cmap='gray')"
      ],
      "execution_count": null,
      "outputs": [
        {
          "output_type": "stream",
          "name": "stdout",
          "text": [
            "--------------------------- Linear SVC ------------------------------------\n",
            "              precision    recall  f1-score   support\n",
            "\n",
            "           1       0.92      0.69      0.79        32\n",
            "           2       0.83      0.96      0.89        52\n",
            "\n",
            "    accuracy                           0.86        84\n",
            "   macro avg       0.88      0.82      0.84        84\n",
            "weighted avg       0.87      0.86      0.85        84\n",
            "\n",
            "Confusion Matrix\n",
            "[[22 10]\n",
            " [ 2 50]]\n",
            "Accuracy Score\n",
            "0.8571428571428571\n",
            "Validation Score Mean\n",
            "0.8683823529411765\n",
            "Validation Sonuçları\n",
            "[0.82352941 1.         0.94117647 0.76470588 0.8125    ]\n"
          ]
        },
        {
          "output_type": "display_data",
          "data": {
            "image/png": "[encoded data removed]",
            "text/plain": [
              "<Figure size 432x288 with 2 Axes>"
            ]
          },
          "metadata": {
            "needs_background": "light"
          }
        }
      ]
    },
    {
      "cell_type": "markdown",
      "metadata": {
        "id": "sB5gRTDMLvv9"
      },
      "source": [
        "##ROC AUC"
      ]
    },
    {
      "cell_type": "code",
      "metadata": {
        "colab": {
          "base_uri": "https://localhost:8080/",
          "height": 982
        },
        "id": "7JgoAFsELxqq",
        "outputId": "1fd42833-c2fd-43fd-9077-6740309b9ffc"
      },
      "source": [
        "from sklearn.svm import LinearSVC\n",
        "n_classes = 2\n",
        "# shuffle and split training and test sets\n",
        "# classifier\n",
        "y_train = label_binarize(y_train, classes=[0,1,2])\n",
        "y_test = label_binarize(y_test, classes=[0,1,2])\n",
        "#clf = OneVsRestClassifier(LinearSVC(random_state=0)).fit(x_train, y_train)\n",
        "tahminlerimiz2 = model.predict(x_test)\n",
        "#lineer için y score\n",
        "  #y_score = model.decision_function(x_test)\n",
        "#knn için y score\n",
        "y_score = model.predict_proba(x_test)\n",
        "\n",
        "\n",
        "# Compute ROC curve and ROC area for each class\n",
        "fpr = dict()\n",
        "tpr = dict()\n",
        "roc_auc = dict()\n",
        "for i in range(n_classes):\n",
        "  print(i)\n",
        "  fpr[i], tpr[i], _ = roc_curve(y_test[:, i], y_score[:, i])\n",
        "  roc_auc[i] = auc(fpr[i], tpr[i])\n",
        "# Plot of a ROC curve for a specific class\n",
        "for i in range(n_classes):\n",
        "    \n",
        "    plt.figure()\n",
        "    plt.plot(fpr[i], tpr[i], label='ROC curve (area = %0.2f)' % roc_auc[i])\n",
        "    plt.plot([0, 1], [0, 1], 'k--')\n",
        "    plt.xlim([0.0, 1.0])\n",
        "    plt.ylim([0.0, 1.05])\n",
        "    plt.xlabel('False Positive Rate')\n",
        "    plt.ylabel('True Positive Rate')\n",
        "    \n",
        "    plt.title(f'Receiver operating characteristic example -{i}')\n",
        "    plt.legend(loc=\"lower right\")\n",
        "    \n",
        "    plt.show()\n",
        "\n",
        "\n",
        "fpr[\"micro\"], tpr[\"micro\"], _ = roc_curve(y_test.ravel(), y_score.ravel())\n",
        "roc_auc[\"micro\"] = auc(fpr[\"micro\"], tpr[\"micro\"])\n",
        "all_fpr = np.unique(np.concatenate([fpr[i] for i in range(n_classes)]))\n",
        "\n",
        "# Then interpolate all ROC curves at this points\n",
        "mean_tpr = np.zeros_like(all_fpr)\n",
        "for i in range(n_classes):\n",
        "    mean_tpr += interp(all_fpr, fpr[i], tpr[i])\n",
        "\n",
        "# Finally average it and compute AUC\n",
        "mean_tpr /= n_classes\n",
        "\n",
        "fpr[\"macro\"] = all_fpr\n",
        "tpr[\"macro\"] = mean_tpr\n",
        "roc_auc[\"macro\"] = auc(fpr[\"macro\"], tpr[\"macro\"])\n",
        "\n",
        "# Plot all ROC curves bu değil\n",
        "plt.figure()\n",
        "plt.plot(fpr[\"micro\"], tpr[\"micro\"],\n",
        "         label='micro-average ROC curve (area = {0:0.2f})'\n",
        "              ''.format(roc_auc[\"micro\"]),\n",
        "         color='deeppink', linestyle=':', linewidth=4)\n",
        "\n",
        "plt.plot(fpr[\"macro\"], tpr[\"macro\"],\n",
        "        label='macro-average ROC curve (area = {0:0.2f})'\n",
        "              ''.format(roc_auc[\"macro\"]),\n",
        "         color='navy', linestyle=':', linewidth=4)\n",
        "\n",
        "colors = cycle(['aqua', 'darkorange', 'cornflowerblue'])\n",
        "for i, color in zip(range(n_classes), colors):\n",
        "    plt.plot(fpr[i], tpr[i], color=color, \n",
        "             label='ROC curve of class {0} (area = {1:0.2f})'\n",
        "             ''.format(i, roc_auc[i]))\n",
        "\n",
        "plt.plot([0, 1], [0, 1], 'k--')\n",
        "plt.xlim([0.0, 1.0])\n",
        "plt.ylim([0.0, 1.05])\n",
        "plt.xlabel('False Positive Rate')\n",
        "plt.ylabel('True Positive Rate')\n",
        "plt.title('Some extension of Receiver operating characteristic to multi-class')\n",
        "plt.legend(loc=\"lower right\")\n",
        "plt.rcParams[\"figure.figsize\"] = (20,15)\n",
        "plt.show()\n",
        "# plt.savefig('rocauclineer.png')"
      ],
      "execution_count": null,
      "outputs": [
        {
          "output_type": "stream",
          "name": "stdout",
          "text": [
            "0\n",
            "1\n"
          ]
        },
        {
          "output_type": "stream",
          "name": "stderr",
          "text": [
            "/usr/local/lib/python3.7/dist-packages/sklearn/metrics/_ranking.py:808: UndefinedMetricWarning: No positive samples in y_true, true positive value should be meaningless\n",
            "  UndefinedMetricWarning)\n"
          ]
        },
        {
          "output_type": "display_data",
          "data": {
            "image/png": "[encoded data removed]",
            "text/plain": [
              "<Figure size 432x288 with 1 Axes>"
            ]
          },
          "metadata": {
            "needs_background": "light"
          }
        },
        {
          "output_type": "display_data",
          "data": {
            "image/png": "[encoded data removed]",
            "text/plain": [
              "<Figure size 432x288 with 1 Axes>"
            ]
          },
          "metadata": {
            "needs_background": "light"
          }
        },
        {
          "output_type": "error",
          "ename": "ValueError",
          "evalue": "ignored",
          "traceback": [
            "\u001b[0;31m---------------------------------------------------------------------------\u001b[0m",
            "\u001b[0;31mValueError\u001b[0m                                Traceback (most recent call last)",
            "\u001b[0;32m<ipython-input-15-e8bad96ee260>\u001b[0m in \u001b[0;36m<module>\u001b[0;34m()\u001b[0m\n\u001b[1;32m     38\u001b[0m \u001b[0;34m\u001b[0m\u001b[0m\n\u001b[1;32m     39\u001b[0m \u001b[0;34m\u001b[0m\u001b[0m\n\u001b[0;32m---> 40\u001b[0;31m \u001b[0mfpr\u001b[0m\u001b[0;34m[\u001b[0m\u001b[0;34m\"micro\"\u001b[0m\u001b[0;34m]\u001b[0m\u001b[0;34m,\u001b[0m \u001b[0mtpr\u001b[0m\u001b[0;34m[\u001b[0m\u001b[0;34m\"micro\"\u001b[0m\u001b[0;34m]\u001b[0m\u001b[0;34m,\u001b[0m \u001b[0m_\u001b[0m \u001b[0;34m=\u001b[0m \u001b[0mroc_curve\u001b[0m\u001b[0;34m(\u001b[0m\u001b[0my_test\u001b[0m\u001b[0;34m.\u001b[0m\u001b[0mravel\u001b[0m\u001b[0;34m(\u001b[0m\u001b[0;34m)\u001b[0m\u001b[0;34m,\u001b[0m \u001b[0my_score\u001b[0m\u001b[0;34m.\u001b[0m\u001b[0mravel\u001b[0m\u001b[0;34m(\u001b[0m\u001b[0;34m)\u001b[0m\u001b[0;34m)\u001b[0m\u001b[0;34m\u001b[0m\u001b[0;34m\u001b[0m\u001b[0m\n\u001b[0m\u001b[1;32m     41\u001b[0m \u001b[0mroc_auc\u001b[0m\u001b[0;34m[\u001b[0m\u001b[0;34m\"micro\"\u001b[0m\u001b[0;34m]\u001b[0m \u001b[0;34m=\u001b[0m \u001b[0mauc\u001b[0m\u001b[0;34m(\u001b[0m\u001b[0mfpr\u001b[0m\u001b[0;34m[\u001b[0m\u001b[0;34m\"micro\"\u001b[0m\u001b[0;34m]\u001b[0m\u001b[0;34m,\u001b[0m \u001b[0mtpr\u001b[0m\u001b[0;34m[\u001b[0m\u001b[0;34m\"micro\"\u001b[0m\u001b[0;34m]\u001b[0m\u001b[0;34m)\u001b[0m\u001b[0;34m\u001b[0m\u001b[0;34m\u001b[0m\u001b[0m\n\u001b[1;32m     42\u001b[0m \u001b[0mall_fpr\u001b[0m \u001b[0;34m=\u001b[0m \u001b[0mnp\u001b[0m\u001b[0;34m.\u001b[0m\u001b[0munique\u001b[0m\u001b[0;34m(\u001b[0m\u001b[0mnp\u001b[0m\u001b[0;34m.\u001b[0m\u001b[0mconcatenate\u001b[0m\u001b[0;34m(\u001b[0m\u001b[0;34m[\u001b[0m\u001b[0mfpr\u001b[0m\u001b[0;34m[\u001b[0m\u001b[0mi\u001b[0m\u001b[0;34m]\u001b[0m \u001b[0;32mfor\u001b[0m \u001b[0mi\u001b[0m \u001b[0;32min\u001b[0m \u001b[0mrange\u001b[0m\u001b[0;34m(\u001b[0m\u001b[0mn_classes\u001b[0m\u001b[0;34m)\u001b[0m\u001b[0;34m]\u001b[0m\u001b[0;34m)\u001b[0m\u001b[0;34m)\u001b[0m\u001b[0;34m\u001b[0m\u001b[0;34m\u001b[0m\u001b[0m\n",
            "\u001b[0;32m/usr/local/lib/python3.7/dist-packages/sklearn/metrics/_ranking.py\u001b[0m in \u001b[0;36mroc_curve\u001b[0;34m(y_true, y_score, pos_label, sample_weight, drop_intermediate)\u001b[0m\n\u001b[1;32m    769\u001b[0m     \"\"\"\n\u001b[1;32m    770\u001b[0m     fps, tps, thresholds = _binary_clf_curve(\n\u001b[0;32m--> 771\u001b[0;31m         y_true, y_score, pos_label=pos_label, sample_weight=sample_weight)\n\u001b[0m\u001b[1;32m    772\u001b[0m \u001b[0;34m\u001b[0m\u001b[0m\n\u001b[1;32m    773\u001b[0m     \u001b[0;31m# Attempt to drop thresholds corresponding to points in between and\u001b[0m\u001b[0;34m\u001b[0m\u001b[0;34m\u001b[0m\u001b[0;34m\u001b[0m\u001b[0m\n",
            "\u001b[0;32m/usr/local/lib/python3.7/dist-packages/sklearn/metrics/_ranking.py\u001b[0m in \u001b[0;36m_binary_clf_curve\u001b[0;34m(y_true, y_score, pos_label, sample_weight)\u001b[0m\n\u001b[1;32m    536\u001b[0m         \u001b[0;32mraise\u001b[0m \u001b[0mValueError\u001b[0m\u001b[0;34m(\u001b[0m\u001b[0;34m\"{0} format is not supported\"\u001b[0m\u001b[0;34m.\u001b[0m\u001b[0mformat\u001b[0m\u001b[0;34m(\u001b[0m\u001b[0my_type\u001b[0m\u001b[0;34m)\u001b[0m\u001b[0;34m)\u001b[0m\u001b[0;34m\u001b[0m\u001b[0;34m\u001b[0m\u001b[0m\n\u001b[1;32m    537\u001b[0m \u001b[0;34m\u001b[0m\u001b[0m\n\u001b[0;32m--> 538\u001b[0;31m     \u001b[0mcheck_consistent_length\u001b[0m\u001b[0;34m(\u001b[0m\u001b[0my_true\u001b[0m\u001b[0;34m,\u001b[0m \u001b[0my_score\u001b[0m\u001b[0;34m,\u001b[0m \u001b[0msample_weight\u001b[0m\u001b[0;34m)\u001b[0m\u001b[0;34m\u001b[0m\u001b[0;34m\u001b[0m\u001b[0m\n\u001b[0m\u001b[1;32m    539\u001b[0m     \u001b[0my_true\u001b[0m \u001b[0;34m=\u001b[0m \u001b[0mcolumn_or_1d\u001b[0m\u001b[0;34m(\u001b[0m\u001b[0my_true\u001b[0m\u001b[0;34m)\u001b[0m\u001b[0;34m\u001b[0m\u001b[0;34m\u001b[0m\u001b[0m\n\u001b[1;32m    540\u001b[0m     \u001b[0my_score\u001b[0m \u001b[0;34m=\u001b[0m \u001b[0mcolumn_or_1d\u001b[0m\u001b[0;34m(\u001b[0m\u001b[0my_score\u001b[0m\u001b[0;34m)\u001b[0m\u001b[0;34m\u001b[0m\u001b[0;34m\u001b[0m\u001b[0m\n",
            "\u001b[0;32m/usr/local/lib/python3.7/dist-packages/sklearn/utils/validation.py\u001b[0m in \u001b[0;36mcheck_consistent_length\u001b[0;34m(*arrays)\u001b[0m\n\u001b[1;32m    210\u001b[0m     \u001b[0;32mif\u001b[0m \u001b[0mlen\u001b[0m\u001b[0;34m(\u001b[0m\u001b[0muniques\u001b[0m\u001b[0;34m)\u001b[0m \u001b[0;34m>\u001b[0m \u001b[0;36m1\u001b[0m\u001b[0;34m:\u001b[0m\u001b[0;34m\u001b[0m\u001b[0;34m\u001b[0m\u001b[0m\n\u001b[1;32m    211\u001b[0m         raise ValueError(\"Found input variables with inconsistent numbers of\"\n\u001b[0;32m--> 212\u001b[0;31m                          \" samples: %r\" % [int(l) for l in lengths])\n\u001b[0m\u001b[1;32m    213\u001b[0m \u001b[0;34m\u001b[0m\u001b[0m\n\u001b[1;32m    214\u001b[0m \u001b[0;34m\u001b[0m\u001b[0m\n",
            "\u001b[0;31mValueError\u001b[0m: Found input variables with inconsistent numbers of samples: [813, 542]"
          ]
        }
      ]
    },
    {
      "cell_type": "markdown",
      "metadata": {
        "id": "ANBR_dzKMEjd"
      },
      "source": [
        "#SFSBFS"
      ]
    },
    {
      "cell_type": "markdown",
      "metadata": {
        "id": "6vQwcdtigsWz"
      },
      "source": [
        "##Split ve Random State\n"
      ]
    },
    {
      "cell_type": "code",
      "metadata": {
        "id": "gs2oPpodgwQs"
      },
      "source": [
        "y = dataFrame[\"Duygu\"].values\n",
        "X = dataFrame.drop(\"Duygu\",axis = 1).values\n",
        "x_train, x_test, y_train, y_test = train_test_split(X,y,test_size=0.3, random_state=15)\n",
        "scaler = MinMaxScaler()\n",
        "scaler.fit(x_train)\n",
        "x_train = scaler.transform(x_train)\n",
        "x_test = scaler.transform(x_test)"
      ],
      "execution_count": null,
      "outputs": []
    },
    {
      "cell_type": "markdown",
      "metadata": {
        "id": "3PHashkI6XrZ"
      },
      "source": [
        "##modeller"
      ]
    },
    {
      "cell_type": "markdown",
      "metadata": {
        "id": "oyIgEVDXR-4K"
      },
      "source": [
        "### KNN\n"
      ]
    },
    {
      "cell_type": "code",
      "metadata": {
        "id": "kMvTp7Amo_8g"
      },
      "source": [
        "print(\"--------------------------- KNN n=3 ------------------------------------\")\n",
        "\n",
        "model = KNeighborsClassifier(n_neighbors=3, algorithm='ball_tree').fit(x_train,y_train)\n",
        "\n",
        "tahminlerimiz2 = model.predict(x_test)\n",
        "print(classification_report(y_test,tahminlerimiz2))\n",
        "print(\"Confusion Matrix\")\n",
        "print(confusion_matrix(y_test,tahminlerimiz2))\n",
        "print(\"Accuracy Score\")\n",
        "print(accuracy_score(y_test,tahminlerimiz2))\n",
        "#joblib.dump(model, f'/content/drive/MyDrive/pkl/hayvan/knn.pkl')\n",
        "scores = cross_val_score(model, x_test, y_test)\n",
        "print(\"Validation Score Mean\")\n",
        "print(scores.mean())\n",
        "print(\"Validation Sonuçları\")\n",
        "print(scores)\n",
        "cm = confusion_matrix(y_test, tahminlerimiz2,  normalize = 'true')\n",
        "disp = ConfusionMatrixDisplay(confusion_matrix=cm, display_labels=[0,1,2]).plot(cmap='gray')\n"
      ],
      "execution_count": null,
      "outputs": []
    },
    {
      "cell_type": "code",
      "metadata": {
        "id": "PBkmd-0JS-ib"
      },
      "source": [
        "from sklearn.svm import LinearSVC\n",
        "n_classes = 1\n",
        "\n",
        "# shuffle and split training and test sets\n",
        "# classifier\n",
        "y_train = label_binarize(y_train, classes=[0,1])\n",
        "y_test = label_binarize(y_test, classes=[0,1])\n",
        "#clf = OneVsRestClassifier(LinearSVC(random_state=0)).fit(x_train, y_train)\n",
        "tahminlerimiz2 = model.predict(x_test)\n",
        "#lineer için y score\n",
        "  #y_score = model.decision_function(x_test)\n",
        "#knn için y score\n",
        "y_score = model.predict_proba(x_test)\n",
        "\n",
        "\n",
        "# Compute ROC curve and ROC area for each class\n",
        "fpr = dict()\n",
        "tpr = dict()\n",
        "roc_auc = dict()\n",
        "for i in range(n_classes):\n",
        "    fpr[i], tpr[i], _ = roc_curve(y_test[:, i], y_score[:, i])\n",
        "    roc_auc[i] = auc(fpr[i], tpr[i])\n",
        "# Plot of a ROC curve for a specific class\n",
        "for i in range(n_classes):\n",
        "    \n",
        "    plt.figure()\n",
        "    plt.plot(fpr[i], tpr[i], label='ROC curve (area = %0.2f)' % roc_auc[i])\n",
        "    plt.plot([0, 1], [0, 1], 'k--')\n",
        "    plt.xlim([0.0, 1.0])\n",
        "    plt.ylim([0.0, 1.05])\n",
        "    plt.xlabel('False Positive Rate')\n",
        "    plt.ylabel('True Positive Rate')\n",
        "    \n",
        "    plt.title(f'Receiver operating characteristic example -{i}')\n",
        "    plt.legend(loc=\"lower right\")\n",
        "    \n",
        "    plt.show()\n",
        "\n",
        "\n",
        "fpr[\"micro\"], tpr[\"micro\"], _ = roc_curve(y_test.ravel(), y_score.ravel())\n",
        "roc_auc[\"micro\"] = auc(fpr[\"micro\"], tpr[\"micro\"])\n",
        "all_fpr = np.unique(np.concatenate([fpr[i] for i in range(n_classes)]))\n",
        "\n",
        "# Then interpolate all ROC curves at this points\n",
        "mean_tpr = np.zeros_like(all_fpr)\n",
        "for i in range(n_classes):\n",
        "    mean_tpr += interp(all_fpr, fpr[i], tpr[i])\n",
        "\n",
        "# Finally average it and compute AUC\n",
        "mean_tpr /= n_classes\n",
        "\n",
        "fpr[\"macro\"] = all_fpr\n",
        "tpr[\"macro\"] = mean_tpr\n",
        "roc_auc[\"macro\"] = auc(fpr[\"macro\"], tpr[\"macro\"])\n",
        "\n",
        "# Plot all ROC curves bu değil\n",
        "plt.figure()\n",
        "plt.plot(fpr[\"micro\"], tpr[\"micro\"],\n",
        "         label='micro-average ROC curve (area = {0:0.2f})'\n",
        "              ''.format(roc_auc[\"micro\"]),\n",
        "         color='deeppink', linestyle=':', linewidth=4)\n",
        "\n",
        "plt.plot(fpr[\"macro\"], tpr[\"macro\"],\n",
        "        label='macro-average ROC curve (area = {0:0.2f})'\n",
        "              ''.format(roc_auc[\"macro\"]),\n",
        "         color='navy', linestyle=':', linewidth=4)\n",
        "\n",
        "colors = cycle(['aqua', 'darkorange', 'cornflowerblue'])\n",
        "for i, color in zip(range(n_classes), colors):\n",
        "    plt.plot(fpr[i], tpr[i], color=color, \n",
        "             label='ROC curve of class {0} (area = {1:0.2f})'\n",
        "             ''.format(i, roc_auc[i]))\n",
        "\n",
        "plt.plot([0, 1], [0, 1], 'k--')\n",
        "plt.xlim([0.0, 1.0])\n",
        "plt.ylim([0.0, 1.05])\n",
        "plt.xlabel('False Positive Rate')\n",
        "plt.ylabel('True Positive Rate')\n",
        "plt.title('Some extension of Receiver operating characteristic to multi-class')\n",
        "plt.legend(loc=\"lower right\")\n",
        "plt.rcParams[\"figure.figsize\"] = (20,15)\n",
        "plt.show()\n",
        "# plt.savefig('rocauclineer.png')"
      ],
      "execution_count": null,
      "outputs": []
    },
    {
      "cell_type": "markdown",
      "metadata": {
        "id": "BIQxxhycTbr5"
      },
      "source": [
        "#### SFS BFS (Bunlar çok sağlam öznitelik seçimleri ama saçmalayabiliyorlar ya da makineyi saçmalatabiliyorlar)"
      ]
    },
    {
      "cell_type": "code",
      "metadata": {
        "id": "nDir5VQZJE-8"
      },
      "source": [
        "import mlxtend\n",
        "from mlxtend.feature_selection import SequentialFeatureSelector as SFS\n",
        "from mlxtend.plotting import plot_sequential_feature_selection as plot_sfs\n",
        "import matplotlib.pyplot as plt\n",
        "%matplotlib inline"
      ],
      "execution_count": null,
      "outputs": []
    },
    {
      "cell_type": "code",
      "metadata": {
        "id": "TqFzms31KBhu"
      },
      "source": [
        "sfs1 = SFS(model, forward=False, verbose=2, scoring='accuracy', cv=0, n_jobs=-1, k_features=1).fit(x_train,y_train)\n",
        "print(sfs1)\n",
        "fig1 = plot_sfs(sfs1.get_metric_dict(), kind='std_dev')\n",
        "result_LR = pd.DataFrame.from_dict(sfs1.get_metric_dict(confidence_interval=0.90)).T\n",
        "result_LR.sort_values('avg_score', ascending=0, inplace=True)\n",
        "result_LR.head()"
      ],
      "execution_count": null,
      "outputs": []
    },
    {
      "cell_type": "code",
      "metadata": {
        "id": "3sR-RS0REDhn"
      },
      "source": [
        "result_LR.to_excel(\"knn2.xlsx\")\n",
        "\n"
      ],
      "execution_count": null,
      "outputs": []
    },
    {
      "cell_type": "code",
      "metadata": {
        "id": "Z9LuWzmoKCYa"
      },
      "source": [
        "fig2 = plot_sfs(sfs1.get_metric_dict(), kind='std_dev')\n",
        "result_LR = pd.DataFrame.from_dict(sfs1.get_metric_dict(confidence_interval=0.90)).T\n",
        "result_LR.sort_values('avg_score', ascending=0, inplace=True)\n",
        "result_LR.head()"
      ],
      "execution_count": null,
      "outputs": []
    },
    {
      "cell_type": "code",
      "metadata": {
        "id": "2K-vT9VQLMb3"
      },
      "source": [
        "result_LR.to_excel(\"sfs.xlsx\")\n"
      ],
      "execution_count": null,
      "outputs": []
    },
    {
      "cell_type": "code",
      "metadata": {
        "id": "BkICnfKZKDai"
      },
      "source": [
        "from sklearn.externals import joblib \n",
        "joblib.dump(sfs1, f'/content/drive/MyDrive/sfs100.pkl')\n"
      ],
      "execution_count": null,
      "outputs": []
    },
    {
      "cell_type": "code",
      "metadata": {
        "id": "wA1w3VGFKHFL"
      },
      "source": [
        "import matplotlib.pyplot as plt\n",
        "from mlxtend.plotting import plot_sequential_feature_selection as plot_sfs\n",
        "from mlxtend.feature_selection import SequentialFeatureSelector as SFS\n",
        "from mlxtend.plotting import plot_sequential_feature_selection as plot_sfs\n"
      ],
      "execution_count": null,
      "outputs": []
    },
    {
      "cell_type": "code",
      "metadata": {
        "id": "6FvfKH9GKIca"
      },
      "source": [
        "fig1.set_size_inches(30, 30)"
      ],
      "execution_count": null,
      "outputs": []
    },
    {
      "cell_type": "code",
      "metadata": {
        "id": "PaPylTQeGbh8"
      },
      "source": [
        "from sklearn.datasets import make_regression\n",
        "from sklearn.tree import DecisionTreeRegressor\n",
        "from matplotlib import pyplot\n",
        "# define dataset\n",
        "# define the model\n",
        "model = DecisionTreeRegressor()\n",
        "# fit the model\n",
        "model.fit(x_train,y_train)\n",
        "# get importance\n",
        "importance = model.feature_importances_\n",
        "# summarize feature importance\n",
        "for i,v in enumerate(importance):\n",
        "  if v > 0.01:\n",
        "    #print('Feature: %0d, Score: %.5f' % (i,v))\n",
        "    print(i)\n",
        "\n",
        "# plot feature importance\n",
        "    \n",
        "pyplot.bar([x for x in range(len(importance))], importance)\n",
        "pyplot.rcParams[\"figure.figsize\"] = (30,25)\n",
        "pyplot.show()"
      ],
      "execution_count": null,
      "outputs": []
    },
    {
      "cell_type": "markdown",
      "metadata": {
        "id": "Mmg5moyPSFix"
      },
      "source": [
        "### DecisionTreeClassifier\n"
      ]
    },
    {
      "cell_type": "code",
      "metadata": {
        "id": "q86zLQFbpBDB",
        "colab": {
          "base_uri": "https://localhost:8080/",
          "height": 608
        },
        "outputId": "af29d045-2f6a-4d1b-a008-4e35bbb6edec"
      },
      "source": [
        "print(\"---------------------------DecisionTreeClassifier ------------------------------------\")\n",
        "\n",
        "model = DecisionTreeClassifier().fit(x_train,y_train)\n",
        "\n",
        "tahminlerimiz2 = model.predict(x_test)\n",
        "print(classification_report(y_test,tahminlerimiz2))\n",
        "print(\"Confusion Matrix\")\n",
        "print(confusion_matrix(y_test,tahminlerimiz2))\n",
        "print(\"Accuracy Score\")\n",
        "print(accuracy_score(y_test,tahminlerimiz2))\n",
        "#joblib.dump(model, f'/content/drive/MyDrive/model_decisiontree.pkl')\n",
        "scores = cross_val_score(model, x_test, y_test)\n",
        "print(\"Validation Score Mean\")\n",
        "print(scores.mean())\n",
        "print(\"Validation Sonuçları\")\n",
        "print(scores)\n",
        "cm = confusion_matrix(y_test, tahminlerimiz2,  normalize = 'true')\n",
        "disp = ConfusionMatrixDisplay(confusion_matrix=cm, display_labels=[0,1,2]).plot(cmap='gray')"
      ],
      "execution_count": null,
      "outputs": [
        {
          "output_type": "stream",
          "name": "stdout",
          "text": [
            "---------------------------DecisionTreeClassifier ------------------------------------\n",
            "              precision    recall  f1-score   support\n",
            "\n",
            "           1       0.87      0.89      0.88       193\n",
            "           5       0.71      0.67      0.69        78\n",
            "\n",
            "    accuracy                           0.83       271\n",
            "   macro avg       0.79      0.78      0.78       271\n",
            "weighted avg       0.82      0.83      0.82       271\n",
            "\n",
            "Confusion Matrix\n",
            "[[172  21]\n",
            " [ 26  52]]\n",
            "Accuracy Score\n",
            "0.8265682656826568\n",
            "Validation Score Mean\n",
            "0.7749494949494949\n",
            "Validation Sonuçları\n",
            "[0.76363636 0.75925926 0.72222222 0.81481481 0.81481481]\n"
          ]
        },
        {
          "output_type": "display_data",
          "data": {
            "image/png": "[encoded data removed]",
            "text/plain": [
              "<Figure size 432x288 with 2 Axes>"
            ]
          },
          "metadata": {
            "needs_background": "light"
          }
        }
      ]
    },
    {
      "cell_type": "code",
      "metadata": {
        "id": "RaBrYDFlS_Ui"
      },
      "source": [
        "from sklearn.svm import LinearSVC\n",
        "n_classes = 3\n",
        "\n",
        "# shuffle and split training and test sets\n",
        "# classifier\n",
        "y_train = label_binarize(y_train, classes=[0,1,2])\n",
        "y_test = label_binarize(y_test, classes=[0,1,2])\n",
        "#clf = OneVsRestClassifier(LinearSVC(random_state=0)).fit(x_train, y_train)\n",
        "tahminlerimiz2 = model.predict(x_test)\n",
        "#lineer için y score\n",
        "  #y_score = model.decision_function(x_test)\n",
        "#knn için y score\n",
        "y_score = model.predict_proba(x_test)\n",
        "\n",
        "\n",
        "# Compute ROC curve and ROC area for each class\n",
        "fpr = dict()\n",
        "tpr = dict()\n",
        "roc_auc = dict()\n",
        "for i in range(n_classes):\n",
        "    fpr[i], tpr[i], _ = roc_curve(y_test[:, i], y_score[:, i])\n",
        "    roc_auc[i] = auc(fpr[i], tpr[i])\n",
        "# Plot of a ROC curve for a specific class\n",
        "for i in range(n_classes):\n",
        "    \n",
        "    plt.figure()\n",
        "    plt.plot(fpr[i], tpr[i], label='ROC curve (area = %0.2f)' % roc_auc[i])\n",
        "    plt.plot([0, 1], [0, 1], 'k--')\n",
        "    plt.xlim([0.0, 1.0])\n",
        "    plt.ylim([0.0, 1.05])\n",
        "    plt.xlabel('False Positive Rate')\n",
        "    plt.ylabel('True Positive Rate')\n",
        "    \n",
        "    plt.title(f'Receiver operating characteristic example -{i}')\n",
        "    plt.legend(loc=\"lower right\")\n",
        "    \n",
        "    plt.show()\n",
        "\n",
        "\n",
        "fpr[\"micro\"], tpr[\"micro\"], _ = roc_curve(y_test.ravel(), y_score.ravel())\n",
        "roc_auc[\"micro\"] = auc(fpr[\"micro\"], tpr[\"micro\"])\n",
        "all_fpr = np.unique(np.concatenate([fpr[i] for i in range(n_classes)]))\n",
        "\n",
        "# Then interpolate all ROC curves at this points\n",
        "mean_tpr = np.zeros_like(all_fpr)\n",
        "for i in range(n_classes):\n",
        "    mean_tpr += interp(all_fpr, fpr[i], tpr[i])\n",
        "\n",
        "# Finally average it and compute AUC\n",
        "mean_tpr /= n_classes\n",
        "\n",
        "fpr[\"macro\"] = all_fpr\n",
        "tpr[\"macro\"] = mean_tpr\n",
        "roc_auc[\"macro\"] = auc(fpr[\"macro\"], tpr[\"macro\"])\n",
        "\n",
        "# Plot all ROC curves bu değil\n",
        "plt.figure()\n",
        "plt.plot(fpr[\"micro\"], tpr[\"micro\"],\n",
        "         label='micro-average ROC curve (area = {0:0.2f})'\n",
        "              ''.format(roc_auc[\"micro\"]),\n",
        "         color='deeppink', linestyle=':', linewidth=4)\n",
        "\n",
        "plt.plot(fpr[\"macro\"], tpr[\"macro\"],\n",
        "        label='macro-average ROC curve (area = {0:0.2f})'\n",
        "              ''.format(roc_auc[\"macro\"]),\n",
        "         color='navy', linestyle=':', linewidth=4)\n",
        "\n",
        "colors = cycle(['aqua', 'darkorange', 'cornflowerblue'])\n",
        "for i, color in zip(range(n_classes), colors):\n",
        "    plt.plot(fpr[i], tpr[i], color=color, \n",
        "             label='ROC curve of class {0} (area = {1:0.2f})'\n",
        "             ''.format(i, roc_auc[i]))\n",
        "\n",
        "plt.plot([0, 1], [0, 1], 'k--')\n",
        "plt.xlim([0.0, 1.0])\n",
        "plt.ylim([0.0, 1.05])\n",
        "plt.xlabel('False Positive Rate')\n",
        "plt.ylabel('True Positive Rate')\n",
        "plt.title('Some extension of Receiver operating characteristic to multi-class')\n",
        "plt.legend(loc=\"lower right\")\n",
        "plt.rcParams[\"figure.figsize\"] = (20,15)\n",
        "plt.show()\n",
        "# plt.savefig('rocauclineer.png')"
      ],
      "execution_count": null,
      "outputs": []
    },
    {
      "cell_type": "markdown",
      "metadata": {
        "id": "p9-jSMXtSFqC"
      },
      "source": [
        "### GaussianNB\n"
      ]
    },
    {
      "cell_type": "code",
      "metadata": {
        "id": "0seQ3JtjpA_4",
        "colab": {
          "base_uri": "https://localhost:8080/",
          "height": 587
        },
        "outputId": "2459ff61-c696-414a-c0d0-b703fdcb3889"
      },
      "source": [
        "print(\"---------------------------GaussianNB ------------------------------------\")\n",
        "\n",
        "model = GaussianNB().fit(x_train, y_train)\n",
        "\n",
        "tahminlerimiz2 = model.predict(x_test)\n",
        "print(classification_report(y_test,tahminlerimiz2))\n",
        "print(\"Confusion Matrix\")\n",
        "print(confusion_matrix(y_test,tahminlerimiz2))\n",
        "print(\"Accuracy Score\")\n",
        "print(accuracy_score(y_test,tahminlerimiz2))\n",
        "#joblib.dump(model, f'/content/drive/MyDrive/pkl/hayvan/gauss.pkl')\n",
        "scores = cross_val_score(model, x_test, y_test)\n",
        "print(\"Validation Score Mean\")\n",
        "print(scores.mean())\n",
        "print(\"Validation Sonuçları\")\n",
        "print(scores)\n",
        "cm = confusion_matrix(y_test, tahminlerimiz2,  normalize = 'true')\n",
        "disp = ConfusionMatrixDisplay(confusion_matrix=cm, display_labels=[0,1,2]).plot(cmap='gray')"
      ],
      "execution_count": null,
      "outputs": [
        {
          "output_type": "stream",
          "name": "stdout",
          "text": [
            "---------------------------GaussianNB ------------------------------------\n",
            "              precision    recall  f1-score   support\n",
            "\n",
            "           1       0.71      0.47      0.57        32\n",
            "           2       0.73      0.88      0.80        52\n",
            "\n",
            "    accuracy                           0.73        84\n",
            "   macro avg       0.72      0.68      0.68        84\n",
            "weighted avg       0.72      0.73      0.71        84\n",
            "\n",
            "Confusion Matrix\n",
            "[[15 17]\n",
            " [ 6 46]]\n",
            "Accuracy Score\n",
            "0.7261904761904762\n",
            "Validation Score Mean\n",
            "0.7147058823529412\n",
            "Validation Sonuçları\n",
            "[0.64705882 0.70588235 0.70588235 0.76470588 0.75      ]\n"
          ]
        },
        {
          "output_type": "display_data",
          "data": {
            "image/png": "[encoded data removed]",
            "text/plain": [
              "<Figure size 432x288 with 2 Axes>"
            ]
          },
          "metadata": {
            "needs_background": "light"
          }
        }
      ]
    },
    {
      "cell_type": "code",
      "metadata": {
        "id": "FDJcetVlS_25"
      },
      "source": [
        "from sklearn.svm import LinearSVC\n",
        "n_classes = 3\n",
        "\n",
        "# shuffle and split training and test sets\n",
        "# classifier\n",
        "y_train = label_binarize(y_train, classes=[0,1,2])\n",
        "y_test = label_binarize(y_test, classes=[0,1,2])\n",
        "#clf = OneVsRestClassifier(LinearSVC(random_state=0)).fit(x_train, y_train)\n",
        "tahminlerimiz2 = model.predict(x_test)\n",
        "#lineer için y score\n",
        "  #y_score = model.decision_function(x_test)\n",
        "#knn için y score\n",
        "y_score = model.predict_proba(x_test)\n",
        "\n",
        "\n",
        "# Compute ROC curve and ROC area for each class\n",
        "fpr = dict()\n",
        "tpr = dict()\n",
        "roc_auc = dict()\n",
        "for i in range(n_classes):\n",
        "    fpr[i], tpr[i], _ = roc_curve(y_test[:, i], y_score[:, i])\n",
        "    roc_auc[i] = auc(fpr[i], tpr[i])\n",
        "# Plot of a ROC curve for a specific class\n",
        "for i in range(n_classes):\n",
        "    \n",
        "    plt.figure()\n",
        "    plt.plot(fpr[i], tpr[i], label='ROC curve (area = %0.2f)' % roc_auc[i])\n",
        "    plt.plot([0, 1], [0, 1], 'k--')\n",
        "    plt.xlim([0.0, 1.0])\n",
        "    plt.ylim([0.0, 1.05])\n",
        "    plt.xlabel('False Positive Rate')\n",
        "    plt.ylabel('True Positive Rate')\n",
        "    \n",
        "    plt.title(f'Receiver operating characteristic example -{i}')\n",
        "    plt.legend(loc=\"lower right\")\n",
        "    \n",
        "    plt.show()\n",
        "\n",
        "\n",
        "fpr[\"micro\"], tpr[\"micro\"], _ = roc_curve(y_test.ravel(), y_score.ravel())\n",
        "roc_auc[\"micro\"] = auc(fpr[\"micro\"], tpr[\"micro\"])\n",
        "all_fpr = np.unique(np.concatenate([fpr[i] for i in range(n_classes)]))\n",
        "\n",
        "# Then interpolate all ROC curves at this points\n",
        "mean_tpr = np.zeros_like(all_fpr)\n",
        "for i in range(n_classes):\n",
        "    mean_tpr += interp(all_fpr, fpr[i], tpr[i])\n",
        "\n",
        "# Finally average it and compute AUC\n",
        "mean_tpr /= n_classes\n",
        "\n",
        "fpr[\"macro\"] = all_fpr\n",
        "tpr[\"macro\"] = mean_tpr\n",
        "roc_auc[\"macro\"] = auc(fpr[\"macro\"], tpr[\"macro\"])\n",
        "\n",
        "# Plot all ROC curves bu değil\n",
        "plt.figure()\n",
        "plt.plot(fpr[\"micro\"], tpr[\"micro\"],\n",
        "         label='micro-average ROC curve (area = {0:0.2f})'\n",
        "              ''.format(roc_auc[\"micro\"]),\n",
        "         color='deeppink', linestyle=':', linewidth=4)\n",
        "\n",
        "plt.plot(fpr[\"macro\"], tpr[\"macro\"],\n",
        "        label='macro-average ROC curve (area = {0:0.2f})'\n",
        "              ''.format(roc_auc[\"macro\"]),\n",
        "         color='navy', linestyle=':', linewidth=4)\n",
        "\n",
        "colors = cycle(['aqua', 'darkorange', 'cornflowerblue'])\n",
        "for i, color in zip(range(n_classes), colors):\n",
        "    plt.plot(fpr[i], tpr[i], color=color, \n",
        "             label='ROC curve of class {0} (area = {1:0.2f})'\n",
        "             ''.format(i, roc_auc[i]))\n",
        "\n",
        "plt.plot([0, 1], [0, 1], 'k--')\n",
        "plt.xlim([0.0, 1.0])\n",
        "plt.ylim([0.0, 1.05])\n",
        "plt.xlabel('False Positive Rate')\n",
        "plt.ylabel('True Positive Rate')\n",
        "plt.title('Some extension of Receiver operating characteristic to multi-class')\n",
        "plt.legend(loc=\"lower right\")\n",
        "plt.rcParams[\"figure.figsize\"] = (20,15)\n",
        "plt.show()\n",
        "# plt.savefig('rocauclineer.png')"
      ],
      "execution_count": null,
      "outputs": []
    },
    {
      "cell_type": "markdown",
      "metadata": {
        "id": "GFoyAP18jFA8"
      },
      "source": [
        "#### SFS BFS (Bunlar çok sağlam öznitelik seçimleri ama saçmalayabiliyorlar ya da makineyi saçmalatabiliyorlar)"
      ]
    },
    {
      "cell_type": "code",
      "metadata": {
        "colab": {
          "base_uri": "https://localhost:8080/"
        },
        "id": "EYI_1tI_jFA8",
        "outputId": "cf27e5a2-647a-4db3-a5b8-a760cc6b7579"
      },
      "source": [
        "dataFrame.shape"
      ],
      "execution_count": null,
      "outputs": [
        {
          "output_type": "execute_result",
          "data": {
            "text/plain": [
              "(902, 129)"
            ]
          },
          "metadata": {},
          "execution_count": 110
        }
      ]
    },
    {
      "cell_type": "code",
      "metadata": {
        "id": "bmleGXXwjFA9"
      },
      "source": [
        "import mlxtend\n",
        "from mlxtend.feature_selection import SequentialFeatureSelector as SFS\n",
        "from mlxtend.plotting import plot_sequential_feature_selection as plot_sfs\n",
        "import matplotlib.pyplot as plt\n",
        "%matplotlib inline"
      ],
      "execution_count": null,
      "outputs": []
    },
    {
      "cell_type": "code",
      "metadata": {
        "id": "kJrK03CojFA9"
      },
      "source": [
        "sfs1 = SFS(model, forward=False, verbose=2, scoring='accuracy', cv=0, n_jobs=-1, k_features=1).fit(x_train,y_train)\n",
        "print(sfs1)\n",
        "fig1 = plot_sfs(sfs1.get_metric_dict(), kind='std_dev')\n",
        "result_LR = pd.DataFrame.from_dict(sfs1.get_metric_dict(confidence_interval=0.90)).T\n",
        "result_LR.sort_values('avg_score', ascending=0, inplace=True)\n",
        "result_LR.head()"
      ],
      "execution_count": null,
      "outputs": []
    },
    {
      "cell_type": "code",
      "metadata": {
        "id": "UX9jq7-wjFA9"
      },
      "source": [
        "result_LR.to_excel(\"gauss2.xlsx\")\n",
        "\n"
      ],
      "execution_count": null,
      "outputs": []
    },
    {
      "cell_type": "code",
      "metadata": {
        "id": "SJmn2YQIjFA9"
      },
      "source": [
        "fig2 = plot_sfs(sfs1.get_metric_dict(), kind='std_dev')\n",
        "result_LR = pd.DataFrame.from_dict(sfs1.get_metric_dict(confidence_interval=0.90)).T\n",
        "result_LR.sort_values('avg_score', ascending=0, inplace=True)\n",
        "result_LR.head()"
      ],
      "execution_count": null,
      "outputs": []
    },
    {
      "cell_type": "code",
      "metadata": {
        "id": "WO9voYEsjFA9"
      },
      "source": [
        "result_LR.to_excel(\"sfs.xlsx\")\n"
      ],
      "execution_count": null,
      "outputs": []
    },
    {
      "cell_type": "code",
      "metadata": {
        "id": "vdkOp0M9jFA9"
      },
      "source": [
        "from sklearn.externals import joblib \n",
        "joblib.dump(sfs1, f'/content/drive/MyDrive/sfs100.pkl')\n"
      ],
      "execution_count": null,
      "outputs": []
    },
    {
      "cell_type": "code",
      "metadata": {
        "id": "GUP-3hITjFA9"
      },
      "source": [
        "sfs1.k_feature_idx_[40]"
      ],
      "execution_count": null,
      "outputs": []
    },
    {
      "cell_type": "code",
      "metadata": {
        "id": "jDbNi6yTjFA-"
      },
      "source": [
        "import matplotlib.pyplot as plt\n",
        "from mlxtend.plotting import plot_sequential_feature_selection as plot_sfs\n",
        "from mlxtend.feature_selection import SequentialFeatureSelector as SFS\n",
        "from mlxtend.plotting import plot_sequential_feature_selection as plot_sfs\n"
      ],
      "execution_count": null,
      "outputs": []
    },
    {
      "cell_type": "code",
      "metadata": {
        "id": "LbcCXJj_jFA-"
      },
      "source": [
        "fig1.set_size_inches(30, 30)"
      ],
      "execution_count": null,
      "outputs": []
    },
    {
      "cell_type": "code",
      "metadata": {
        "id": "C4Mi4o2UjFA-"
      },
      "source": [
        "from sklearn.datasets import make_regression\n",
        "from sklearn.tree import DecisionTreeRegressor\n",
        "from matplotlib import pyplot\n",
        "# define dataset\n",
        "# define the model\n",
        "model = DecisionTreeRegressor()\n",
        "# fit the model\n",
        "model.fit(x_train,y_train)\n",
        "# get importance\n",
        "importance = model.feature_importances_\n",
        "# summarize feature importance\n",
        "for i,v in enumerate(importance):\n",
        "  if v > 0.01:\n",
        "    #print('Feature: %0d, Score: %.5f' % (i,v))\n",
        "    print(i)\n",
        "\n",
        "# plot feature importance\n",
        "    \n",
        "pyplot.bar([x for x in range(len(importance))], importance)\n",
        "pyplot.rcParams[\"figure.figsize\"] = (30,25)\n",
        "pyplot.show()"
      ],
      "execution_count": null,
      "outputs": []
    },
    {
      "cell_type": "code",
      "metadata": {
        "id": "F5mQu4rbjFA-"
      },
      "source": [
        "dataFrame"
      ],
      "execution_count": null,
      "outputs": []
    },
    {
      "cell_type": "markdown",
      "metadata": {
        "id": "Ga0fCaOqSFuQ"
      },
      "source": [
        "### Logistic Regression\n"
      ]
    },
    {
      "cell_type": "code",
      "metadata": {
        "id": "YdYWEzripA6Q",
        "colab": {
          "base_uri": "https://localhost:8080/",
          "height": 1000
        },
        "outputId": "c9fa2be1-c78d-49fd-b835-376db60ac0e2"
      },
      "source": [
        "print(\"---------------------------Logistic Regression ------------------------------------\")\n",
        "model = LogisticRegression(solver='liblinear', random_state=15).fit(x_train, y_train)\n",
        "import joblib\n",
        "tahminlerimiz2 = model.predict(x_test)\n",
        "guven = model.predict_proba(x_test)\n",
        "print(guven)\n",
        "print(classification_report(y_test,tahminlerimiz2))\n",
        "print(\"Confusion Matrix\")\n",
        "print(confusion_matrix(y_test,tahminlerimiz2))\n",
        "print(\"Accuracy Score\")\n",
        "print(accuracy_score(y_test,tahminlerimiz2))\n",
        "#joblib.dump(model, f'/content/drive/MyDrive/pkl/hayvan/lgreg.pkl')\n",
        "scores = cross_val_score(model, x_test, y_test)\n",
        "print(\"Validation Score Mean\")\n",
        "print(scores.mean())\n",
        "print(\"Validation Sonuçları\")\n",
        "print(scores)\n",
        "cm = confusion_matrix(y_test, tahminlerimiz2,  normalize = 'true')\n",
        "disp = ConfusionMatrixDisplay(confusion_matrix=cm, display_labels=[0,1,2]).plot(cmap='gray')"
      ],
      "execution_count": null,
      "outputs": [
        {
          "output_type": "stream",
          "name": "stdout",
          "text": [
            "---------------------------Logistic Regression ------------------------------------\n",
            "[[0.9798438  0.0201562 ]\n",
            " [0.30608788 0.69391212]\n",
            " [0.18755166 0.81244834]\n",
            " [0.81431629 0.18568371]\n",
            " [0.16908104 0.83091896]\n",
            " [0.02303069 0.97696931]\n",
            " [0.18028719 0.81971281]\n",
            " [0.11727226 0.88272774]\n",
            " [0.66153929 0.33846071]\n",
            " [0.23550849 0.76449151]\n",
            " [0.13659838 0.86340162]\n",
            " [0.93158614 0.06841386]\n",
            " [0.32024205 0.67975795]\n",
            " [0.42111405 0.57888595]\n",
            " [0.42859879 0.57140121]\n",
            " [0.38991386 0.61008614]\n",
            " [0.1010284  0.8989716 ]\n",
            " [0.12337668 0.87662332]\n",
            " [0.11116112 0.88883888]\n",
            " [0.27580528 0.72419472]\n",
            " [0.24471028 0.75528972]\n",
            " [0.03715183 0.96284817]\n",
            " [0.57358937 0.42641063]\n",
            " [0.18166654 0.81833346]\n",
            " [0.18638124 0.81361876]\n",
            " [0.31501115 0.68498885]\n",
            " [0.13821504 0.86178496]\n",
            " [0.61762684 0.38237316]\n",
            " [0.15080042 0.84919958]\n",
            " [0.97678245 0.02321755]\n",
            " [0.97530374 0.02469626]\n",
            " [0.0456514  0.9543486 ]\n",
            " [0.21276798 0.78723202]\n",
            " [0.21040826 0.78959174]\n",
            " [0.97449725 0.02550275]\n",
            " [0.61987726 0.38012274]\n",
            " [0.10640676 0.89359324]\n",
            " [0.38226105 0.61773895]\n",
            " [0.03620655 0.96379345]\n",
            " [0.56163651 0.43836349]\n",
            " [0.07266762 0.92733238]\n",
            " [0.75380807 0.24619193]\n",
            " [0.11854849 0.88145151]\n",
            " [0.90657149 0.09342851]\n",
            " [0.19883463 0.80116537]\n",
            " [0.06099229 0.93900771]\n",
            " [0.63148004 0.36851996]\n",
            " [0.55277464 0.44722536]\n",
            " [0.34787881 0.65212119]\n",
            " [0.44129428 0.55870572]\n",
            " [0.75300791 0.24699209]\n",
            " [0.98389718 0.01610282]\n",
            " [0.14629024 0.85370976]\n",
            " [0.23973794 0.76026206]\n",
            " [0.2585575  0.7414425 ]\n",
            " [0.08122843 0.91877157]\n",
            " [0.41818331 0.58181669]\n",
            " [0.10038174 0.89961826]\n",
            " [0.76385194 0.23614806]\n",
            " [0.08266117 0.91733883]\n",
            " [0.03982864 0.96017136]\n",
            " [0.18585667 0.81414333]\n",
            " [0.26901053 0.73098947]\n",
            " [0.28978828 0.71021172]\n",
            " [0.92699077 0.07300923]\n",
            " [0.33998434 0.66001566]\n",
            " [0.09607904 0.90392096]\n",
            " [0.23097791 0.76902209]\n",
            " [0.87128505 0.12871495]\n",
            " [0.23181424 0.76818576]\n",
            " [0.19239842 0.80760158]\n",
            " [0.18211324 0.81788676]\n",
            " [0.03655386 0.96344614]\n",
            " [0.18252183 0.81747817]\n",
            " [0.20196383 0.79803617]\n",
            " [0.29915671 0.70084329]\n",
            " [0.04594265 0.95405735]\n",
            " [0.38634726 0.61365274]\n",
            " [0.21295374 0.78704626]\n",
            " [0.0892635  0.9107365 ]\n",
            " [0.93032433 0.06967567]\n",
            " [0.91479176 0.08520824]\n",
            " [0.12492199 0.87507801]\n",
            " [0.2661695  0.7338305 ]]\n",
            "              precision    recall  f1-score   support\n",
            "\n",
            "           1       0.91      0.62      0.74        32\n",
            "           2       0.81      0.96      0.88        52\n",
            "\n",
            "    accuracy                           0.83        84\n",
            "   macro avg       0.86      0.79      0.81        84\n",
            "weighted avg       0.85      0.83      0.83        84\n",
            "\n",
            "Confusion Matrix\n",
            "[[20 12]\n",
            " [ 2 50]]\n",
            "Accuracy Score\n",
            "0.8333333333333334\n",
            "Validation Score Mean\n",
            "0.8088235294117647\n",
            "Validation Sonuçları\n",
            "[0.82352941 0.88235294 0.82352941 0.76470588 0.75      ]\n"
          ]
        },
        {
          "output_type": "display_data",
          "data": {
            "image/png": "[encoded data removed]",
            "text/plain": [
              "<Figure size 432x288 with 2 Axes>"
            ]
          },
          "metadata": {
            "needs_background": "light"
          }
        }
      ]
    },
    {
      "cell_type": "code",
      "metadata": {
        "id": "oWtCf-aqXxpl"
      },
      "source": [
        "y_train"
      ],
      "execution_count": null,
      "outputs": []
    },
    {
      "cell_type": "code",
      "metadata": {
        "id": "wPls5-iWTAUK",
        "colab": {
          "base_uri": "https://localhost:8080/",
          "height": 1000
        },
        "outputId": "66f58e8b-c62b-4007-e159-0175181f6852"
      },
      "source": [
        "from sklearn.svm import LinearSVC\n",
        "n_classes = 5\n",
        "\n",
        "# shuffle and split training and test sets\n",
        "# classifier\n",
        "y_train = label_binarize(y_train, classes=[1,2,3,4,5])\n",
        "y_test = label_binarize(y_test, classes=[1,2,3,4,5])\n",
        "#clf = OneVsRestClassifier(LinearSVC(random_state=0)).fit(x_train, y_train)\n",
        "tahminlerimiz2 = model.predict(x_test)\n",
        "#lineer için y score\n",
        "  #y_score = model.decision_function(x_test)\n",
        "#knn için y score\n",
        "y_score = model.predict_proba(x_test)\n",
        "\n",
        "\n",
        "# Compute ROC curve and ROC area for each class\n",
        "fpr = dict()\n",
        "tpr = dict()\n",
        "roc_auc = dict()\n",
        "for i in range(n_classes):\n",
        "    fpr[i], tpr[i], _ = roc_curve(y_test[:, i], y_score[:, i])\n",
        "    roc_auc[i] = auc(fpr[i], tpr[i])\n",
        "# Plot of a ROC curve for a specific class\n",
        "for i in range(n_classes):\n",
        "    \n",
        "    plt.figure()\n",
        "    plt.plot(fpr[i], tpr[i], label='ROC curve (area = %0.2f)' % roc_auc[i])\n",
        "    plt.plot([0, 1], [0, 1], 'k--')\n",
        "    plt.xlim([0.0, 1.0])\n",
        "    plt.ylim([0.0, 1.05])\n",
        "    plt.xlabel('False Positive Rate')\n",
        "    plt.ylabel('True Positive Rate')\n",
        "    \n",
        "    plt.title(f'Receiver operating characteristic example -{i}')\n",
        "    plt.legend(loc=\"lower right\")\n",
        "    \n",
        "    plt.show()\n",
        "\n",
        "\n",
        "fpr[\"micro\"], tpr[\"micro\"], _ = roc_curve(y_test.ravel(), y_score.ravel())\n",
        "roc_auc[\"micro\"] = auc(fpr[\"micro\"], tpr[\"micro\"])\n",
        "all_fpr = np.unique(np.concatenate([fpr[i] for i in range(n_classes)]))\n",
        "\n",
        "# Then interpolate all ROC curves at this points\n",
        "mean_tpr = np.zeros_like(all_fpr)\n",
        "for i in range(n_classes):\n",
        "    mean_tpr += interp(all_fpr, fpr[i], tpr[i])\n",
        "\n",
        "# Finally average it and compute AUC\n",
        "mean_tpr /= n_classes\n",
        "\n",
        "fpr[\"macro\"] = all_fpr\n",
        "tpr[\"macro\"] = mean_tpr\n",
        "roc_auc[\"macro\"] = auc(fpr[\"macro\"], tpr[\"macro\"])\n",
        "\n",
        "# Plot all ROC curves bu değil\n",
        "plt.figure()\n",
        "plt.plot(fpr[\"micro\"], tpr[\"micro\"],\n",
        "         label='micro-average ROC curve (area = {0:0.2f})'\n",
        "              ''.format(roc_auc[\"micro\"]),\n",
        "         color='deeppink', linestyle=':', linewidth=4)\n",
        "\n",
        "plt.plot(fpr[\"macro\"], tpr[\"macro\"],\n",
        "        label='macro-average ROC curve (area = {0:0.2f})'\n",
        "              ''.format(roc_auc[\"macro\"]),\n",
        "         color='navy', linestyle=':', linewidth=4)\n",
        "\n",
        "colors = cycle(['aqua', 'darkorange', 'cornflowerblue'])\n",
        "for i, color in zip(range(n_classes), colors):\n",
        "    plt.plot(fpr[i], tpr[i], color=color, \n",
        "             label='ROC curve of class {0} (area = {1:0.2f})'\n",
        "             ''.format(i, roc_auc[i]))\n",
        "\n",
        "plt.plot([0, 1], [0, 1], 'k--')\n",
        "plt.xlim([0.0, 1.0])\n",
        "plt.ylim([0.0, 1.05])\n",
        "plt.xlabel('False Positive Rate')\n",
        "plt.ylabel('True Positive Rate')\n",
        "plt.title('Some extension of Receiver operating characteristic to multi-class')\n",
        "plt.legend(loc=\"lower right\")\n",
        "plt.rcParams[\"figure.figsize\"] = (20,15)\n",
        "plt.show()\n",
        "# plt.savefig('rocauclineer.png')"
      ],
      "execution_count": null,
      "outputs": [
        {
          "output_type": "stream",
          "name": "stderr",
          "text": [
            "/usr/local/lib/python3.7/dist-packages/sklearn/metrics/_ranking.py:808: UndefinedMetricWarning: No positive samples in y_true, true positive value should be meaningless\n",
            "  UndefinedMetricWarning)\n"
          ]
        },
        {
          "output_type": "display_data",
          "data": {
            "image/png": "[encoded data removed]",
            "text/plain": [
              "<Figure size 1440x1080 with 1 Axes>"
            ]
          },
          "metadata": {
            "needs_background": "light"
          }
        },
        {
          "output_type": "display_data",
          "data": {
            "image/png": "[encoded data removed]",
            "text/plain": [
              "<Figure size 1440x1080 with 1 Axes>"
            ]
          },
          "metadata": {
            "needs_background": "light"
          }
        },
        {
          "output_type": "display_data",
          "data": {
            "image/png": "[encoded data removed]",
            "text/plain": [
              "<Figure size 1440x1080 with 1 Axes>"
            ]
          },
          "metadata": {
            "needs_background": "light"
          }
        },
        {
          "output_type": "display_data",
          "data": {
            "image/png": "[encoded data removed]",
            "text/plain": [
              "<Figure size 1440x1080 with 1 Axes>"
            ]
          },
          "metadata": {
            "needs_background": "light"
          }
        },
        {
          "output_type": "display_data",
          "data": {
            "image/png": "[encoded data removed]",
            "text/plain": [
              "<Figure size 1440x1080 with 1 Axes>"
            ]
          },
          "metadata": {
            "needs_background": "light"
          }
        },
        {
          "output_type": "stream",
          "name": "stderr",
          "text": [
            "/usr/local/lib/python3.7/dist-packages/ipykernel_launcher.py:47: DeprecationWarning: scipy.interp is deprecated and will be removed in SciPy 2.0.0, use numpy.interp instead\n"
          ]
        },
        {
          "output_type": "display_data",
          "data": {
            "image/png": "[encoded data removed]",
            "text/plain": [
              "<Figure size 1440x1080 with 1 Axes>"
            ]
          },
          "metadata": {
            "needs_background": "light"
          }
        }
      ]
    },
    {
      "cell_type": "markdown",
      "metadata": {
        "id": "_POe2GIqjGGq"
      },
      "source": [
        "#### SFS BFS (Bunlar çok sağlam öznitelik seçimleri ama saçmalayabiliyorlar ya da makineyi saçmalatabiliyorlar)"
      ]
    },
    {
      "cell_type": "code",
      "metadata": {
        "colab": {
          "base_uri": "https://localhost:8080/"
        },
        "id": "mrCi2h-djGGq",
        "outputId": "cf27e5a2-647a-4db3-a5b8-a760cc6b7579"
      },
      "source": [
        "dataFrame.shape"
      ],
      "execution_count": null,
      "outputs": [
        {
          "output_type": "execute_result",
          "data": {
            "text/plain": [
              "(902, 129)"
            ]
          },
          "metadata": {},
          "execution_count": 110
        }
      ]
    },
    {
      "cell_type": "code",
      "metadata": {
        "id": "UqKdrJr-jGGq"
      },
      "source": [
        "import mlxtend\n",
        "from mlxtend.feature_selection import SequentialFeatureSelector as SFS\n",
        "from mlxtend.plotting import plot_sequential_feature_selection as plot_sfs\n",
        "import matplotlib.pyplot as plt\n",
        "%matplotlib inline"
      ],
      "execution_count": null,
      "outputs": []
    },
    {
      "cell_type": "code",
      "metadata": {
        "colab": {
          "base_uri": "https://localhost:8080/",
          "height": 1000
        },
        "id": "tbbCq5qvjGGq",
        "outputId": "4823be3d-7de1-412a-e255-11fda3192d50"
      },
      "source": [
        "sfs1 = SFS(model, forward=False, verbose=2, scoring='accuracy', cv=0, n_jobs=-1, k_features=1).fit(x_train,y_train)\n",
        "print(sfs1)\n",
        "fig1 = plot_sfs(sfs1.get_metric_dict(), kind='std_dev')\n",
        "result_LR = pd.DataFrame.from_dict(sfs1.get_metric_dict(confidence_interval=0.90)).T\n",
        "result_LR.sort_values('avg_score', ascending=0, inplace=True)\n",
        "result_LR.head()"
      ],
      "execution_count": null,
      "outputs": [
        {
          "output_type": "stream",
          "name": "stderr",
          "text": [
            "[Parallel(n_jobs=-1)]: Using backend LokyBackend with 2 concurrent workers.\n",
            "[Parallel(n_jobs=-1)]: Done 111 tasks      | elapsed:    1.4s\n",
            "[Parallel(n_jobs=-1)]: Done 128 out of 128 | elapsed:    1.5s finished\n",
            "\n",
            "[2021-10-07 22:51:08] Features: 127/1 -- score: 0.927461139896373[Parallel(n_jobs=-1)]: Using backend LokyBackend with 2 concurrent workers.\n",
            "[Parallel(n_jobs=-1)]: Done 127 out of 127 | elapsed:    0.5s finished\n",
            "\n",
            "[2021-10-07 22:51:08] Features: 126/1 -- score: 0.9326424870466321[Parallel(n_jobs=-1)]: Using backend LokyBackend with 2 concurrent workers.\n",
            "[Parallel(n_jobs=-1)]: Done 126 out of 126 | elapsed:    0.5s finished\n",
            "\n",
            "[2021-10-07 22:51:09] Features: 125/1 -- score: 0.9326424870466321[Parallel(n_jobs=-1)]: Using backend LokyBackend with 2 concurrent workers.\n",
            "[Parallel(n_jobs=-1)]: Done 125 out of 125 | elapsed:    0.5s finished\n",
            "\n",
            "[2021-10-07 22:51:09] Features: 124/1 -- score: 0.9326424870466321[Parallel(n_jobs=-1)]: Using backend LokyBackend with 2 concurrent workers.\n",
            "[Parallel(n_jobs=-1)]: Done 124 out of 124 | elapsed:    0.5s finished\n",
            "\n",
            "[2021-10-07 22:51:10] Features: 123/1 -- score: 0.9326424870466321[Parallel(n_jobs=-1)]: Using backend LokyBackend with 2 concurrent workers.\n",
            "[Parallel(n_jobs=-1)]: Done 111 tasks      | elapsed:    0.6s\n",
            "[Parallel(n_jobs=-1)]: Done 123 out of 123 | elapsed:    0.7s finished\n",
            "\n",
            "[2021-10-07 22:51:10] Features: 122/1 -- score: 0.9326424870466321[Parallel(n_jobs=-1)]: Using backend LokyBackend with 2 concurrent workers.\n",
            "[Parallel(n_jobs=-1)]: Done 111 tasks      | elapsed:    0.6s\n",
            "[Parallel(n_jobs=-1)]: Done 122 out of 122 | elapsed:    0.7s finished\n",
            "\n",
            "[2021-10-07 22:51:11] Features: 121/1 -- score: 0.9326424870466321[Parallel(n_jobs=-1)]: Using backend LokyBackend with 2 concurrent workers.\n",
            "[Parallel(n_jobs=-1)]: Done 111 tasks      | elapsed:    0.6s\n",
            "[Parallel(n_jobs=-1)]: Done 121 out of 121 | elapsed:    0.7s finished\n",
            "\n",
            "[2021-10-07 22:51:12] Features: 120/1 -- score: 0.9326424870466321[Parallel(n_jobs=-1)]: Using backend LokyBackend with 2 concurrent workers.\n",
            "[Parallel(n_jobs=-1)]: Done 111 tasks      | elapsed:    0.6s\n",
            "[Parallel(n_jobs=-1)]: Done 120 out of 120 | elapsed:    0.7s finished\n",
            "\n",
            "[2021-10-07 22:51:12] Features: 119/1 -- score: 0.9326424870466321[Parallel(n_jobs=-1)]: Using backend LokyBackend with 2 concurrent workers.\n",
            "[Parallel(n_jobs=-1)]: Done 111 tasks      | elapsed:    0.6s\n",
            "[Parallel(n_jobs=-1)]: Done 119 out of 119 | elapsed:    0.7s finished\n",
            "\n",
            "[2021-10-07 22:51:13] Features: 118/1 -- score: 0.9326424870466321[Parallel(n_jobs=-1)]: Using backend LokyBackend with 2 concurrent workers.\n",
            "[Parallel(n_jobs=-1)]: Done 111 tasks      | elapsed:    0.6s\n",
            "[Parallel(n_jobs=-1)]: Done 118 out of 118 | elapsed:    0.7s finished\n",
            "\n",
            "[2021-10-07 22:51:14] Features: 117/1 -- score: 0.9326424870466321[Parallel(n_jobs=-1)]: Using backend LokyBackend with 2 concurrent workers.\n",
            "[Parallel(n_jobs=-1)]: Done 111 tasks      | elapsed:    0.6s\n",
            "[Parallel(n_jobs=-1)]: Done 117 out of 117 | elapsed:    0.7s finished\n",
            "\n",
            "[2021-10-07 22:51:15] Features: 116/1 -- score: 0.9326424870466321[Parallel(n_jobs=-1)]: Using backend LokyBackend with 2 concurrent workers.\n",
            "[Parallel(n_jobs=-1)]: Done 111 tasks      | elapsed:    0.7s\n",
            "[Parallel(n_jobs=-1)]: Done 116 out of 116 | elapsed:    0.7s finished\n",
            "\n",
            "[2021-10-07 22:51:15] Features: 115/1 -- score: 0.9326424870466321[Parallel(n_jobs=-1)]: Using backend LokyBackend with 2 concurrent workers.\n",
            "[Parallel(n_jobs=-1)]: Done 111 tasks      | elapsed:    0.7s\n",
            "[Parallel(n_jobs=-1)]: Done 115 out of 115 | elapsed:    0.7s finished\n",
            "\n",
            "[2021-10-07 22:51:16] Features: 114/1 -- score: 0.9326424870466321[Parallel(n_jobs=-1)]: Using backend LokyBackend with 2 concurrent workers.\n",
            "[Parallel(n_jobs=-1)]: Done 111 tasks      | elapsed:    0.6s\n",
            "[Parallel(n_jobs=-1)]: Done 114 out of 114 | elapsed:    0.7s finished\n",
            "\n",
            "[2021-10-07 22:51:17] Features: 113/1 -- score: 0.9326424870466321[Parallel(n_jobs=-1)]: Using backend LokyBackend with 2 concurrent workers.\n",
            "[Parallel(n_jobs=-1)]: Done 113 out of 113 | elapsed:    0.7s finished\n",
            "\n",
            "[2021-10-07 22:51:17] Features: 112/1 -- score: 0.9326424870466321[Parallel(n_jobs=-1)]: Using backend LokyBackend with 2 concurrent workers.\n",
            "[Parallel(n_jobs=-1)]: Done 112 out of 112 | elapsed:    0.7s finished\n",
            "\n",
            "[2021-10-07 22:51:18] Features: 111/1 -- score: 0.9326424870466321[Parallel(n_jobs=-1)]: Using backend LokyBackend with 2 concurrent workers.\n",
            "[Parallel(n_jobs=-1)]: Done 111 out of 111 | elapsed:    0.7s finished\n",
            "\n",
            "[2021-10-07 22:51:19] Features: 110/1 -- score: 0.9326424870466321[Parallel(n_jobs=-1)]: Using backend LokyBackend with 2 concurrent workers.\n",
            "[Parallel(n_jobs=-1)]: Done 110 out of 110 | elapsed:    0.7s finished\n",
            "\n",
            "[2021-10-07 22:51:19] Features: 109/1 -- score: 0.9326424870466321[Parallel(n_jobs=-1)]: Using backend LokyBackend with 2 concurrent workers.\n",
            "[Parallel(n_jobs=-1)]: Done 109 out of 109 | elapsed:    0.7s finished\n",
            "\n",
            "[2021-10-07 22:51:20] Features: 108/1 -- score: 0.9326424870466321[Parallel(n_jobs=-1)]: Using backend LokyBackend with 2 concurrent workers.\n",
            "[Parallel(n_jobs=-1)]: Done 108 out of 108 | elapsed:    0.6s finished\n",
            "\n",
            "[2021-10-07 22:51:21] Features: 107/1 -- score: 0.9378238341968912[Parallel(n_jobs=-1)]: Using backend LokyBackend with 2 concurrent workers.\n",
            "[Parallel(n_jobs=-1)]: Done 107 out of 107 | elapsed:    0.6s finished\n",
            "\n",
            "[2021-10-07 22:51:21] Features: 106/1 -- score: 0.9378238341968912[Parallel(n_jobs=-1)]: Using backend LokyBackend with 2 concurrent workers.\n",
            "[Parallel(n_jobs=-1)]: Done 106 out of 106 | elapsed:    0.6s finished\n",
            "\n",
            "[2021-10-07 22:51:22] Features: 105/1 -- score: 0.9378238341968912[Parallel(n_jobs=-1)]: Using backend LokyBackend with 2 concurrent workers.\n",
            "[Parallel(n_jobs=-1)]: Done 105 out of 105 | elapsed:    0.6s finished\n",
            "\n",
            "[2021-10-07 22:51:23] Features: 104/1 -- score: 0.9378238341968912[Parallel(n_jobs=-1)]: Using backend LokyBackend with 2 concurrent workers.\n",
            "[Parallel(n_jobs=-1)]: Done 104 out of 104 | elapsed:    0.6s finished\n",
            "\n",
            "[2021-10-07 22:51:23] Features: 103/1 -- score: 0.9378238341968912[Parallel(n_jobs=-1)]: Using backend LokyBackend with 2 concurrent workers.\n",
            "[Parallel(n_jobs=-1)]: Done 103 out of 103 | elapsed:    0.6s finished\n",
            "\n",
            "[2021-10-07 22:51:24] Features: 102/1 -- score: 0.9378238341968912[Parallel(n_jobs=-1)]: Using backend LokyBackend with 2 concurrent workers.\n",
            "[Parallel(n_jobs=-1)]: Done 102 out of 102 | elapsed:    0.6s finished\n",
            "\n",
            "[2021-10-07 22:51:25] Features: 101/1 -- score: 0.9378238341968912[Parallel(n_jobs=-1)]: Using backend LokyBackend with 2 concurrent workers.\n",
            "[Parallel(n_jobs=-1)]: Done 101 out of 101 | elapsed:    0.6s finished\n",
            "\n",
            "[2021-10-07 22:51:25] Features: 100/1 -- score: 0.9378238341968912[Parallel(n_jobs=-1)]: Using backend LokyBackend with 2 concurrent workers.\n",
            "[Parallel(n_jobs=-1)]: Done 100 out of 100 | elapsed:    0.6s finished\n",
            "\n",
            "[2021-10-07 22:51:26] Features: 99/1 -- score: 0.9378238341968912[Parallel(n_jobs=-1)]: Using backend LokyBackend with 2 concurrent workers.\n",
            "[Parallel(n_jobs=-1)]: Done  99 out of  99 | elapsed:    0.6s finished\n",
            "\n",
            "[2021-10-07 22:51:27] Features: 98/1 -- score: 0.9378238341968912[Parallel(n_jobs=-1)]: Using backend LokyBackend with 2 concurrent workers.\n",
            "[Parallel(n_jobs=-1)]: Done  98 out of  98 | elapsed:    0.6s finished\n",
            "\n",
            "[2021-10-07 22:51:27] Features: 97/1 -- score: 0.9378238341968912[Parallel(n_jobs=-1)]: Using backend LokyBackend with 2 concurrent workers.\n",
            "[Parallel(n_jobs=-1)]: Done  97 out of  97 | elapsed:    0.6s finished\n",
            "\n",
            "[2021-10-07 22:51:28] Features: 96/1 -- score: 0.9378238341968912[Parallel(n_jobs=-1)]: Using backend LokyBackend with 2 concurrent workers.\n",
            "[Parallel(n_jobs=-1)]: Done  96 out of  96 | elapsed:    0.6s finished\n",
            "\n",
            "[2021-10-07 22:51:28] Features: 95/1 -- score: 0.9378238341968912[Parallel(n_jobs=-1)]: Using backend LokyBackend with 2 concurrent workers.\n",
            "[Parallel(n_jobs=-1)]: Done  95 out of  95 | elapsed:    0.5s finished\n",
            "\n",
            "[2021-10-07 22:51:29] Features: 94/1 -- score: 0.9378238341968912[Parallel(n_jobs=-1)]: Using backend LokyBackend with 2 concurrent workers.\n",
            "[Parallel(n_jobs=-1)]: Done  94 out of  94 | elapsed:    0.5s finished\n",
            "\n",
            "[2021-10-07 22:51:29] Features: 93/1 -- score: 0.9378238341968912[Parallel(n_jobs=-1)]: Using backend LokyBackend with 2 concurrent workers.\n",
            "[Parallel(n_jobs=-1)]: Done  93 out of  93 | elapsed:    0.5s finished\n",
            "\n",
            "[2021-10-07 22:51:30] Features: 92/1 -- score: 0.9378238341968912[Parallel(n_jobs=-1)]: Using backend LokyBackend with 2 concurrent workers.\n",
            "[Parallel(n_jobs=-1)]: Done  92 out of  92 | elapsed:    0.5s finished\n",
            "\n",
            "[2021-10-07 22:51:30] Features: 91/1 -- score: 0.9378238341968912[Parallel(n_jobs=-1)]: Using backend LokyBackend with 2 concurrent workers.\n",
            "[Parallel(n_jobs=-1)]: Done  81 tasks      | elapsed:    0.8s\n",
            "[Parallel(n_jobs=-1)]: Done  91 out of  91 | elapsed:    0.9s finished\n",
            "\n",
            "[2021-10-07 22:51:31] Features: 90/1 -- score: 0.9378238341968912[Parallel(n_jobs=-1)]: Using backend LokyBackend with 2 concurrent workers.\n",
            "[Parallel(n_jobs=-1)]: Done  81 tasks      | elapsed:    0.8s\n",
            "[Parallel(n_jobs=-1)]: Done  90 out of  90 | elapsed:    0.9s finished\n",
            "\n",
            "[2021-10-07 22:51:32] Features: 89/1 -- score: 0.9378238341968912[Parallel(n_jobs=-1)]: Using backend LokyBackend with 2 concurrent workers.\n",
            "[Parallel(n_jobs=-1)]: Done  81 tasks      | elapsed:    0.8s\n",
            "[Parallel(n_jobs=-1)]: Done  89 out of  89 | elapsed:    0.9s finished\n",
            "\n",
            "[2021-10-07 22:51:33] Features: 88/1 -- score: 0.9378238341968912[Parallel(n_jobs=-1)]: Using backend LokyBackend with 2 concurrent workers.\n",
            "[Parallel(n_jobs=-1)]: Done  81 tasks      | elapsed:    0.8s\n",
            "[Parallel(n_jobs=-1)]: Done  88 out of  88 | elapsed:    0.9s finished\n",
            "\n",
            "[2021-10-07 22:51:34] Features: 87/1 -- score: 0.9378238341968912[Parallel(n_jobs=-1)]: Using backend LokyBackend with 2 concurrent workers.\n",
            "[Parallel(n_jobs=-1)]: Done  81 tasks      | elapsed:    0.8s\n",
            "[Parallel(n_jobs=-1)]: Done  87 out of  87 | elapsed:    0.9s finished\n",
            "\n",
            "[2021-10-07 22:51:35] Features: 86/1 -- score: 0.9378238341968912[Parallel(n_jobs=-1)]: Using backend LokyBackend with 2 concurrent workers.\n",
            "[Parallel(n_jobs=-1)]: Done  81 tasks      | elapsed:    0.8s\n",
            "[Parallel(n_jobs=-1)]: Done  86 out of  86 | elapsed:    0.9s finished\n",
            "\n",
            "[2021-10-07 22:51:36] Features: 85/1 -- score: 0.9378238341968912[Parallel(n_jobs=-1)]: Using backend LokyBackend with 2 concurrent workers.\n",
            "[Parallel(n_jobs=-1)]: Done  81 tasks      | elapsed:    0.8s\n",
            "[Parallel(n_jobs=-1)]: Done  85 out of  85 | elapsed:    0.9s finished\n",
            "\n",
            "[2021-10-07 22:51:37] Features: 84/1 -- score: 0.9378238341968912[Parallel(n_jobs=-1)]: Using backend LokyBackend with 2 concurrent workers.\n",
            "[Parallel(n_jobs=-1)]: Done  81 tasks      | elapsed:    0.8s\n",
            "[Parallel(n_jobs=-1)]: Done  84 out of  84 | elapsed:    0.9s finished\n",
            "\n",
            "[2021-10-07 22:51:38] Features: 83/1 -- score: 0.9378238341968912[Parallel(n_jobs=-1)]: Using backend LokyBackend with 2 concurrent workers.\n",
            "[Parallel(n_jobs=-1)]: Done  83 out of  83 | elapsed:    0.9s finished\n",
            "\n",
            "[2021-10-07 22:51:39] Features: 82/1 -- score: 0.9378238341968912[Parallel(n_jobs=-1)]: Using backend LokyBackend with 2 concurrent workers.\n",
            "[Parallel(n_jobs=-1)]: Done  82 out of  82 | elapsed:    0.9s finished\n",
            "\n",
            "[2021-10-07 22:51:40] Features: 81/1 -- score: 0.9378238341968912[Parallel(n_jobs=-1)]: Using backend LokyBackend with 2 concurrent workers.\n",
            "[Parallel(n_jobs=-1)]: Done  81 out of  81 | elapsed:    0.9s finished\n",
            "\n",
            "[2021-10-07 22:51:40] Features: 80/1 -- score: 0.9378238341968912[Parallel(n_jobs=-1)]: Using backend LokyBackend with 2 concurrent workers.\n",
            "[Parallel(n_jobs=-1)]: Done  80 out of  80 | elapsed:    0.8s finished\n",
            "\n",
            "[2021-10-07 22:51:41] Features: 79/1 -- score: 0.9378238341968912[Parallel(n_jobs=-1)]: Using backend LokyBackend with 2 concurrent workers.\n",
            "[Parallel(n_jobs=-1)]: Done  79 out of  79 | elapsed:    0.8s finished\n",
            "\n",
            "[2021-10-07 22:51:42] Features: 78/1 -- score: 0.9378238341968912[Parallel(n_jobs=-1)]: Using backend LokyBackend with 2 concurrent workers.\n",
            "[Parallel(n_jobs=-1)]: Done  78 out of  78 | elapsed:    0.8s finished\n",
            "\n",
            "[2021-10-07 22:51:43] Features: 77/1 -- score: 0.9378238341968912[Parallel(n_jobs=-1)]: Using backend LokyBackend with 2 concurrent workers.\n",
            "[Parallel(n_jobs=-1)]: Done  77 out of  77 | elapsed:    0.8s finished\n",
            "\n",
            "[2021-10-07 22:51:44] Features: 76/1 -- score: 0.9378238341968912[Parallel(n_jobs=-1)]: Using backend LokyBackend with 2 concurrent workers.\n",
            "[Parallel(n_jobs=-1)]: Done  76 out of  76 | elapsed:    0.8s finished\n",
            "\n",
            "[2021-10-07 22:51:44] Features: 75/1 -- score: 0.9378238341968912[Parallel(n_jobs=-1)]: Using backend LokyBackend with 2 concurrent workers.\n",
            "[Parallel(n_jobs=-1)]: Done  75 out of  75 | elapsed:    0.8s finished\n",
            "\n",
            "[2021-10-07 22:51:45] Features: 74/1 -- score: 0.9378238341968912[Parallel(n_jobs=-1)]: Using backend LokyBackend with 2 concurrent workers.\n",
            "[Parallel(n_jobs=-1)]: Done  74 out of  74 | elapsed:    0.7s finished\n",
            "\n",
            "[2021-10-07 22:51:46] Features: 73/1 -- score: 0.9378238341968912[Parallel(n_jobs=-1)]: Using backend LokyBackend with 2 concurrent workers.\n",
            "[Parallel(n_jobs=-1)]: Done  73 out of  73 | elapsed:    0.7s finished\n",
            "\n",
            "[2021-10-07 22:51:47] Features: 72/1 -- score: 0.9378238341968912[Parallel(n_jobs=-1)]: Using backend LokyBackend with 2 concurrent workers.\n",
            "[Parallel(n_jobs=-1)]: Done  72 out of  72 | elapsed:    0.7s finished\n",
            "\n",
            "[2021-10-07 22:51:47] Features: 71/1 -- score: 0.9378238341968912[Parallel(n_jobs=-1)]: Using backend LokyBackend with 2 concurrent workers.\n",
            "[Parallel(n_jobs=-1)]: Done  71 out of  71 | elapsed:    0.7s finished\n",
            "\n",
            "[2021-10-07 22:51:48] Features: 70/1 -- score: 0.9378238341968912[Parallel(n_jobs=-1)]: Using backend LokyBackend with 2 concurrent workers.\n",
            "[Parallel(n_jobs=-1)]: Done  70 out of  70 | elapsed:    0.7s finished\n",
            "\n",
            "[2021-10-07 22:51:49] Features: 69/1 -- score: 0.9430051813471503[Parallel(n_jobs=-1)]: Using backend LokyBackend with 2 concurrent workers.\n",
            "[Parallel(n_jobs=-1)]: Done  69 out of  69 | elapsed:    0.7s finished\n",
            "\n",
            "[2021-10-07 22:51:49] Features: 68/1 -- score: 0.9430051813471503[Parallel(n_jobs=-1)]: Using backend LokyBackend with 2 concurrent workers.\n",
            "[Parallel(n_jobs=-1)]: Done  68 out of  68 | elapsed:    0.6s finished\n",
            "\n",
            "[2021-10-07 22:51:50] Features: 67/1 -- score: 0.9430051813471503[Parallel(n_jobs=-1)]: Using backend LokyBackend with 2 concurrent workers.\n",
            "[Parallel(n_jobs=-1)]: Done  67 out of  67 | elapsed:    0.6s finished\n",
            "\n",
            "[2021-10-07 22:51:51] Features: 66/1 -- score: 0.9430051813471503[Parallel(n_jobs=-1)]: Using backend LokyBackend with 2 concurrent workers.\n",
            "[Parallel(n_jobs=-1)]: Done  66 out of  66 | elapsed:    0.6s finished\n",
            "\n",
            "[2021-10-07 22:51:51] Features: 65/1 -- score: 0.9430051813471503[Parallel(n_jobs=-1)]: Using backend LokyBackend with 2 concurrent workers.\n",
            "[Parallel(n_jobs=-1)]: Done  65 out of  65 | elapsed:    0.6s finished\n",
            "\n",
            "[2021-10-07 22:51:52] Features: 64/1 -- score: 0.9430051813471503[Parallel(n_jobs=-1)]: Using backend LokyBackend with 2 concurrent workers.\n",
            "[Parallel(n_jobs=-1)]: Done  64 out of  64 | elapsed:    0.6s finished\n",
            "\n",
            "[2021-10-07 22:51:52] Features: 63/1 -- score: 0.9430051813471503[Parallel(n_jobs=-1)]: Using backend LokyBackend with 2 concurrent workers.\n",
            "[Parallel(n_jobs=-1)]: Done  63 out of  63 | elapsed:    0.6s finished\n",
            "\n",
            "[2021-10-07 22:51:53] Features: 62/1 -- score: 0.9430051813471503[Parallel(n_jobs=-1)]: Using backend LokyBackend with 2 concurrent workers.\n",
            "[Parallel(n_jobs=-1)]: Done  62 out of  62 | elapsed:    0.5s finished\n",
            "\n",
            "[2021-10-07 22:51:54] Features: 61/1 -- score: 0.9430051813471503[Parallel(n_jobs=-1)]: Using backend LokyBackend with 2 concurrent workers.\n",
            "[Parallel(n_jobs=-1)]: Done  61 out of  61 | elapsed:    0.5s finished\n",
            "\n",
            "[2021-10-07 22:51:54] Features: 60/1 -- score: 0.9430051813471503[Parallel(n_jobs=-1)]: Using backend LokyBackend with 2 concurrent workers.\n",
            "[Parallel(n_jobs=-1)]: Done  60 out of  60 | elapsed:    0.5s finished\n",
            "\n",
            "[2021-10-07 22:51:55] Features: 59/1 -- score: 0.9430051813471503[Parallel(n_jobs=-1)]: Using backend LokyBackend with 2 concurrent workers.\n",
            "[Parallel(n_jobs=-1)]: Done  59 out of  59 | elapsed:    0.8s finished\n",
            "\n",
            "[2021-10-07 22:51:55] Features: 58/1 -- score: 0.9430051813471503[Parallel(n_jobs=-1)]: Using backend LokyBackend with 2 concurrent workers.\n",
            "[Parallel(n_jobs=-1)]: Done  58 out of  58 | elapsed:    0.8s finished\n",
            "\n",
            "[2021-10-07 22:51:56] Features: 57/1 -- score: 0.9430051813471503[Parallel(n_jobs=-1)]: Using backend LokyBackend with 2 concurrent workers.\n",
            "[Parallel(n_jobs=-1)]: Done  57 out of  57 | elapsed:    0.7s finished\n",
            "\n",
            "[2021-10-07 22:51:57] Features: 56/1 -- score: 0.9430051813471503[Parallel(n_jobs=-1)]: Using backend LokyBackend with 2 concurrent workers.\n",
            "[Parallel(n_jobs=-1)]: Done  56 out of  56 | elapsed:    0.7s finished\n",
            "\n",
            "[2021-10-07 22:51:58] Features: 55/1 -- score: 0.9430051813471503[Parallel(n_jobs=-1)]: Using backend LokyBackend with 2 concurrent workers.\n",
            "[Parallel(n_jobs=-1)]: Done  55 out of  55 | elapsed:    0.7s finished\n",
            "\n",
            "[2021-10-07 22:51:58] Features: 54/1 -- score: 0.9430051813471503[Parallel(n_jobs=-1)]: Using backend LokyBackend with 2 concurrent workers.\n",
            "[Parallel(n_jobs=-1)]: Done  54 out of  54 | elapsed:    0.7s finished\n",
            "\n",
            "[2021-10-07 22:51:59] Features: 53/1 -- score: 0.9430051813471503[Parallel(n_jobs=-1)]: Using backend LokyBackend with 2 concurrent workers.\n",
            "[Parallel(n_jobs=-1)]: Done  53 out of  53 | elapsed:    0.6s finished\n",
            "\n",
            "[2021-10-07 22:52:00] Features: 52/1 -- score: 0.9430051813471503[Parallel(n_jobs=-1)]: Using backend LokyBackend with 2 concurrent workers.\n",
            "[Parallel(n_jobs=-1)]: Done  52 out of  52 | elapsed:    0.6s finished\n",
            "\n",
            "[2021-10-07 22:52:00] Features: 51/1 -- score: 0.9430051813471503[Parallel(n_jobs=-1)]: Using backend LokyBackend with 2 concurrent workers.\n",
            "[Parallel(n_jobs=-1)]: Done  51 out of  51 | elapsed:    0.6s finished\n",
            "\n",
            "[2021-10-07 22:52:01] Features: 50/1 -- score: 0.9430051813471503[Parallel(n_jobs=-1)]: Using backend LokyBackend with 2 concurrent workers.\n",
            "[Parallel(n_jobs=-1)]: Done  50 out of  50 | elapsed:    0.6s finished\n",
            "\n",
            "[2021-10-07 22:52:01] Features: 49/1 -- score: 0.9430051813471503[Parallel(n_jobs=-1)]: Using backend LokyBackend with 2 concurrent workers.\n",
            "[Parallel(n_jobs=-1)]: Done  49 out of  49 | elapsed:    0.6s finished\n",
            "\n",
            "[2021-10-07 22:52:02] Features: 48/1 -- score: 0.9430051813471503[Parallel(n_jobs=-1)]: Using backend LokyBackend with 2 concurrent workers.\n",
            "[Parallel(n_jobs=-1)]: Done  48 out of  48 | elapsed:    0.5s finished\n",
            "\n",
            "[2021-10-07 22:52:03] Features: 47/1 -- score: 0.9430051813471503[Parallel(n_jobs=-1)]: Using backend LokyBackend with 2 concurrent workers.\n",
            "[Parallel(n_jobs=-1)]: Done  47 out of  47 | elapsed:    0.5s finished\n",
            "\n",
            "[2021-10-07 22:52:03] Features: 46/1 -- score: 0.9430051813471503[Parallel(n_jobs=-1)]: Using backend LokyBackend with 2 concurrent workers.\n",
            "[Parallel(n_jobs=-1)]: Done  46 out of  46 | elapsed:    0.5s finished\n",
            "\n",
            "[2021-10-07 22:52:04] Features: 45/1 -- score: 0.9430051813471503[Parallel(n_jobs=-1)]: Using backend LokyBackend with 2 concurrent workers.\n",
            "[Parallel(n_jobs=-1)]: Done  45 out of  45 | elapsed:    0.5s finished\n",
            "\n",
            "[2021-10-07 22:52:04] Features: 44/1 -- score: 0.9430051813471503[Parallel(n_jobs=-1)]: Using backend LokyBackend with 2 concurrent workers.\n",
            "[Parallel(n_jobs=-1)]: Done  44 out of  44 | elapsed:    0.4s finished\n",
            "\n",
            "[2021-10-07 22:52:04] Features: 43/1 -- score: 0.9430051813471503[Parallel(n_jobs=-1)]: Using backend LokyBackend with 2 concurrent workers.\n",
            "[Parallel(n_jobs=-1)]: Done  43 out of  43 | elapsed:    0.8s finished\n",
            "\n",
            "[2021-10-07 22:52:05] Features: 42/1 -- score: 0.9430051813471503[Parallel(n_jobs=-1)]: Using backend LokyBackend with 2 concurrent workers.\n",
            "[Parallel(n_jobs=-1)]: Done  42 out of  42 | elapsed:    0.8s finished\n",
            "\n",
            "[2021-10-07 22:52:06] Features: 41/1 -- score: 0.9430051813471503[Parallel(n_jobs=-1)]: Using backend LokyBackend with 2 concurrent workers.\n",
            "[Parallel(n_jobs=-1)]: Done  41 out of  41 | elapsed:    0.7s finished\n",
            "\n",
            "[2021-10-07 22:52:07] Features: 40/1 -- score: 0.9430051813471503[Parallel(n_jobs=-1)]: Using backend LokyBackend with 2 concurrent workers.\n",
            "[Parallel(n_jobs=-1)]: Done  40 out of  40 | elapsed:    0.7s finished\n",
            "\n",
            "[2021-10-07 22:52:07] Features: 39/1 -- score: 0.9430051813471503[Parallel(n_jobs=-1)]: Using backend LokyBackend with 2 concurrent workers.\n",
            "[Parallel(n_jobs=-1)]: Done  39 out of  39 | elapsed:    0.7s finished\n",
            "\n",
            "[2021-10-07 22:52:08] Features: 38/1 -- score: 0.9430051813471503[Parallel(n_jobs=-1)]: Using backend LokyBackend with 2 concurrent workers.\n",
            "[Parallel(n_jobs=-1)]: Done  38 out of  38 | elapsed:    0.7s finished\n",
            "\n",
            "[2021-10-07 22:52:09] Features: 37/1 -- score: 0.9430051813471503[Parallel(n_jobs=-1)]: Using backend LokyBackend with 2 concurrent workers.\n",
            "[Parallel(n_jobs=-1)]: Done  37 out of  37 | elapsed:    0.6s finished\n",
            "\n",
            "[2021-10-07 22:52:09] Features: 36/1 -- score: 0.9430051813471503[Parallel(n_jobs=-1)]: Using backend LokyBackend with 2 concurrent workers.\n",
            "[Parallel(n_jobs=-1)]: Done  36 out of  36 | elapsed:    0.6s finished\n",
            "\n",
            "[2021-10-07 22:52:10] Features: 35/1 -- score: 0.9430051813471503[Parallel(n_jobs=-1)]: Using backend LokyBackend with 2 concurrent workers.\n",
            "[Parallel(n_jobs=-1)]: Done  35 out of  35 | elapsed:    0.6s finished\n",
            "\n",
            "[2021-10-07 22:52:11] Features: 34/1 -- score: 0.9378238341968912[Parallel(n_jobs=-1)]: Using backend LokyBackend with 2 concurrent workers.\n",
            "[Parallel(n_jobs=-1)]: Done  34 out of  34 | elapsed:    0.5s finished\n",
            "\n",
            "[2021-10-07 22:52:11] Features: 33/1 -- score: 0.9378238341968912[Parallel(n_jobs=-1)]: Using backend LokyBackend with 2 concurrent workers.\n",
            "[Parallel(n_jobs=-1)]: Done  33 out of  33 | elapsed:    0.5s finished\n",
            "\n",
            "[2021-10-07 22:52:12] Features: 32/1 -- score: 0.9430051813471503[Parallel(n_jobs=-1)]: Using backend LokyBackend with 2 concurrent workers.\n",
            "[Parallel(n_jobs=-1)]: Done  32 out of  32 | elapsed:    0.5s finished\n",
            "\n",
            "[2021-10-07 22:52:12] Features: 31/1 -- score: 0.9378238341968912[Parallel(n_jobs=-1)]: Using backend LokyBackend with 2 concurrent workers.\n",
            "[Parallel(n_jobs=-1)]: Done  31 out of  31 | elapsed:    0.5s finished\n",
            "\n",
            "[2021-10-07 22:52:13] Features: 30/1 -- score: 0.9378238341968912[Parallel(n_jobs=-1)]: Using backend LokyBackend with 2 concurrent workers.\n",
            "[Parallel(n_jobs=-1)]: Done  30 out of  30 | elapsed:    0.4s finished\n",
            "\n",
            "[2021-10-07 22:52:13] Features: 29/1 -- score: 0.9326424870466321[Parallel(n_jobs=-1)]: Using backend LokyBackend with 2 concurrent workers.\n",
            "[Parallel(n_jobs=-1)]: Done  29 out of  29 | elapsed:    0.4s finished\n",
            "\n",
            "[2021-10-07 22:52:13] Features: 28/1 -- score: 0.9326424870466321[Parallel(n_jobs=-1)]: Using backend LokyBackend with 2 concurrent workers.\n",
            "[Parallel(n_jobs=-1)]: Done  28 out of  28 | elapsed:    0.4s finished\n",
            "\n",
            "[2021-10-07 22:52:14] Features: 27/1 -- score: 0.9326424870466321[Parallel(n_jobs=-1)]: Using backend LokyBackend with 2 concurrent workers.\n",
            "[Parallel(n_jobs=-1)]: Done  27 out of  27 | elapsed:    0.5s finished\n",
            "\n",
            "[2021-10-07 22:52:14] Features: 26/1 -- score: 0.9326424870466321[Parallel(n_jobs=-1)]: Using backend LokyBackend with 2 concurrent workers.\n",
            "[Parallel(n_jobs=-1)]: Done  26 out of  26 | elapsed:    0.5s finished\n",
            "\n",
            "[2021-10-07 22:52:15] Features: 25/1 -- score: 0.9326424870466321[Parallel(n_jobs=-1)]: Using backend LokyBackend with 2 concurrent workers.\n",
            "[Parallel(n_jobs=-1)]: Done  25 out of  25 | elapsed:    0.5s finished\n",
            "\n",
            "[2021-10-07 22:52:15] Features: 24/1 -- score: 0.927461139896373[Parallel(n_jobs=-1)]: Using backend LokyBackend with 2 concurrent workers.\n",
            "[Parallel(n_jobs=-1)]: Done  24 out of  24 | elapsed:    0.4s finished\n",
            "\n",
            "[2021-10-07 22:52:16] Features: 23/1 -- score: 0.927461139896373[Parallel(n_jobs=-1)]: Using backend LokyBackend with 2 concurrent workers.\n",
            "[Parallel(n_jobs=-1)]: Done  23 out of  23 | elapsed:    0.4s finished\n",
            "\n",
            "[2021-10-07 22:52:16] Features: 22/1 -- score: 0.927461139896373[Parallel(n_jobs=-1)]: Using backend LokyBackend with 2 concurrent workers.\n",
            "[Parallel(n_jobs=-1)]: Done  22 out of  22 | elapsed:    0.4s finished\n",
            "\n",
            "[2021-10-07 22:52:16] Features: 21/1 -- score: 0.9222797927461139[Parallel(n_jobs=-1)]: Using backend LokyBackend with 2 concurrent workers.\n",
            "[Parallel(n_jobs=-1)]: Done  21 out of  21 | elapsed:    0.4s finished\n",
            "\n",
            "[2021-10-07 22:52:17] Features: 20/1 -- score: 0.9222797927461139[Parallel(n_jobs=-1)]: Using backend LokyBackend with 2 concurrent workers.\n",
            "[Parallel(n_jobs=-1)]: Done  20 out of  20 | elapsed:    0.3s finished\n",
            "\n",
            "[2021-10-07 22:52:17] Features: 19/1 -- score: 0.927461139896373[Parallel(n_jobs=-1)]: Using backend LokyBackend with 2 concurrent workers.\n",
            "[Parallel(n_jobs=-1)]: Done  19 out of  19 | elapsed:    0.5s finished\n",
            "\n",
            "[2021-10-07 22:52:18] Features: 18/1 -- score: 0.927461139896373[Parallel(n_jobs=-1)]: Using backend LokyBackend with 2 concurrent workers.\n",
            "[Parallel(n_jobs=-1)]: Done  18 out of  18 | elapsed:    0.4s finished\n",
            "\n",
            "[2021-10-07 22:52:18] Features: 17/1 -- score: 0.927461139896373[Parallel(n_jobs=-1)]: Using backend LokyBackend with 2 concurrent workers.\n",
            "[Parallel(n_jobs=-1)]: Done  17 out of  17 | elapsed:    0.4s finished\n",
            "\n",
            "[2021-10-07 22:52:18] Features: 16/1 -- score: 0.927461139896373[Parallel(n_jobs=-1)]: Using backend LokyBackend with 2 concurrent workers.\n",
            "[Parallel(n_jobs=-1)]: Done  16 out of  16 | elapsed:    0.4s finished\n",
            "\n",
            "[2021-10-07 22:52:19] Features: 15/1 -- score: 0.927461139896373[Parallel(n_jobs=-1)]: Using backend LokyBackend with 2 concurrent workers.\n",
            "[Parallel(n_jobs=-1)]: Done  15 out of  15 | elapsed:    0.3s finished\n",
            "\n",
            "[2021-10-07 22:52:19] Features: 14/1 -- score: 0.9222797927461139[Parallel(n_jobs=-1)]: Using backend LokyBackend with 2 concurrent workers.\n",
            "[Parallel(n_jobs=-1)]: Done  14 out of  14 | elapsed:    0.3s finished\n",
            "\n",
            "[2021-10-07 22:52:20] Features: 13/1 -- score: 0.9222797927461139[Parallel(n_jobs=-1)]: Using backend LokyBackend with 2 concurrent workers.\n",
            "[Parallel(n_jobs=-1)]: Done  10 out of  13 | elapsed:    0.2s remaining:    0.1s\n",
            "[Parallel(n_jobs=-1)]: Done  13 out of  13 | elapsed:    0.3s finished\n",
            "\n",
            "[2021-10-07 22:52:20] Features: 12/1 -- score: 0.9222797927461139[Parallel(n_jobs=-1)]: Using backend LokyBackend with 2 concurrent workers.\n",
            "[Parallel(n_jobs=-1)]: Done  12 out of  12 | elapsed:    0.3s finished\n",
            "\n",
            "[2021-10-07 22:52:20] Features: 11/1 -- score: 0.9119170984455959[Parallel(n_jobs=-1)]: Using backend LokyBackend with 2 concurrent workers.\n",
            "[Parallel(n_jobs=-1)]: Done  11 out of  11 | elapsed:    0.3s finished\n",
            "\n",
            "[2021-10-07 22:52:20] Features: 10/1 -- score: 0.917098445595855[Parallel(n_jobs=-1)]: Using backend LokyBackend with 2 concurrent workers.\n",
            "[Parallel(n_jobs=-1)]: Done  10 out of  10 | elapsed:    0.3s finished\n",
            "\n",
            "[2021-10-07 22:52:21] Features: 9/1 -- score: 0.9119170984455959[Parallel(n_jobs=-1)]: Using backend LokyBackend with 2 concurrent workers.\n",
            "[Parallel(n_jobs=-1)]: Done   6 out of   9 | elapsed:    0.2s remaining:    0.1s\n",
            "[Parallel(n_jobs=-1)]: Done   9 out of   9 | elapsed:    0.2s finished\n",
            "\n",
            "[2021-10-07 22:52:21] Features: 8/1 -- score: 0.9067357512953368[Parallel(n_jobs=-1)]: Using backend LokyBackend with 2 concurrent workers.\n",
            "[Parallel(n_jobs=-1)]: Done   8 out of   8 | elapsed:    0.2s finished\n",
            "\n",
            "[2021-10-07 22:52:21] Features: 7/1 -- score: 0.8963730569948186[Parallel(n_jobs=-1)]: Using backend LokyBackend with 2 concurrent workers.\n",
            "[Parallel(n_jobs=-1)]: Done   7 out of   7 | elapsed:    0.2s finished\n",
            "\n",
            "[2021-10-07 22:52:21] Features: 6/1 -- score: 0.9067357512953368[Parallel(n_jobs=-1)]: Using backend LokyBackend with 2 concurrent workers.\n",
            "[Parallel(n_jobs=-1)]: Done   6 out of   6 | elapsed:    0.2s finished\n",
            "\n",
            "[2021-10-07 22:52:21] Features: 5/1 -- score: 0.9015544041450777[Parallel(n_jobs=-1)]: Using backend LokyBackend with 2 concurrent workers.\n",
            "[Parallel(n_jobs=-1)]: Done   5 out of   5 | elapsed:    0.2s remaining:    0.0s\n",
            "[Parallel(n_jobs=-1)]: Done   5 out of   5 | elapsed:    0.2s finished\n",
            "\n",
            "[2021-10-07 22:52:22] Features: 4/1 -- score: 0.9067357512953368[Parallel(n_jobs=-1)]: Using backend LokyBackend with 2 concurrent workers.\n",
            "[Parallel(n_jobs=-1)]: Done   4 out of   4 | elapsed:    0.1s remaining:    0.0s\n",
            "[Parallel(n_jobs=-1)]: Done   4 out of   4 | elapsed:    0.1s finished\n",
            "\n",
            "[2021-10-07 22:52:22] Features: 3/1 -- score: 0.9015544041450777[Parallel(n_jobs=-1)]: Using backend LokyBackend with 2 concurrent workers.\n",
            "[Parallel(n_jobs=-1)]: Done   3 out of   3 | elapsed:    0.1s finished\n",
            "\n",
            "[2021-10-07 22:52:22] Features: 2/1 -- score: 0.8911917098445595[Parallel(n_jobs=-1)]: Using backend LokyBackend with 2 concurrent workers.\n",
            "[Parallel(n_jobs=-1)]: Done   2 out of   2 | elapsed:    0.1s finished\n",
            "\n",
            "[2021-10-07 22:52:22] Features: 1/1 -- score: 0.8704663212435233/usr/local/lib/python3.7/dist-packages/numpy/core/_methods.py:234: RuntimeWarning: Degrees of freedom <= 0 for slice\n",
            "  keepdims=keepdims)\n",
            "/usr/local/lib/python3.7/dist-packages/numpy/core/_methods.py:226: RuntimeWarning: invalid value encountered in double_scalars\n",
            "  ret = ret.dtype.type(ret / rcount)\n"
          ]
        },
        {
          "output_type": "stream",
          "name": "stdout",
          "text": [
            "SequentialFeatureSelector(clone_estimator=True, cv=0,\n",
            "                          estimator=LogisticRegression(C=1.0, class_weight=None,\n",
            "                                                       dual=False,\n",
            "                                                       fit_intercept=True,\n",
            "                                                       intercept_scaling=1,\n",
            "                                                       l1_ratio=None,\n",
            "                                                       max_iter=100,\n",
            "                                                       multi_class='auto',\n",
            "                                                       n_jobs=None,\n",
            "                                                       penalty='l2',\n",
            "                                                       random_state=15,\n",
            "                                                       solver='liblinear',\n",
            "                                                       tol=0.0001, verbose=0,\n",
            "                                                       warm_start=False),\n",
            "                          floating=False, forward=False, k_features=1,\n",
            "                          n_jobs=-1, pre_dispatch='2*n_jobs',\n",
            "                          scoring='accuracy', verbose=2)\n"
          ]
        },
        {
          "output_type": "execute_result",
          "data": {
            "text/html": [
              "<div>\n",
              "<style scoped>\n",
              "    .dataframe tbody tr th:only-of-type {\n",
              "        vertical-align: middle;\n",
              "    }\n",
              "\n",
              "    .dataframe tbody tr th {\n",
              "        vertical-align: top;\n",
              "    }\n",
              "\n",
              "    .dataframe thead th {\n",
              "        text-align: right;\n",
              "    }\n",
              "</style>\n",
              "<table border=\"1\" class=\"dataframe\">\n",
              "  <thead>\n",
              "    <tr style=\"text-align: right;\">\n",
              "      <th></th>\n",
              "      <th>feature_idx</th>\n",
              "      <th>cv_scores</th>\n",
              "      <th>avg_score</th>\n",
              "      <th>feature_names</th>\n",
              "      <th>ci_bound</th>\n",
              "      <th>std_dev</th>\n",
              "      <th>std_err</th>\n",
              "    </tr>\n",
              "  </thead>\n",
              "  <tbody>\n",
              "    <tr>\n",
              "      <th>64</th>\n",
              "      <td>(0, 1, 2, 3, 4, 6, 8, 9, 10, 11, 13, 14, 15, 1...</td>\n",
              "      <td>[0.9430051813471503]</td>\n",
              "      <td>0.943005</td>\n",
              "      <td>(0, 1, 2, 3, 4, 6, 8, 9, 10, 11, 13, 14, 15, 1...</td>\n",
              "      <td>NaN</td>\n",
              "      <td>0</td>\n",
              "      <td>NaN</td>\n",
              "    </tr>\n",
              "    <tr>\n",
              "      <th>49</th>\n",
              "      <td>(0, 1, 2, 3, 4, 6, 8, 9, 10, 11, 13, 14, 15, 1...</td>\n",
              "      <td>[0.9430051813471503]</td>\n",
              "      <td>0.943005</td>\n",
              "      <td>(0, 1, 2, 3, 4, 6, 8, 9, 10, 11, 13, 14, 15, 1...</td>\n",
              "      <td>NaN</td>\n",
              "      <td>0</td>\n",
              "      <td>NaN</td>\n",
              "    </tr>\n",
              "    <tr>\n",
              "      <th>51</th>\n",
              "      <td>(0, 1, 2, 3, 4, 6, 8, 9, 10, 11, 13, 14, 15, 1...</td>\n",
              "      <td>[0.9430051813471503]</td>\n",
              "      <td>0.943005</td>\n",
              "      <td>(0, 1, 2, 3, 4, 6, 8, 9, 10, 11, 13, 14, 15, 1...</td>\n",
              "      <td>NaN</td>\n",
              "      <td>0</td>\n",
              "      <td>NaN</td>\n",
              "    </tr>\n",
              "    <tr>\n",
              "      <th>53</th>\n",
              "      <td>(0, 1, 2, 3, 4, 6, 8, 9, 10, 11, 13, 14, 15, 1...</td>\n",
              "      <td>[0.9430051813471503]</td>\n",
              "      <td>0.943005</td>\n",
              "      <td>(0, 1, 2, 3, 4, 6, 8, 9, 10, 11, 13, 14, 15, 1...</td>\n",
              "      <td>NaN</td>\n",
              "      <td>0</td>\n",
              "      <td>NaN</td>\n",
              "    </tr>\n",
              "    <tr>\n",
              "      <th>54</th>\n",
              "      <td>(0, 1, 2, 3, 4, 6, 8, 9, 10, 11, 13, 14, 15, 1...</td>\n",
              "      <td>[0.9430051813471503]</td>\n",
              "      <td>0.943005</td>\n",
              "      <td>(0, 1, 2, 3, 4, 6, 8, 9, 10, 11, 13, 14, 15, 1...</td>\n",
              "      <td>NaN</td>\n",
              "      <td>0</td>\n",
              "      <td>NaN</td>\n",
              "    </tr>\n",
              "  </tbody>\n",
              "</table>\n",
              "</div>"
            ],
            "text/plain": [
              "                                          feature_idx  ... std_err\n",
              "64  (0, 1, 2, 3, 4, 6, 8, 9, 10, 11, 13, 14, 15, 1...  ...     NaN\n",
              "49  (0, 1, 2, 3, 4, 6, 8, 9, 10, 11, 13, 14, 15, 1...  ...     NaN\n",
              "51  (0, 1, 2, 3, 4, 6, 8, 9, 10, 11, 13, 14, 15, 1...  ...     NaN\n",
              "53  (0, 1, 2, 3, 4, 6, 8, 9, 10, 11, 13, 14, 15, 1...  ...     NaN\n",
              "54  (0, 1, 2, 3, 4, 6, 8, 9, 10, 11, 13, 14, 15, 1...  ...     NaN\n",
              "\n",
              "[5 rows x 7 columns]"
            ]
          },
          "metadata": {},
          "execution_count": 12
        },
        {
          "output_type": "display_data",
          "data": {
            "image/png": "[encoded data removed]",
            "text/plain": [
              "<Figure size 432x288 with 1 Axes>"
            ]
          },
          "metadata": {
            "needs_background": "light"
          }
        }
      ]
    },
    {
      "cell_type": "code",
      "metadata": {
        "id": "hV_SOzEQjGGr"
      },
      "source": [
        "result_LR.to_excel(\"lreg2.xlsx\")\n",
        "\n"
      ],
      "execution_count": null,
      "outputs": []
    },
    {
      "cell_type": "code",
      "metadata": {
        "id": "Mg2IaY-ljGGr"
      },
      "source": [
        "fig2 = plot_sfs(sfs1.get_metric_dict(), kind='std_dev')\n",
        "result_LR = pd.DataFrame.from_dict(sfs1.get_metric_dict(confidence_interval=0.90)).T\n",
        "result_LR.sort_values('avg_score', ascending=0, inplace=True)\n",
        "result_LR.head()"
      ],
      "execution_count": null,
      "outputs": []
    },
    {
      "cell_type": "code",
      "metadata": {
        "id": "Ae7MaXfbjGGr"
      },
      "source": [
        "result_LR.to_excel(\"sfs.xlsx\")\n"
      ],
      "execution_count": null,
      "outputs": []
    },
    {
      "cell_type": "code",
      "metadata": {
        "id": "xQVT9LVTjGGr"
      },
      "source": [
        "from sklearn.externals import joblib \n",
        "joblib.dump(sfs1, f'/content/drive/MyDrive/sfs100.pkl')\n"
      ],
      "execution_count": null,
      "outputs": []
    },
    {
      "cell_type": "code",
      "metadata": {
        "id": "z_16hp9sjGGr"
      },
      "source": [
        "sfs1.k_feature_idx_[40]"
      ],
      "execution_count": null,
      "outputs": []
    },
    {
      "cell_type": "code",
      "metadata": {
        "id": "zxeGJLpxjGGr"
      },
      "source": [
        "import matplotlib.pyplot as plt\n",
        "from mlxtend.plotting import plot_sequential_feature_selection as plot_sfs\n",
        "from mlxtend.feature_selection import SequentialFeatureSelector as SFS\n",
        "from mlxtend.plotting import plot_sequential_feature_selection as plot_sfs\n"
      ],
      "execution_count": null,
      "outputs": []
    },
    {
      "cell_type": "code",
      "metadata": {
        "id": "QRCigvsPjGGs"
      },
      "source": [
        "fig1.set_size_inches(30, 30)"
      ],
      "execution_count": null,
      "outputs": []
    },
    {
      "cell_type": "code",
      "metadata": {
        "id": "uQmyEF3pjGGs"
      },
      "source": [
        "from sklearn.datasets import make_regression\n",
        "from sklearn.tree import DecisionTreeRegressor\n",
        "from matplotlib import pyplot\n",
        "# define dataset\n",
        "# define the model\n",
        "model = DecisionTreeRegressor()\n",
        "# fit the model\n",
        "model.fit(x_train,y_train)\n",
        "# get importance\n",
        "importance = model.feature_importances_\n",
        "# summarize feature importance\n",
        "for i,v in enumerate(importance):\n",
        "  if v > 0.01:\n",
        "    #print('Feature: %0d, Score: %.5f' % (i,v))\n",
        "    print(i)\n",
        "\n",
        "# plot feature importance\n",
        "    \n",
        "pyplot.bar([x for x in range(len(importance))], importance)\n",
        "pyplot.rcParams[\"figure.figsize\"] = (30,25)\n",
        "pyplot.show()"
      ],
      "execution_count": null,
      "outputs": []
    },
    {
      "cell_type": "code",
      "metadata": {
        "id": "1UUf1tRFjGGs"
      },
      "source": [
        "dataFrame"
      ],
      "execution_count": null,
      "outputs": []
    },
    {
      "cell_type": "markdown",
      "metadata": {
        "id": "b6qnkAU_Sku-"
      },
      "source": [
        "### Linear SVC\n"
      ]
    },
    {
      "cell_type": "code",
      "metadata": {
        "id": "b5eBvVRkpAm4",
        "colab": {
          "base_uri": "https://localhost:8080/",
          "height": 587
        },
        "outputId": "72a76e16-e1d6-4ac2-867a-62f991a14d82"
      },
      "source": [
        "print(\"--------------------------- Linear SVC ------------------------------------\")\n",
        "\n",
        "model= svm.SVC(kernel='linear',probability=True,gamma='auto').fit(x_train,y_train)\n",
        "\n",
        "tahminlerimiz2 = model.predict(x_test)\n",
        "\n",
        "print(classification_report(y_test,tahminlerimiz2))\n",
        "print(\"Confusion Matrix\")\n",
        "print(confusion_matrix(y_test,tahminlerimiz2))\n",
        "print(\"Accuracy Score\")\n",
        "print(accuracy_score(y_test,tahminlerimiz2))\n",
        "#joblib.dump(model, f'/content/drive/MyDrive/pkl/hayvan/svmlineer.pkl')\n",
        "\n",
        "\n",
        "scores = cross_val_score(model, x_test, y_test)\n",
        "print(\"Validation Score Mean\")\n",
        "print(scores.mean())\n",
        "print(\"Validation Sonuçları\")\n",
        "print(scores)\n",
        "cm = confusion_matrix(y_test, tahminlerimiz2,  normalize = 'true')\n",
        "disp = ConfusionMatrixDisplay(confusion_matrix=cm, display_labels=[0,1,2]).plot(cmap='gray')"
      ],
      "execution_count": null,
      "outputs": [
        {
          "output_type": "stream",
          "name": "stdout",
          "text": [
            "--------------------------- Linear SVC ------------------------------------\n",
            "              precision    recall  f1-score   support\n",
            "\n",
            "           1       0.91      0.96      0.93       193\n",
            "           5       0.88      0.76      0.81        78\n",
            "\n",
            "    accuracy                           0.90       271\n",
            "   macro avg       0.89      0.86      0.87       271\n",
            "weighted avg       0.90      0.90      0.90       271\n",
            "\n",
            "Confusion Matrix\n",
            "[[185   8]\n",
            " [ 19  59]]\n",
            "Accuracy Score\n",
            "0.9003690036900369\n",
            "Validation Score Mean\n",
            "0.8595959595959595\n",
            "Validation Sonuçları\n",
            "[0.90909091 0.85185185 0.87037037 0.7962963  0.87037037]\n"
          ]
        },
        {
          "output_type": "display_data",
          "data": {
            "image/png": "[encoded data removed]",
            "text/plain": [
              "<Figure size 432x288 with 2 Axes>"
            ]
          },
          "metadata": {
            "needs_background": "light"
          }
        }
      ]
    },
    {
      "cell_type": "code",
      "metadata": {
        "id": "Bk_IQ1VnTA3q"
      },
      "source": [
        "from sklearn.svm import LinearSVC\n",
        "n_classes = 2\n",
        "\n",
        "# shuffle and split training and test sets\n",
        "# classifier\n",
        "y_train = label_binarize(y_train, classes=[1,2])\n",
        "y_test = label_binarize(y_test, classes=[1,2])\n",
        "#clf = OneVsRestClassifier(LinearSVC(random_state=0)).fit(x_train, y_train)\n",
        "tahminlerimiz2 = model.predict(x_test)\n",
        "#lineer için y score\n",
        "  #y_score = model.decision_function(x_test)\n",
        "#knn için y score\n",
        "y_score = model.predict_proba(x_test)\n",
        "\n",
        "\n",
        "# Compute ROC curve and ROC area for each class\n",
        "fpr = dict()\n",
        "tpr = dict()\n",
        "roc_auc = dict()\n",
        "for i in range(n_classes):\n",
        "    fpr[i], tpr[i], _ = roc_curve(y_test[:, i], y_score[:, i])\n",
        "    roc_auc[i] = auc(fpr[i], tpr[i])\n",
        "# Plot of a ROC curve for a specific class\n",
        "for i in range(n_classes):\n",
        "    \n",
        "    plt.figure()\n",
        "    plt.plot(fpr[i], tpr[i], label='ROC curve (area = %0.2f)' % roc_auc[i])\n",
        "    plt.plot([0, 1], [0, 1], 'k--')\n",
        "    plt.xlim([0.0, 1.0])\n",
        "    plt.ylim([0.0, 1.05])\n",
        "    plt.xlabel('False Positive Rate')\n",
        "    plt.ylabel('True Positive Rate')\n",
        "    \n",
        "    plt.title(f'Receiver operating characteristic example -{i}')\n",
        "    plt.legend(loc=\"lower right\")\n",
        "    \n",
        "    plt.show()\n",
        "\n",
        "\n",
        "fpr[\"micro\"], tpr[\"micro\"], _ = roc_curve(y_test.ravel(), y_score.ravel())\n",
        "roc_auc[\"micro\"] = auc(fpr[\"micro\"], tpr[\"micro\"])\n",
        "all_fpr = np.unique(np.concatenate([fpr[i] for i in range(n_classes)]))\n",
        "\n",
        "# Then interpolate all ROC curves at this points\n",
        "mean_tpr = np.zeros_like(all_fpr)\n",
        "for i in range(n_classes):\n",
        "    mean_tpr += interp(all_fpr, fpr[i], tpr[i])\n",
        "\n",
        "# Finally average it and compute AUC\n",
        "mean_tpr /= n_classes\n",
        "\n",
        "fpr[\"macro\"] = all_fpr\n",
        "tpr[\"macro\"] = mean_tpr\n",
        "roc_auc[\"macro\"] = auc(fpr[\"macro\"], tpr[\"macro\"])\n",
        "\n",
        "# Plot all ROC curves bu değil\n",
        "plt.figure()\n",
        "plt.plot(fpr[\"micro\"], tpr[\"micro\"],\n",
        "         label='micro-average ROC curve (area = {0:0.2f})'\n",
        "              ''.format(roc_auc[\"micro\"]),\n",
        "         color='deeppink', linestyle=':', linewidth=4)\n",
        "\n",
        "plt.plot(fpr[\"macro\"], tpr[\"macro\"],\n",
        "        label='macro-average ROC curve (area = {0:0.2f})'\n",
        "              ''.format(roc_auc[\"macro\"]),\n",
        "         color='navy', linestyle=':', linewidth=4)\n",
        "\n",
        "colors = cycle(['aqua', 'darkorange', 'cornflowerblue'])\n",
        "for i, color in zip(range(n_classes), colors):\n",
        "    plt.plot(fpr[i], tpr[i], color=color, \n",
        "             label='ROC curve of class {0} (area = {1:0.2f})'\n",
        "             ''.format(i, roc_auc[i]))\n",
        "\n",
        "plt.plot([0, 1], [0, 1], 'k--')\n",
        "plt.xlim([0.0, 1.0])\n",
        "plt.ylim([0.0, 1.05])\n",
        "plt.xlabel('False Positive Rate')\n",
        "plt.ylabel('True Positive Rate')\n",
        "plt.title('Some extension of Receiver operating characteristic to multi-class')\n",
        "plt.legend(loc=\"lower right\")\n",
        "plt.rcParams[\"figure.figsize\"] = (20,15)\n",
        "plt.show()\n",
        "# plt.savefig('rocauclineer.png')"
      ],
      "execution_count": null,
      "outputs": []
    },
    {
      "cell_type": "markdown",
      "metadata": {
        "id": "IzlFthqrjGzF"
      },
      "source": [
        "#### SFS BFS (Bunlar çok sağlam öznitelik seçimleri ama saçmalayabiliyorlar ya da makineyi saçmalatabiliyorlar)"
      ]
    },
    {
      "cell_type": "code",
      "metadata": {
        "colab": {
          "base_uri": "https://localhost:8080/"
        },
        "id": "4DRRFqCHjGzF",
        "outputId": "cf27e5a2-647a-4db3-a5b8-a760cc6b7579"
      },
      "source": [
        "dataFrame.shape"
      ],
      "execution_count": null,
      "outputs": [
        {
          "output_type": "execute_result",
          "data": {
            "text/plain": [
              "(902, 129)"
            ]
          },
          "metadata": {},
          "execution_count": 110
        }
      ]
    },
    {
      "cell_type": "code",
      "metadata": {
        "id": "6uDD6vJDjGzF"
      },
      "source": [
        "import mlxtend\n",
        "from mlxtend.feature_selection import SequentialFeatureSelector as SFS\n",
        "from mlxtend.plotting import plot_sequential_feature_selection as plot_sfs\n",
        "import matplotlib.pyplot as plt\n",
        "%matplotlib inline"
      ],
      "execution_count": null,
      "outputs": []
    },
    {
      "cell_type": "code",
      "metadata": {
        "id": "-Dc0zu6ljGzG"
      },
      "source": [
        "sfs1 = SFS(model, forward=False, verbose=2, scoring='accuracy', cv=0, n_jobs=-1, k_features=1).fit(x_train,y_train)\n",
        "print(sfs1)\n",
        "fig1 = plot_sfs(sfs1.get_metric_dict(), kind='std_dev')\n",
        "result_LR = pd.DataFrame.from_dict(sfs1.get_metric_dict(confidence_interval=0.90)).T\n",
        "result_LR.sort_values('avg_score', ascending=0, inplace=True)\n",
        "result_LR.head()"
      ],
      "execution_count": null,
      "outputs": []
    },
    {
      "cell_type": "code",
      "metadata": {
        "id": "G0hEpDJVjGzG"
      },
      "source": [
        "result_LR.to_excel(\"svvm2.xlsx\")\n",
        "\n"
      ],
      "execution_count": null,
      "outputs": []
    },
    {
      "cell_type": "code",
      "metadata": {
        "id": "-IhgXdIXjGzG"
      },
      "source": [
        "fig2 = plot_sfs(sfs1.get_metric_dict(), kind='std_dev')\n",
        "result_LR = pd.DataFrame.from_dict(sfs1.get_metric_dict(confidence_interval=0.90)).T\n",
        "result_LR.sort_values('avg_score', ascending=0, inplace=True)\n",
        "result_LR.head()"
      ],
      "execution_count": null,
      "outputs": []
    },
    {
      "cell_type": "code",
      "metadata": {
        "id": "KCbPjfDnjGzG"
      },
      "source": [
        "result_LR.to_excel(\"sfs.xlsx\")\n"
      ],
      "execution_count": null,
      "outputs": []
    },
    {
      "cell_type": "code",
      "metadata": {
        "id": "mqUT7FfqjGzG"
      },
      "source": [
        "from sklearn.externals import joblib \n",
        "joblib.dump(sfs1, f'/content/drive/MyDrive/sfs100.pkl')\n"
      ],
      "execution_count": null,
      "outputs": []
    },
    {
      "cell_type": "code",
      "metadata": {
        "id": "unAr7QnPjGzG"
      },
      "source": [
        "sfs1.k_feature_idx_[40]"
      ],
      "execution_count": null,
      "outputs": []
    },
    {
      "cell_type": "code",
      "metadata": {
        "id": "TbePyzJyjGzG"
      },
      "source": [
        "import matplotlib.pyplot as plt\n",
        "from mlxtend.plotting import plot_sequential_feature_selection as plot_sfs\n",
        "from mlxtend.feature_selection import SequentialFeatureSelector as SFS\n",
        "from mlxtend.plotting import plot_sequential_feature_selection as plot_sfs\n"
      ],
      "execution_count": null,
      "outputs": []
    },
    {
      "cell_type": "code",
      "metadata": {
        "id": "Iwhh5P50jGzH"
      },
      "source": [
        "fig1.set_size_inches(30, 30)"
      ],
      "execution_count": null,
      "outputs": []
    },
    {
      "cell_type": "code",
      "metadata": {
        "id": "Vv20fm02jGzH"
      },
      "source": [
        "from sklearn.datasets import make_regression\n",
        "from sklearn.tree import DecisionTreeRegressor\n",
        "from matplotlib import pyplot\n",
        "# define dataset\n",
        "# define the model\n",
        "model = DecisionTreeRegressor()\n",
        "# fit the model\n",
        "model.fit(x_train,y_train)\n",
        "# get importance\n",
        "importance = model.feature_importances_\n",
        "# summarize feature importance\n",
        "for i,v in enumerate(importance):\n",
        "  if v > 0.01:\n",
        "    #print('Feature: %0d, Score: %.5f' % (i,v))\n",
        "    print(i)\n",
        "\n",
        "# plot feature importance\n",
        "    \n",
        "pyplot.bar([x for x in range(len(importance))], importance)\n",
        "pyplot.rcParams[\"figure.figsize\"] = (30,25)\n",
        "pyplot.show()"
      ],
      "execution_count": null,
      "outputs": []
    },
    {
      "cell_type": "code",
      "metadata": {
        "id": "yG48tPdajGzH"
      },
      "source": [
        "dataFrame"
      ],
      "execution_count": null,
      "outputs": []
    },
    {
      "cell_type": "markdown",
      "metadata": {
        "id": "NcV1itFYSFxS"
      },
      "source": [
        "### Decision Tree Regressor\n"
      ]
    },
    {
      "cell_type": "code",
      "metadata": {
        "id": "yheZzg_mlv6k",
        "colab": {
          "base_uri": "https://localhost:8080/",
          "height": 1000
        },
        "outputId": "ad772675-5f5f-44bf-aa56-32fe0333d195"
      },
      "source": [
        "print(\"---------------------------DecisionTreeRegressor ------------------------------------\")\n",
        "\n",
        "model = DecisionTreeRegressor().fit(x_train,y_train)\n",
        "tahminlerimiz2 = model.predict(x_test)\n",
        "print(classification_report(y_test,tahminlerimiz2))\n",
        "print(\"Confusion Matrix\")\n",
        "print(confusion_matrix(y_test,tahminlerimiz2))\n",
        "print(\"Accuracy Score\")\n",
        "print(accuracy_score(y_test,tahminlerimiz2))\n",
        "#joblib.dump(model, f'/content/drive/MyDrive/model_decisionregress.pkl')\n",
        "scores = cross_val_score(model, x_test, y_test)\n",
        "print(\"Validation Score Mean\")\n",
        "print(scores.mean())\n",
        "print(\"Validation Sonuçları\")\n",
        "print(scores)\n",
        "cm = confusion_matrix(y_test, tahminlerimiz2,  normalize = 'true')\n",
        "disp = ConfusionMatrixDisplay(confusion_matrix=cm, display_labels=[0,1,2]).plot(cmap='gray')"
      ],
      "execution_count": null,
      "outputs": [
        {
          "output_type": "stream",
          "name": "stdout",
          "text": [
            "---------------------------DecisionTreeRegressor ------------------------------------\n",
            "              precision    recall  f1-score   support\n",
            "\n",
            "           1       0.68      0.78      0.73        60\n",
            "           2       0.51      0.53      0.52        57\n",
            "           3       0.42      0.46      0.44        39\n",
            "           4       0.65      0.46      0.54        37\n",
            "           5       0.66      0.63      0.64        78\n",
            "\n",
            "    accuracy                           0.59       271\n",
            "   macro avg       0.58      0.57      0.57       271\n",
            "weighted avg       0.60      0.59      0.59       271\n",
            "\n",
            "Confusion Matrix\n",
            "[[47  1  3  2  7]\n",
            " [ 5 30 13  2  7]\n",
            " [ 1 14 18  1  5]\n",
            " [ 4  6  4 17  6]\n",
            " [12  8  5  4 49]]\n",
            "Accuracy Score\n",
            "0.5940959409594095\n",
            "Validation Score Mean\n",
            "0.28541694005266754\n",
            "Validation Sonuçları\n",
            "[0.3866741  0.63409125 0.16666667 0.13165829 0.10799439]\n"
          ]
        },
        {
          "output_type": "display_data",
          "data": {
            "image/png": "[encoded data removed]",
            "text/plain": [
              "<Figure size 2160x1800 with 2 Axes>"
            ]
          },
          "metadata": {
            "needs_background": "light"
          }
        }
      ]
    },
    {
      "cell_type": "code",
      "metadata": {
        "id": "fnFCAfpxTB3B"
      },
      "source": [
        "from sklearn.svm import LinearSVC\n",
        "n_classes = 3\n",
        "\n",
        "# shuffle and split training and test sets\n",
        "# classifier\n",
        "y_train = label_binarize(y_train, classes=[0,1,2])\n",
        "y_test = label_binarize(y_test, classes=[0,1,2])\n",
        "#clf = OneVsRestClassifier(LinearSVC(random_state=0)).fit(x_train, y_train)\n",
        "tahminlerimiz2 = model.predict(x_test)\n",
        "#lineer için y score\n",
        "  #y_score = model.decision_function(x_test)\n",
        "#knn için y score\n",
        "y_score = model.predict_proba(x_test)\n",
        "\n",
        "\n",
        "# Compute ROC curve and ROC area for each class\n",
        "fpr = dict()\n",
        "tpr = dict()\n",
        "roc_auc = dict()\n",
        "for i in range(n_classes):\n",
        "    fpr[i], tpr[i], _ = roc_curve(y_test[:, i], y_score[:, i])\n",
        "    roc_auc[i] = auc(fpr[i], tpr[i])\n",
        "# Plot of a ROC curve for a specific class\n",
        "for i in range(n_classes):\n",
        "    \n",
        "    plt.figure()\n",
        "    plt.plot(fpr[i], tpr[i], label='ROC curve (area = %0.2f)' % roc_auc[i])\n",
        "    plt.plot([0, 1], [0, 1], 'k--')\n",
        "    plt.xlim([0.0, 1.0])\n",
        "    plt.ylim([0.0, 1.05])\n",
        "    plt.xlabel('False Positive Rate')\n",
        "    plt.ylabel('True Positive Rate')\n",
        "    \n",
        "    plt.title(f'Receiver operating characteristic example -{i}')\n",
        "    plt.legend(loc=\"lower right\")\n",
        "    \n",
        "    plt.show()\n",
        "\n",
        "\n",
        "fpr[\"micro\"], tpr[\"micro\"], _ = roc_curve(y_test.ravel(), y_score.ravel())\n",
        "roc_auc[\"micro\"] = auc(fpr[\"micro\"], tpr[\"micro\"])\n",
        "all_fpr = np.unique(np.concatenate([fpr[i] for i in range(n_classes)]))\n",
        "\n",
        "# Then interpolate all ROC curves at this points\n",
        "mean_tpr = np.zeros_like(all_fpr)\n",
        "for i in range(n_classes):\n",
        "    mean_tpr += interp(all_fpr, fpr[i], tpr[i])\n",
        "\n",
        "# Finally average it and compute AUC\n",
        "mean_tpr /= n_classes\n",
        "\n",
        "fpr[\"macro\"] = all_fpr\n",
        "tpr[\"macro\"] = mean_tpr\n",
        "roc_auc[\"macro\"] = auc(fpr[\"macro\"], tpr[\"macro\"])\n",
        "\n",
        "# Plot all ROC curves bu değil\n",
        "plt.figure()\n",
        "plt.plot(fpr[\"micro\"], tpr[\"micro\"],\n",
        "         label='micro-average ROC curve (area = {0:0.2f})'\n",
        "              ''.format(roc_auc[\"micro\"]),\n",
        "         color='deeppink', linestyle=':', linewidth=4)\n",
        "\n",
        "plt.plot(fpr[\"macro\"], tpr[\"macro\"],\n",
        "        label='macro-average ROC curve (area = {0:0.2f})'\n",
        "              ''.format(roc_auc[\"macro\"]),\n",
        "         color='navy', linestyle=':', linewidth=4)\n",
        "\n",
        "colors = cycle(['aqua', 'darkorange', 'cornflowerblue'])\n",
        "for i, color in zip(range(n_classes), colors):\n",
        "    plt.plot(fpr[i], tpr[i], color=color, \n",
        "             label='ROC curve of class {0} (area = {1:0.2f})'\n",
        "             ''.format(i, roc_auc[i]))\n",
        "\n",
        "plt.plot([0, 1], [0, 1], 'k--')\n",
        "plt.xlim([0.0, 1.0])\n",
        "plt.ylim([0.0, 1.05])\n",
        "plt.xlabel('False Positive Rate')\n",
        "plt.ylabel('True Positive Rate')\n",
        "plt.title('Some extension of Receiver operating characteristic to multi-class')\n",
        "plt.legend(loc=\"lower right\")\n",
        "plt.rcParams[\"figure.figsize\"] = (20,15)\n",
        "plt.show()\n",
        "# plt.savefig('rocauclineer.png')"
      ],
      "execution_count": null,
      "outputs": []
    },
    {
      "cell_type": "markdown",
      "metadata": {
        "id": "GnG4uKWaGWOh"
      },
      "source": [
        "####dec tree feature importante\n"
      ]
    },
    {
      "cell_type": "code",
      "metadata": {
        "id": "xRniI6BNdgV4"
      },
      "source": [
        "from sklearn.datasets import make_regression\n",
        "from sklearn.tree import DecisionTreeRegressor\n",
        "from matplotlib import pyplot\n",
        "# define dataset\n",
        "# define the model\n",
        "model = DecisionTreeRegressor().fit(x_train,y_train)\n",
        "# fit the model\n",
        "# get importance\n",
        "importance = model.feature_importances_\n",
        "# summarize feature importance\n",
        "for i,v in enumerate(importance):\n",
        "  if v > 0.01:\n",
        "    #print('Feature: %0d, Score: %.5f' % (i,v))\n",
        "    print(i)\n",
        "\n",
        "# plot feature importance\n",
        "    \n",
        "pyplot.bar([x for x in range(len(importance))], importance)\n",
        "pyplot.rcParams[\"figure.figsize\"] = (30,25)\n",
        "pyplot.show()"
      ],
      "execution_count": null,
      "outputs": []
    },
    {
      "cell_type": "markdown",
      "metadata": {
        "id": "1IyKRCi2hb4L"
      },
      "source": [
        "# #**PROGRAM** "
      ]
    },
    {
      "cell_type": "code",
      "metadata": {
        "id": "0AqZRf2e87AJ"
      },
      "source": [
        "import joblib\n",
        "import librosa\n",
        "import os\n",
        "say = 0\n",
        "insann = 0\n",
        "dosyas = os.scandir('/content/drive/MyDrive/sesler/')\n",
        "for i in dosyas:\n",
        "  dosya_isim = i.name\n",
        "  say = say + 1\n",
        "  \n",
        "  x,sr = librosa.load('/content/drive/MyDrive/sesler/'  + dosya_isim )\n",
        "\n",
        "  mfccs=librosa.feature.melspectrogram(y=x, sr=sr)\n",
        "  mfccs_processed = np.mean(mfccs.T,axis=0)\n",
        "  result = np.array(mfccs_processed)\n",
        "  mfkkk = pd.DataFrame(result)\n",
        "  mfkkk = mfkkk.transpose()\n",
        "  mfkkk.to_csv(\"7li.csv\")\n",
        "  x_deneme = pd.read_csv(\"7li.csv\")\n",
        "  x_deneme = x_deneme.drop(\"Unnamed: 0\", axis=1)\n",
        "  x_deneme = x_deneme.values\n",
        "  \n",
        "  '''\n",
        "  x_deneme = x_deneme.transpose()\n",
        "  scaler = MinMaxScaler()\n",
        "  scaler.fit(x_deneme)\n",
        "  x_deneme = scaler.transform(x_deneme) \n",
        "  x_deneme = x_deneme.transpose()\n",
        "  '''\n",
        "\n",
        "  model1 = joblib.load('/content/drive/MyDrive/pkl/hayvan/knn40.pkl')\n",
        "\n",
        "  print(dosya_isim)\n",
        "  tahmin = model1.predict(x_deneme)\n",
        "  guven = model1.predict_proba(x_deneme)\n",
        "\n",
        "  print(\"tahmin\" , tahmin)\n",
        "  \n",
        "\n",
        "  "
      ],
      "execution_count": null,
      "outputs": []
    },
    {
      "cell_type": "code",
      "metadata": {
        "id": "ilsgAsYPsJwP",
        "outputId": "bed1654d-02fe-4bf8-b34e-f1d96a9f95b3",
        "colab": {
          "base_uri": "https://localhost:8080/"
        }
      },
      "source": [
        "x_deneme"
      ],
      "execution_count": null,
      "outputs": [
        {
          "output_type": "execute_result",
          "data": {
            "text/plain": [
              "array([[8.41244040e-01, 1.69961880e-01, 1.87049230e+00, 5.09173440e+00,\n",
              "        8.49971800e+00, 1.71536990e+00, 1.60583840e+00, 1.97257050e+00,\n",
              "        9.32418760e-01, 9.49157900e-01, 8.10443800e-01, 4.25786530e-01,\n",
              "        1.82612550e-01, 3.11865960e-01, 3.10046730e-01, 5.42308300e-01,\n",
              "        4.22831500e-01, 2.14083700e-01, 3.07777370e-01, 2.96417500e-01,\n",
              "        1.52057220e-01, 1.17408840e-01, 1.52248260e-01, 7.99154640e-02,\n",
              "        1.06356710e-01, 1.63067040e-01, 1.22847730e-01, 1.06192890e-01,\n",
              "        1.28036400e-01, 1.44649340e-01, 1.17990926e-01, 1.82582840e-01,\n",
              "        3.06976140e-01, 2.63754700e-01, 1.61268010e-01, 7.82533700e-02,\n",
              "        4.26376800e-02, 3.17143430e-02, 3.18422130e-02, 4.73014750e-02,\n",
              "        3.40608730e-02, 4.05543150e-02, 1.06514240e-01, 2.35627380e-01,\n",
              "        4.29259660e-01, 4.42489530e-01, 2.95618620e-01, 1.62028060e-01,\n",
              "        7.22510200e-02, 4.08904900e-02, 3.57253030e-02, 3.07897930e-02,\n",
              "        3.78775630e-02, 5.70810250e-02, 2.66897650e-01, 6.41785000e-01,\n",
              "        8.55447300e-01, 5.75878000e-01, 2.34959420e-01, 1.64189900e-01,\n",
              "        1.46041860e-01, 7.64882000e-02, 3.32091340e-02, 2.42493020e-02,\n",
              "        1.65333620e-02, 1.35547440e-02, 1.38232650e-02, 1.28673380e-02,\n",
              "        1.55757230e-02, 2.30594850e-02, 1.99778580e-02, 1.65555660e-02,\n",
              "        1.73456450e-02, 1.00003620e-02, 4.98599700e-03, 5.69901150e-03,\n",
              "        4.38499540e-03, 2.72168220e-03, 2.52058120e-03, 2.76456500e-03,\n",
              "        2.55840040e-03, 1.94679780e-03, 1.80321360e-03, 3.08214220e-03,\n",
              "        6.60579800e-03, 8.00504300e-03, 3.93165900e-03, 1.01566630e-03,\n",
              "        1.26192130e-03, 7.79028630e-04, 8.03863750e-04, 8.01373000e-04,\n",
              "        5.54567200e-04, 3.40749800e-04, 2.17249760e-04, 1.96069480e-04,\n",
              "        2.94235070e-04, 1.53901390e-04, 1.31515250e-04, 1.46586010e-04,\n",
              "        2.01465900e-04, 1.79654260e-04, 2.50688300e-04, 1.92110750e-04,\n",
              "        2.08869750e-04, 1.29159660e-04, 1.01227920e-04, 1.59625630e-04,\n",
              "        2.29131750e-04, 1.79524320e-04, 1.62667620e-04, 1.26783850e-04,\n",
              "        9.53284000e-05, 1.01000810e-04, 1.02011414e-04, 1.55759190e-04,\n",
              "        1.59075020e-04, 1.54389530e-04, 1.79051510e-04, 1.53767590e-04,\n",
              "        1.39850880e-04, 1.32737650e-04, 2.15560620e-04, 2.68394560e-04,\n",
              "        2.88100130e-04, 1.57860050e-04, 3.61242560e-05, 4.42751700e-06]])"
            ]
          },
          "metadata": {},
          "execution_count": 19
        }
      ]
    },
    {
      "cell_type": "code",
      "metadata": {
        "colab": {
          "base_uri": "https://localhost:8080/"
        },
        "id": "PvmaFApvr4jY",
        "outputId": "a5d81d9f-77d9-4d4d-9ba0-82e2a19a7efb"
      },
      "source": [
        "x_deneme"
      ],
      "execution_count": null,
      "outputs": [
        {
          "output_type": "execute_result",
          "data": {
            "text/plain": [
              "array([[-3.0423840e+02,  1.1948074e+02, -2.1520070e+01,  8.3621840e+00,\n",
              "         2.6501750e+01,  1.2010608e+01,  3.4003756e+00,  8.8683405e+00,\n",
              "         3.3489058e+00,  7.0221443e+00, -1.4630632e+00,  2.8285985e+00,\n",
              "        -1.1032096e+00,  2.6069940e+00,  6.1433430e-01,  3.8650568e+00,\n",
              "        -3.0650046e+00,  8.1847910e+00,  1.8328768e+00, -9.5803350e-01,\n",
              "        -9.3177650e+00,  1.9997787e-01,  6.2923610e-01,  6.2595660e+00,\n",
              "        -3.6553153e-01, -1.3278627e+00, -4.8900886e+00,  2.5291896e+00,\n",
              "        -2.5699700e+00,  1.4620478e-01, -6.9606805e-01,  2.9893346e+00,\n",
              "        -2.3906930e+00,  2.9527292e+00, -4.0618663e+00, -3.7784594e-01,\n",
              "        -3.7333634e+00,  1.3807368e+00, -2.9625032e+00,  1.1504841e+00,\n",
              "        -1.3539387e+00,  3.6434528e-01, -2.9744890e+00, -7.8447390e-01,\n",
              "        -1.6779953e+00,  2.3757048e+00, -7.0625037e-01,  2.2896110e+00,\n",
              "        -3.2533675e-01,  6.5784293e-01, -2.8007802e-01,  3.0718658e+00,\n",
              "        -4.0386653e-01,  5.3603350e-01,  4.9234566e-01,  2.7123904e-01,\n",
              "        -1.5896623e+00,  1.3955674e+00, -8.4515893e-01,  8.0390760e-01,\n",
              "         9.9077940e-01,  1.7397920e+00, -1.0323442e+00,  1.1916081e+00,\n",
              "         1.0521765e+00,  2.3643626e-01,  4.4454992e-01,  1.8151350e+00,\n",
              "         1.4244871e+00,  3.6906004e+00,  2.6269380e+00,  2.9938908e+00,\n",
              "         1.3217746e+00,  2.0501945e+00,  9.8677176e-01,  7.1406660e-01,\n",
              "         5.7795460e-01,  1.1733758e+00,  1.3723578e+00,  1.1773565e+00,\n",
              "         4.2003915e-01,  1.1105187e+00,  5.2617320e-02,  9.1991645e-01,\n",
              "         1.3624990e+00,  8.7975990e-01,  1.2263450e-01,  7.2530770e-01,\n",
              "         4.0715635e-01,  4.5720310e-01,  4.8971683e-01,  3.8578270e-01,\n",
              "         7.5112283e-01,  5.9425670e-01,  2.8334138e-01,  1.0573225e+00,\n",
              "         3.8205210e-01,  4.6076986e-01,  5.3949310e-01,  4.0533626e-01,\n",
              "        -1.9651335e-01,  4.5523757e-01,  2.1531424e-01,  5.0164680e-01,\n",
              "         1.0204717e+00,  3.8468290e-01, -8.9368110e-02,  1.9475536e-01,\n",
              "         4.7752740e-01,  3.3648288e-01,  1.9872488e-01,  5.3793240e-01,\n",
              "         6.6638060e-01,  4.9552283e-01, -1.3085534e-01,  3.2402036e-01,\n",
              "         3.9874040e-01,  5.6047170e-01,  1.0903686e-01, -3.9148636e-02,\n",
              "        -3.4542513e-01, -3.8171503e-01,  3.1096885e-01,  7.4805030e-02,\n",
              "        -1.9023548e-01,  3.0528344e-02,  2.1842021e-02, -4.8827805e-02]])"
            ]
          },
          "metadata": {},
          "execution_count": 17
        }
      ]
    },
    {
      "cell_type": "code",
      "metadata": {
        "id": "eOuJxa9Tq9yr"
      },
      "source": [
        "import joblib\n",
        "import librosa\n",
        "import os\n",
        "say = 0\n",
        "insann = 0\n",
        "dosyas = os.scandir('/content/drive/MyDrive/sesler/')\n",
        "for i in dosyas:\n",
        "  dosya_isim = i.name\n",
        "  say = say + 1\n",
        "  \n",
        "  x,sr = librosa.load('/content/drive/MyDrive/sesler/'  + dosya_isim )\n",
        "  print(\"x type:\",type(x),\"sr type\",type(sr))\n",
        "  print(x.shape,sr)\n",
        "  mfccs=librosa.feature.mfcc(y=x, sr=sr,n_mfcc=40)\n",
        "  mfccs_processed = np.mean(mfccs.T,axis=0)\n",
        "  result = np.array(mfccs_processed)\n",
        "  mfkkk = pd.DataFrame(result)\n",
        "\n",
        "  mfkkk = mfkkk.transpose()\n",
        "\n",
        "  print(mfkkk)\n",
        "\n",
        "\n",
        "\n",
        "  print(dosya_isim)\n",
        "  tahmin = model1.predict(mfkkk)\n",
        "  guven = model1.predict_proba(mfkkk)\n",
        "  print(\"guven degerleri : \" , guven)\n",
        "  print(\"tahmin\" , tahmin)\n",
        "  print(say)\n",
        "  # if tahmin == [3]:\n",
        "  #   insann = insann + 1\n",
        "  # print(insann)\n"
      ],
      "execution_count": null,
      "outputs": []
    },
    {
      "cell_type": "code",
      "metadata": {
        "id": "ufCOVBGWrFc6"
      },
      "source": [
        "import joblib\n",
        "import librosa\n",
        "import os\n",
        "say = 0\n",
        "insann = 0\n",
        "dosyas = os.scandir('/content/drive/MyDrive/sesler/')\n",
        "for i in dosyas:\n",
        "  dosya_isim = i.name\n",
        "  say = say + 1\n",
        "  \n",
        "  x,sr = librosa.load('/content/drive/MyDrive/sesler/'  + dosya_isim )\n",
        "\n",
        "  mfccs=librosa.feature.mfcc(y=x, sr=sr,n_mfcc=40)\n",
        "  mfccs_processed = np.mean(mfccs.T,axis=0)\n",
        "  result = np.array(mfccs_processed)\n",
        "  mfkkk = pd.DataFrame(result)\n",
        "  mfkkk = mfkkk.transpose()\n",
        "  mfkkk.to_csv(\"7li.csv\")\n",
        "  x_deneme = pd.read_csv(\"7li.csv\")\n",
        "  x_deneme = x_deneme.drop(\"Unnamed: 0\", axis=1)\n",
        "  x_deneme = x_deneme.values\n",
        "\n",
        "  x_deneme = x_deneme.transpose()\n",
        "  scaler = MinMaxScaler()\n",
        "  scaler.fit(x_deneme)\n",
        "  x_deneme = scaler.transform(x_deneme) \n",
        "  x_deneme = x_deneme.transpose()\n",
        "\n",
        "\n",
        "  print(dosya_isim)\n",
        "  tahmin = model.predict(x_deneme)\n",
        "  guven = model.predict_proba(x_deneme)\n",
        "\n",
        "  print(\"tahmin\" , tahmin)\n",
        "  \n",
        "\n",
        "  "
      ],
      "execution_count": null,
      "outputs": []
    },
    {
      "cell_type": "code",
      "metadata": {
        "id": "vqXSM-ksU91b"
      },
      "source": [
        "svms = [0,1,2,3,4,5,6,7,8,9,10,11,12,13,14,15,16,17,18,19,20,21,22,24,25,26,28,29,30,31,32,34,36,37,38,39,40,41,42,43,44,45,46,47,50,51,52,53,54,56,57,58,60,61,62,63,64,66,69,70,71,72,73,74,75,78,79,80,82,83,84,85,86,88,89,90,91,94,95,96,100,102,103,104,105,106,107,108,111,112,113,114,115,116,118,119,120,121,124,125,126]"
      ],
      "execution_count": null,
      "outputs": []
    },
    {
      "cell_type": "code",
      "metadata": {
        "id": "8F7pZN05IfE5"
      },
      "source": [
        "svms1 = [0, 1, 2, 3, 4, 5, 6, 7, 8, 9, 10, 11, 12, 13, 14, 15, 16, 17, 18, 19, 20, 21, 22, 23, 24, 25, 26, 27, 29, 30, 31, 32, 33, 34, 35, 36, 37, 38, 39, 41, 42, 43, 44, 45, 46, 47, 50, 51, 53, 54, 56, 58, 59, 60, 62, 63, 65, 67, 69, 73, 74, 76, 81, 84, 85, 86, 89, 92, 93, 98, 101, 102, 106, 108, 110, 111, 114, 116, 118, 120, 122, 124, 127]"
      ],
      "execution_count": null,
      "outputs": []
    },
    {
      "cell_type": "code",
      "metadata": {
        "id": "ScxbrjMXH-Gp"
      },
      "source": [
        "knn = [1, 2, 3, 5, 8, 9, 10, 11, 13, 14, 22, 31, 63, 69, 72, 81, 90, 91, 101, 109, 112]"
      ],
      "execution_count": null,
      "outputs": []
    },
    {
      "cell_type": "code",
      "metadata": {
        "id": "zSEF4LREhjBr",
        "colab": {
          "base_uri": "https://localhost:8080/"
        },
        "outputId": "898745f6-71eb-4f00-cd87-bba2b7a716bc"
      },
      "source": [
        "import joblib\n",
        "import librosa\n",
        "import os\n",
        "\n",
        "\n",
        "x,sr = librosa.load('/content/drive/MyDrive/Dataguncel/200adetwav/file10.wav')\n",
        "print(\"x type:\",type(x),\"sr type\",type(sr))\n",
        "print(x.shape,sr)\n",
        "mfccs=librosa.feature.mfcc(y=x, sr=sr, n_mfcc=200)\n",
        "mfccs_processed = np.mean(mfccs.T,axis=0)\n",
        "result = np.array(mfccs_processed)\n",
        "mfkkk = pd.DataFrame(result)\n",
        "mfkkk = mfkkk.transpose()\n",
        "mfkkks = mfkkk.loc[:,svms].values\n",
        "scaler = MinMaxScaler()\n",
        "scaler.fit(mfkkks.T)\n",
        "x_deneme1 = scaler.transform(mfkkks)\n",
        "model1 = joblib.load('/content/drive/MyDrive/pkl/insanmi/svmlineer.pkl')\n",
        "mfkkks = mfkkk.loc[:,svms1].values\n",
        "scaler = MinMaxScaler()\n",
        "scaler.fit(mfkkks.T)\n",
        "x_deneme2 = scaler.transform(mfkkks)\n",
        "model2 = joblib.load('/content/drive/MyDrive/pkl/insan/svmlineer.pkl')\n",
        "mfkkks = mfkkk.loc[:,knn].values\n",
        "scaler = MinMaxScaler()\n",
        "scaler.fit(mfkkks.T)\n",
        "x_deneme3 = scaler.transform(mfkkks)\n",
        "model3 = joblib.load('/content/drive/MyDrive/pkl/hayvan/svmlineer.pkl')\n",
        "\n",
        "\n",
        "tahmin = model2.predict(x_deneme2)\n",
        "guven = model2.predict_proba(x_deneme2)\n",
        "print(\"guven degerleri : \" , guven)\n",
        "print(\"tahmin\" , tahmin)\n"
      ],
      "execution_count": null,
      "outputs": [
        {
          "output_type": "stream",
          "name": "stdout",
          "text": [
            "x type: <class 'numpy.ndarray'> sr type <class 'int'>\n",
            "(58742,) 22050\n",
            "guven degerleri :  [[0.00285474 0.06134986 0.00824089 0.92755451]]\n",
            "tahmin [4]\n"
          ]
        }
      ]
    },
    {
      "cell_type": "code",
      "metadata": {
        "colab": {
          "base_uri": "https://localhost:8080/"
        },
        "id": "TCz6pqh-de8d",
        "outputId": "30579bca-0fdb-45a1-c5ae-56b3461edaaf"
      },
      "source": [
        "print(x_deneme)"
      ],
      "execution_count": null,
      "outputs": [
        {
          "output_type": "stream",
          "name": "stdout",
          "text": [
            "[[0.99999994 0.09173034 0.30136752 0.26530406 0.         0.19372894\n",
            "  0.21012692 0.17119822 0.1288477  0.2076078  0.14689754 0.14907883\n",
            "  0.1623674  0.1591004  0.16190755 0.1598583  0.16479787 0.16125722\n",
            "  0.1653069  0.1652564  0.15910855]]\n"
          ]
        }
      ]
    },
    {
      "cell_type": "code",
      "metadata": {
        "id": "wu2E4LTOVMCO"
      },
      "source": [
        "mfkkk = mfkkk.drop(0, axis=1)\n"
      ],
      "execution_count": null,
      "outputs": []
    },
    {
      "cell_type": "code",
      "metadata": {
        "colab": {
          "base_uri": "https://localhost:8080/",
          "height": 127
        },
        "id": "ko7r1SZOXibc",
        "outputId": "16ed6121-6af3-410c-a4d6-1de24eb21c7f"
      },
      "source": [
        "mfkkk"
      ],
      "execution_count": null,
      "outputs": [
        {
          "output_type": "execute_result",
          "data": {
            "text/html": [
              "<div>\n",
              "<style scoped>\n",
              "    .dataframe tbody tr th:only-of-type {\n",
              "        vertical-align: middle;\n",
              "    }\n",
              "\n",
              "    .dataframe tbody tr th {\n",
              "        vertical-align: top;\n",
              "    }\n",
              "\n",
              "    .dataframe thead th {\n",
              "        text-align: right;\n",
              "    }\n",
              "</style>\n",
              "<table border=\"1\" class=\"dataframe\">\n",
              "  <thead>\n",
              "    <tr style=\"text-align: right;\">\n",
              "      <th></th>\n",
              "      <th>1</th>\n",
              "      <th>2</th>\n",
              "      <th>3</th>\n",
              "      <th>4</th>\n",
              "      <th>5</th>\n",
              "      <th>6</th>\n",
              "      <th>7</th>\n",
              "      <th>8</th>\n",
              "      <th>9</th>\n",
              "      <th>10</th>\n",
              "      <th>11</th>\n",
              "      <th>12</th>\n",
              "      <th>13</th>\n",
              "      <th>14</th>\n",
              "      <th>15</th>\n",
              "      <th>16</th>\n",
              "      <th>17</th>\n",
              "      <th>18</th>\n",
              "      <th>19</th>\n",
              "      <th>20</th>\n",
              "      <th>21</th>\n",
              "      <th>22</th>\n",
              "      <th>23</th>\n",
              "      <th>24</th>\n",
              "      <th>25</th>\n",
              "      <th>26</th>\n",
              "      <th>27</th>\n",
              "      <th>28</th>\n",
              "      <th>29</th>\n",
              "      <th>30</th>\n",
              "      <th>31</th>\n",
              "      <th>32</th>\n",
              "      <th>33</th>\n",
              "      <th>34</th>\n",
              "      <th>35</th>\n",
              "      <th>36</th>\n",
              "      <th>37</th>\n",
              "      <th>38</th>\n",
              "      <th>39</th>\n",
              "      <th>40</th>\n",
              "      <th>...</th>\n",
              "      <th>88</th>\n",
              "      <th>89</th>\n",
              "      <th>90</th>\n",
              "      <th>91</th>\n",
              "      <th>92</th>\n",
              "      <th>93</th>\n",
              "      <th>94</th>\n",
              "      <th>95</th>\n",
              "      <th>96</th>\n",
              "      <th>97</th>\n",
              "      <th>98</th>\n",
              "      <th>99</th>\n",
              "      <th>100</th>\n",
              "      <th>101</th>\n",
              "      <th>102</th>\n",
              "      <th>103</th>\n",
              "      <th>104</th>\n",
              "      <th>105</th>\n",
              "      <th>106</th>\n",
              "      <th>107</th>\n",
              "      <th>108</th>\n",
              "      <th>109</th>\n",
              "      <th>110</th>\n",
              "      <th>111</th>\n",
              "      <th>112</th>\n",
              "      <th>113</th>\n",
              "      <th>114</th>\n",
              "      <th>115</th>\n",
              "      <th>116</th>\n",
              "      <th>117</th>\n",
              "      <th>118</th>\n",
              "      <th>119</th>\n",
              "      <th>120</th>\n",
              "      <th>121</th>\n",
              "      <th>122</th>\n",
              "      <th>123</th>\n",
              "      <th>124</th>\n",
              "      <th>125</th>\n",
              "      <th>126</th>\n",
              "      <th>127</th>\n",
              "    </tr>\n",
              "  </thead>\n",
              "  <tbody>\n",
              "    <tr>\n",
              "      <th>0</th>\n",
              "      <td>98.418793</td>\n",
              "      <td>14.80882</td>\n",
              "      <td>36.319977</td>\n",
              "      <td>13.295389</td>\n",
              "      <td>12.649642</td>\n",
              "      <td>5.457418</td>\n",
              "      <td>12.092113</td>\n",
              "      <td>6.19992</td>\n",
              "      <td>6.575182</td>\n",
              "      <td>8.931114</td>\n",
              "      <td>3.384237</td>\n",
              "      <td>2.509727</td>\n",
              "      <td>-5.218679</td>\n",
              "      <td>4.53648</td>\n",
              "      <td>4.597543</td>\n",
              "      <td>1.050481</td>\n",
              "      <td>2.872405</td>\n",
              "      <td>1.115057</td>\n",
              "      <td>-0.447514</td>\n",
              "      <td>2.732805</td>\n",
              "      <td>1.774002</td>\n",
              "      <td>-3.074942</td>\n",
              "      <td>-0.06867</td>\n",
              "      <td>-0.876038</td>\n",
              "      <td>-1.688184</td>\n",
              "      <td>-1.500575</td>\n",
              "      <td>-0.355561</td>\n",
              "      <td>-3.338408</td>\n",
              "      <td>-2.96632</td>\n",
              "      <td>0.163516</td>\n",
              "      <td>-2.554727</td>\n",
              "      <td>-1.817502</td>\n",
              "      <td>-1.869463</td>\n",
              "      <td>-2.701489</td>\n",
              "      <td>-1.869516</td>\n",
              "      <td>0.206172</td>\n",
              "      <td>-1.568805</td>\n",
              "      <td>-1.940702</td>\n",
              "      <td>-1.020984</td>\n",
              "      <td>-2.86059</td>\n",
              "      <td>...</td>\n",
              "      <td>-1.126859</td>\n",
              "      <td>-0.798531</td>\n",
              "      <td>-0.262897</td>\n",
              "      <td>-0.315108</td>\n",
              "      <td>-0.534959</td>\n",
              "      <td>-0.669829</td>\n",
              "      <td>-0.860418</td>\n",
              "      <td>-0.526031</td>\n",
              "      <td>-0.454405</td>\n",
              "      <td>-0.657538</td>\n",
              "      <td>-0.775202</td>\n",
              "      <td>-0.885629</td>\n",
              "      <td>-0.823023</td>\n",
              "      <td>-0.646886</td>\n",
              "      <td>-0.689895</td>\n",
              "      <td>-0.131228</td>\n",
              "      <td>0.17312</td>\n",
              "      <td>0.048013</td>\n",
              "      <td>-0.213329</td>\n",
              "      <td>-0.433188</td>\n",
              "      <td>-0.118479</td>\n",
              "      <td>-0.340897</td>\n",
              "      <td>0.008407</td>\n",
              "      <td>0.150289</td>\n",
              "      <td>-0.426463</td>\n",
              "      <td>0.112463</td>\n",
              "      <td>0.413458</td>\n",
              "      <td>0.135807</td>\n",
              "      <td>0.058893</td>\n",
              "      <td>-0.011802</td>\n",
              "      <td>0.306946</td>\n",
              "      <td>0.290487</td>\n",
              "      <td>-0.086823</td>\n",
              "      <td>-0.096235</td>\n",
              "      <td>0.152478</td>\n",
              "      <td>0.379221</td>\n",
              "      <td>0.138829</td>\n",
              "      <td>0.155964</td>\n",
              "      <td>0.456702</td>\n",
              "      <td>0.320184</td>\n",
              "    </tr>\n",
              "  </tbody>\n",
              "</table>\n",
              "<p>1 rows × 127 columns</p>\n",
              "</div>"
            ],
            "text/plain": [
              "         1         2          3    ...       125       126       127\n",
              "0  98.418793  14.80882  36.319977  ...  0.155964  0.456702  0.320184\n",
              "\n",
              "[1 rows x 127 columns]"
            ]
          },
          "metadata": {},
          "execution_count": 252
        }
      ]
    },
    {
      "cell_type": "code",
      "metadata": {
        "id": "KOFCCSBwqofS"
      },
      "source": [
        ""
      ],
      "execution_count": null,
      "outputs": []
    },
    {
      "cell_type": "code",
      "metadata": {
        "id": "SJxXNC8GCvA8"
      },
      "source": [
        "import joblib\n",
        "import librosa\n",
        "import os\n",
        "say = 0\n",
        "insann = 0\n",
        "dosyas = os.scandir('/content/drive/MyDrive/sesler/')\n",
        "for i in dosyas:\n",
        "  dosya_isim = i.name\n",
        "  say = say + 1\n",
        "  \n",
        "  x,sr = librosa.load('/content/drive/MyDrive/sesler/'  + dosya_isim )\n",
        "  print(\"x type:\",type(x),\"sr type\",type(sr))\n",
        "  print(x.shape,sr)\n",
        "  mfccs=librosa.feature.mfcc(y=x, sr=sr,n_mfcc=40)\n",
        "  mfccs_processed = np.mean(mfccs.T,axis=0)\n",
        "  result = np.array(mfccs_processed)\n",
        "  mfkkk = pd.DataFrame(result)\n",
        "\n",
        "  mfkkk = mfkkk.transpose()\n",
        "\n",
        "  print(mfkkk)\n",
        "\n",
        "\n",
        "\n",
        "  print(dosya_isim)\n",
        "  tahmin = model.predict(mfkkk)\n",
        "  guven = model.predict_proba(mfkkk)\n",
        "  print(\"guven degerleri : \" , guven)\n",
        "  print(\"tahmin\" , tahmin)\n",
        "  print(say)\n",
        "  # if tahmin == [3]:\n",
        "  #   insann = insann + 1\n",
        "  # print(insann)\n"
      ],
      "execution_count": null,
      "outputs": []
    }
  ]
}